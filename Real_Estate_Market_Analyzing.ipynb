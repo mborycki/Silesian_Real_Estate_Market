{
 "cells": [
  {
   "cell_type": "markdown",
   "metadata": {
    "toc": true
   },
   "source": [
    "<h1>Table of Contents<span class=\"tocSkip\"></span></h1>\n",
    "<div class=\"toc\"><ul class=\"toc-item\"><li><span><a href=\"#Data-Cleaning-and-Transformation:\" data-toc-modified-id=\"Data-Cleaning-and-Transformation:-1\"><span class=\"toc-item-num\">1&nbsp;&nbsp;</span>Data Cleaning and Transformation:</a></span><ul class=\"toc-item\"><li><span><a href=\"#Translate-column-names-to-English:\" data-toc-modified-id=\"Translate-column-names-to-English:-1.1\"><span class=\"toc-item-num\">1.1&nbsp;&nbsp;</span>Translate column names to English:</a></span></li><li><span><a href=\"#Create-a-column-specifying-type-of-offer:-For-Sale-or-For-Rent:\" data-toc-modified-id=\"Create-a-column-specifying-type-of-offer:-For-Sale-or-For-Rent:-1.2\"><span class=\"toc-item-num\">1.2&nbsp;&nbsp;</span>Create a column specifying type of offer: For Sale or For Rent:</a></span></li><li><span><a href=\"#Create-a-new-dataframe-before-I-start-to-do-more-changes\" data-toc-modified-id=\"Create-a-new-dataframe-before-I-start-to-do-more-changes-1.3\"><span class=\"toc-item-num\">1.3&nbsp;&nbsp;</span>Create a new dataframe before I start to do more changes</a></span></li><li><span><a href=\"#Remove-unnecessary-columns-with-website-link-and-information-about-loans\" data-toc-modified-id=\"Remove-unnecessary-columns-with-website-link-and-information-about-loans-1.4\"><span class=\"toc-item-num\">1.4&nbsp;&nbsp;</span>Remove unnecessary columns with website link and information about loans</a></span></li><li><span><a href=\"#Create-a-column-with-cities-using-polish-characters\" data-toc-modified-id=\"Create-a-column-with-cities-using-polish-characters-1.5\"><span class=\"toc-item-num\">1.5&nbsp;&nbsp;</span>Create a column with cities using polish characters</a></span></li><li><span><a href=\"#Add-districts\" data-toc-modified-id=\"Add-districts-1.6\"><span class=\"toc-item-num\">1.6&nbsp;&nbsp;</span>Add districts</a></span></li><li><span><a href=\"#Is-there-possibility-to-negotiate-a-price?\" data-toc-modified-id=\"Is-there-possibility-to-negotiate-a-price?-1.7\"><span class=\"toc-item-num\">1.7&nbsp;&nbsp;</span>Is there possibility to negotiate a price?</a></span></li><li><span><a href=\"#Create-a-function-which-remove-unnecessary-text-from-chosen-column-and-keep-just-the-first-value\" data-toc-modified-id=\"Create-a-function-which-remove-unnecessary-text-from-chosen-column-and-keep-just-the-first-value-1.8\"><span class=\"toc-item-num\">1.8&nbsp;&nbsp;</span>Create a function which remove unnecessary text from chosen column and keep just the first value</a></span></li><li><span><a href=\"#Remove-empty-spaces-in-the-first-two-columns\" data-toc-modified-id=\"Remove-empty-spaces-in-the-first-two-columns-1.9\"><span class=\"toc-item-num\">1.9&nbsp;&nbsp;</span>Remove empty spaces in the first two columns</a></span></li><li><span><a href=\"#Change-values-in-Bedrooms-column\" data-toc-modified-id=\"Change-values-in-Bedrooms-column-1.10\"><span class=\"toc-item-num\">1.10&nbsp;&nbsp;</span>Change values in Bedrooms column</a></span></li><li><span><a href=\"#Keep-integer-values-in-the-&quot;Floor&quot;-and-&quot;Furnishings&quot;-columns\" data-toc-modified-id=\"Keep-integer-values-in-the-&quot;Floor&quot;-and-&quot;Furnishings&quot;-columns-1.11\"><span class=\"toc-item-num\">1.11&nbsp;&nbsp;</span>Keep integer values in the \"Floor\" and \"Furnishings\" columns</a></span></li></ul></li><li><span><a href=\"#Data-Preparation:\" data-toc-modified-id=\"Data-Preparation:-2\"><span class=\"toc-item-num\">2&nbsp;&nbsp;</span>Data Preparation:</a></span><ul class=\"toc-item\"><li><span><a href=\"#Create-two-separate-tables-(for-rent-/-for-sale):\" data-toc-modified-id=\"Create-two-separate-tables-(for-rent-/-for-sale):-2.1\"><span class=\"toc-item-num\">2.1&nbsp;&nbsp;</span>Create two separate tables (for rent / for sale):</a></span></li><li><span><a href=\"#Remove-unnecessary-columns\" data-toc-modified-id=\"Remove-unnecessary-columns-2.2\"><span class=\"toc-item-num\">2.2&nbsp;&nbsp;</span>Remove unnecessary columns</a></span></li><li><span><a href=\"#Change-data-types---'object'-to-'float'---for-columns-with-numbers.\" data-toc-modified-id=\"Change-data-types---'object'-to-'float'---for-columns-with-numbers.-2.3\"><span class=\"toc-item-num\">2.3&nbsp;&nbsp;</span>Change data types - 'object' to 'float' - for columns with numbers.</a></span></li><li><span><a href=\"#Create-final-price-for-rent-properties\" data-toc-modified-id=\"Create-final-price-for-rent-properties-2.4\"><span class=\"toc-item-num\">2.4&nbsp;&nbsp;</span>Create final price for rent properties</a></span></li><li><span><a href=\"#Choose-Types-of-Building-we-use-in-the-analysis\" data-toc-modified-id=\"Choose-Types-of-Building-we-use-in-the-analysis-2.5\"><span class=\"toc-item-num\">2.5&nbsp;&nbsp;</span>Choose Types of Building we use in the analysis</a></span></li><li><span><a href=\"#Price-per-square-meter\" data-toc-modified-id=\"Price-per-square-meter-2.6\"><span class=\"toc-item-num\">2.6&nbsp;&nbsp;</span>Price per square meter</a></span></li><li><span><a href=\"#Show-on-a-map-where-are-located-our-cities\" data-toc-modified-id=\"Show-on-a-map-where-are-located-our-cities-2.7\"><span class=\"toc-item-num\">2.7&nbsp;&nbsp;</span>Show on a map where are located our cities</a></span></li><li><span><a href=\"#Distance-between-cities\" data-toc-modified-id=\"Distance-between-cities-2.8\"><span class=\"toc-item-num\">2.8&nbsp;&nbsp;</span>Distance between cities</a></span></li></ul></li></ul></div>"
   ]
  },
  {
   "cell_type": "code",
   "execution_count": null,
   "metadata": {},
   "outputs": [],
   "source": [
    "import pandas as pd\n",
    "import numpy as np\n",
    "from matplotlib import pyplot as plt"
   ]
  },
  {
   "cell_type": "code",
   "execution_count": null,
   "metadata": {},
   "outputs": [],
   "source": [
    "url = 'https://raw.githubusercontent.com/mborycki/Silesian_Real_Estate_Market/master'\n",
    "olx_link = f'{url}/OLX_Offers.csv'\n",
    "location_list = f'{url}/locations.txt'"
   ]
  },
  {
   "cell_type": "code",
   "execution_count": null,
   "metadata": {},
   "outputs": [],
   "source": [
    "olx_df = pd.read_csv(olx_link)"
   ]
  },
  {
   "cell_type": "code",
   "execution_count": null,
   "metadata": {},
   "outputs": [],
   "source": [
    "olx_df.columns"
   ]
  },
  {
   "cell_type": "code",
   "execution_count": null,
   "metadata": {},
   "outputs": [],
   "source": [
    "olx_df.shape"
   ]
  },
  {
   "cell_type": "code",
   "execution_count": null,
   "metadata": {
    "scrolled": true
   },
   "outputs": [],
   "source": [
    "olx_df.head()"
   ]
  },
  {
   "cell_type": "markdown",
   "metadata": {},
   "source": [
    "## Data Cleaning and Transformation:"
   ]
  },
  {
   "cell_type": "markdown",
   "metadata": {},
   "source": [
    "### Translate column names to English:"
   ]
  },
  {
   "cell_type": "code",
   "execution_count": null,
   "metadata": {},
   "outputs": [],
   "source": [
    "olx_df.rename(columns={\n",
    "    'Cena': 'Price',\n",
    "    'Cena za m²': 'PriceSqM',\n",
    "    'Czynsz (dodatkowo)': 'MonthlyRent',\n",
    "    'Finanse': 'Finances',\n",
    "    'Liczba pokoi': 'Bedrooms',\n",
    "    'Miejsce': 'Place',\n",
    "    'Oferta od': 'Advert_Owner',\n",
    "    'Powierzchnia': 'SqM',\n",
    "    'Poziom': 'Floor',\n",
    "    'Rodzaj zabudowy': 'BuildingType',\n",
    "    'Rynek': 'Market',\n",
    "    'Umeblowane': 'Furnishings',\n",
    "    'Miasto': 'City'\n",
    "},\n",
    "              inplace=True)"
   ]
  },
  {
   "cell_type": "code",
   "execution_count": null,
   "metadata": {},
   "outputs": [],
   "source": [
    "olx_df.head(2)"
   ]
  },
  {
   "cell_type": "code",
   "execution_count": null,
   "metadata": {},
   "outputs": [],
   "source": [
    "olx_df.Advert_Owner.replace(['Osoby prywatnej', 'Biuro / Deweloper'],\n",
    "                            ['Developer', 'Private'],\n",
    "                            inplace=True)\n",
    "olx_df.Advert_Owner.unique()"
   ]
  },
  {
   "cell_type": "code",
   "execution_count": null,
   "metadata": {},
   "outputs": [],
   "source": [
    "olx_df.BuildingType.replace([\n",
    "    'Apartamentowiec', 'Blok', 'Dom wolnostojący', 'Kamienica', 'Pozostałe',\n",
    "    'Loft', 'Szeregowiec'\n",
    "], ['Apartment', 'Flat', 'House', 'Tenement', 'Other', 'Loft', 'Townhouse'],\n",
    "                            inplace=True)\n",
    "olx_df.BuildingType.unique()"
   ]
  },
  {
   "cell_type": "code",
   "execution_count": null,
   "metadata": {},
   "outputs": [],
   "source": [
    "olx_df.Market.replace(['Wtórny', 'Pierwotny'], ['After', 'Primary'],\n",
    "                      inplace=True)\n",
    "olx_df.Market.unique()"
   ]
  },
  {
   "cell_type": "code",
   "execution_count": null,
   "metadata": {},
   "outputs": [],
   "source": [
    "olx_df.head(2)"
   ]
  },
  {
   "cell_type": "markdown",
   "metadata": {},
   "source": [
    "### Create a column specifying type of offer: For Sale or For Rent:"
   ]
  },
  {
   "cell_type": "code",
   "execution_count": null,
   "metadata": {},
   "outputs": [],
   "source": [
    "olx_df['OfferType'] = np.where(olx_df['MonthlyRent'].isnull(), 'For_Sale',\n",
    "                               'For_Rent')"
   ]
  },
  {
   "cell_type": "markdown",
   "metadata": {},
   "source": [
    "### Create a new dataframe before I start to do more changes"
   ]
  },
  {
   "cell_type": "code",
   "execution_count": null,
   "metadata": {},
   "outputs": [],
   "source": [
    "olx_table = olx_df.copy()"
   ]
  },
  {
   "cell_type": "markdown",
   "metadata": {},
   "source": [
    "### Remove unnecessary columns with website link and information about loans "
   ]
  },
  {
   "cell_type": "code",
   "execution_count": null,
   "metadata": {},
   "outputs": [],
   "source": [
    "olx_table.drop(columns={'Finances'}, axis=1, inplace=True)"
   ]
  },
  {
   "cell_type": "code",
   "execution_count": null,
   "metadata": {
    "scrolled": true
   },
   "outputs": [],
   "source": [
    "olx_table.head(2)"
   ]
  },
  {
   "cell_type": "markdown",
   "metadata": {},
   "source": [
    "### Create a column with cities using polish characters "
   ]
  },
  {
   "cell_type": "code",
   "execution_count": null,
   "metadata": {},
   "outputs": [],
   "source": [
    "olx_table['City2'] = olx_table['Place'].str.split(',').str[0]"
   ]
  },
  {
   "cell_type": "code",
   "execution_count": null,
   "metadata": {},
   "outputs": [],
   "source": [
    "olx_table.head(2)"
   ]
  },
  {
   "cell_type": "code",
   "execution_count": null,
   "metadata": {},
   "outputs": [],
   "source": [
    "olx_table.City2.unique()"
   ]
  },
  {
   "cell_type": "code",
   "execution_count": null,
   "metadata": {},
   "outputs": [],
   "source": [
    "# We have some 'no data' records so in that cases let's use city names used in during scraping process (with capitalize func)\n",
    "olx_table['City2'] = np.where(olx_table['City2'] == 'no data',\n",
    "                              olx_table['City'].str.capitalize(),\n",
    "                              olx_table['City2'])"
   ]
  },
  {
   "cell_type": "code",
   "execution_count": null,
   "metadata": {},
   "outputs": [],
   "source": [
    "olx_table.City2.unique()"
   ]
  },
  {
   "cell_type": "code",
   "execution_count": null,
   "metadata": {},
   "outputs": [],
   "source": [
    "olx_table.drop(columns={'City'}, inplace=True)"
   ]
  },
  {
   "cell_type": "code",
   "execution_count": null,
   "metadata": {},
   "outputs": [],
   "source": [
    "olx_table.rename(columns={'City2': 'City'}, inplace=True)"
   ]
  },
  {
   "cell_type": "markdown",
   "metadata": {},
   "source": [
    "### Add districts\n",
    "\n",
    "As it is one of the biggest reason of having different price in the same city  "
   ]
  },
  {
   "cell_type": "code",
   "execution_count": null,
   "metadata": {},
   "outputs": [],
   "source": [
    "def DistrictA(tbl):\n",
    "    return tbl['Place'].str.split().str[-1]"
   ]
  },
  {
   "cell_type": "code",
   "execution_count": null,
   "metadata": {},
   "outputs": [],
   "source": [
    "def DistrictB(tbl):\n",
    "    return tbl['Place'].str.split(\n",
    "        ',').str[0] + ', ' + tbl['Place'].str.split().str[-1]"
   ]
  },
  {
   "cell_type": "code",
   "execution_count": null,
   "metadata": {},
   "outputs": [],
   "source": [
    "olx_table['District'] = DistrictA(olx_table)"
   ]
  },
  {
   "cell_type": "code",
   "execution_count": null,
   "metadata": {},
   "outputs": [],
   "source": [
    "olx_table['District'] = np.where(olx_table['District'] == 'Śląskie',\n",
    "                                 olx_table.City, olx_table.District)"
   ]
  },
  {
   "cell_type": "code",
   "execution_count": null,
   "metadata": {},
   "outputs": [],
   "source": [
    "olx_table['District'] = np.where(olx_table['District'] == olx_table.City,\n",
    "                                 olx_table.City, DistrictB(olx_table))\n",
    "olx_table['District'] = np.where(olx_table['District'] == 'no data, data',\n",
    "                                 olx_table['City'], olx_table['District'])"
   ]
  },
  {
   "cell_type": "code",
   "execution_count": null,
   "metadata": {},
   "outputs": [],
   "source": [
    "olx_table.District.sort_values().unique()"
   ]
  },
  {
   "cell_type": "markdown",
   "metadata": {},
   "source": [
    "### Is there possibility to negotiate a price?"
   ]
  },
  {
   "cell_type": "code",
   "execution_count": null,
   "metadata": {},
   "outputs": [],
   "source": [
    "olx_table['Negotiating'] = np.where(\n",
    "    olx_table.Price.str.contains('Do negocjacji'), 1, 0)"
   ]
  },
  {
   "cell_type": "code",
   "execution_count": null,
   "metadata": {
    "scrolled": true
   },
   "outputs": [],
   "source": [
    "olx_table.head()"
   ]
  },
  {
   "cell_type": "markdown",
   "metadata": {},
   "source": [
    "### Create a function which remove unnecessary text from chosen column and keep just the first value\n",
    "\n",
    "But first we need to remove null values from chosen columns"
   ]
  },
  {
   "cell_type": "code",
   "execution_count": null,
   "metadata": {},
   "outputs": [],
   "source": [
    "olx_table.isnull().sum()"
   ]
  },
  {
   "cell_type": "code",
   "execution_count": null,
   "metadata": {},
   "outputs": [],
   "source": [
    "olx_table['PriceSqM'] = olx_table['PriceSqM'].replace(np.nan, '0  zł/m²')"
   ]
  },
  {
   "cell_type": "code",
   "execution_count": null,
   "metadata": {},
   "outputs": [],
   "source": [
    "olx_table['MonthlyRent'] = olx_table['MonthlyRent'].replace(np.nan, '0  zł')"
   ]
  },
  {
   "cell_type": "code",
   "execution_count": null,
   "metadata": {},
   "outputs": [],
   "source": [
    "olx_table.head(2)"
   ]
  },
  {
   "cell_type": "code",
   "execution_count": null,
   "metadata": {},
   "outputs": [],
   "source": [
    "def remove_str(x):\n",
    "    token1 = x.split(' złDo negocjacji')  # Price\n",
    "    token2 = x.split(' zł')  # Price / MonthlyRent\n",
    "    token3 = x.split(' zł/m²')  # PriceSqM\n",
    "    token4 = x.split(' m²')  # SqM\n",
    "    if len(token1) == 2:\n",
    "        return (str(token1[0]))\n",
    "    elif len(token2) == 2:\n",
    "        return (str(token2[0]))\n",
    "    elif len(token3) == 2:\n",
    "        return (str(token3[0]))\n",
    "    elif len(token4) == 2:\n",
    "        return (str(token4[0]))\n",
    "    try:\n",
    "        return str(x)\n",
    "    except:\n",
    "        return False"
   ]
  },
  {
   "cell_type": "code",
   "execution_count": null,
   "metadata": {},
   "outputs": [],
   "source": [
    "olx_table['Price'] = olx_table['Price'].apply(remove_str)"
   ]
  },
  {
   "cell_type": "code",
   "execution_count": null,
   "metadata": {},
   "outputs": [],
   "source": [
    "olx_table['PriceSqM'] = olx_table['PriceSqM'].apply(remove_str)"
   ]
  },
  {
   "cell_type": "code",
   "execution_count": null,
   "metadata": {},
   "outputs": [],
   "source": [
    "olx_table['SqM'] = olx_table['SqM'].apply(remove_str)"
   ]
  },
  {
   "cell_type": "code",
   "execution_count": null,
   "metadata": {},
   "outputs": [],
   "source": [
    "olx_table['MonthlyRent'] = olx_table['MonthlyRent'].apply(remove_str)"
   ]
  },
  {
   "cell_type": "code",
   "execution_count": null,
   "metadata": {},
   "outputs": [],
   "source": [
    "olx_table.head(2)"
   ]
  },
  {
   "cell_type": "markdown",
   "metadata": {},
   "source": [
    "### Remove empty spaces in the first two columns"
   ]
  },
  {
   "cell_type": "code",
   "execution_count": null,
   "metadata": {},
   "outputs": [],
   "source": [
    "olx_table.iloc[0, 0]"
   ]
  },
  {
   "cell_type": "code",
   "execution_count": null,
   "metadata": {},
   "outputs": [],
   "source": [
    "olx_table['Price'] = olx_table['Price'].str.replace(' ', '')\n",
    "olx_table['PriceSqM'] = olx_table['PriceSqM'].str.replace(' ', '')\n",
    "olx_table.iloc[0, 0]"
   ]
  },
  {
   "cell_type": "code",
   "execution_count": null,
   "metadata": {},
   "outputs": [],
   "source": [
    "olx_table.head(2)"
   ]
  },
  {
   "cell_type": "markdown",
   "metadata": {},
   "source": [
    "### Change values in Bedrooms column"
   ]
  },
  {
   "cell_type": "code",
   "execution_count": null,
   "metadata": {},
   "outputs": [],
   "source": [
    "olx_table.Bedrooms.unique()"
   ]
  },
  {
   "cell_type": "code",
   "execution_count": null,
   "metadata": {},
   "outputs": [],
   "source": [
    "olx_table.groupby('Bedrooms')['Bedrooms'].count()"
   ]
  },
  {
   "cell_type": "code",
   "execution_count": null,
   "metadata": {},
   "outputs": [],
   "source": [
    "def rooms_number(x):\n",
    "    if x == 'Kawalerka' or x == '1 pokój':\n",
    "        return 1\n",
    "    elif x == '2 pokoje':\n",
    "        return 2\n",
    "    elif x == '3 pokoje':\n",
    "        return 3\n",
    "    else:\n",
    "        return 4"
   ]
  },
  {
   "cell_type": "code",
   "execution_count": null,
   "metadata": {},
   "outputs": [],
   "source": [
    "olx_table['Bedrooms'] = olx_table['Bedrooms'].apply(rooms_number)"
   ]
  },
  {
   "cell_type": "code",
   "execution_count": null,
   "metadata": {},
   "outputs": [],
   "source": [
    "olx_table.groupby('Bedrooms')['Bedrooms'].count()"
   ]
  },
  {
   "cell_type": "markdown",
   "metadata": {},
   "source": [
    "### Keep integer values in the \"Floor\" and \"Furnishings\" columns"
   ]
  },
  {
   "cell_type": "code",
   "execution_count": null,
   "metadata": {},
   "outputs": [],
   "source": [
    "olx_table.Floor.unique()  # we have some object in here"
   ]
  },
  {
   "cell_type": "code",
   "execution_count": null,
   "metadata": {},
   "outputs": [],
   "source": [
    "olx_table.groupby('Floor')['Floor'].count()"
   ]
  },
  {
   "cell_type": "markdown",
   "metadata": {},
   "source": [
    "I am not interested in: Attic (Poddasze), floor > 10. So I removed records with these floors and with null. Ground Floor  (Parter) I renamed to 0 "
   ]
  },
  {
   "cell_type": "code",
   "execution_count": null,
   "metadata": {},
   "outputs": [],
   "source": [
    "olx_table.drop(olx_table[(olx_table.Floor == 'Poddasze') |\n",
    "                         (olx_table.Floor == 'Powyżej 10')].index,\n",
    "               axis=0,\n",
    "               inplace=True)"
   ]
  },
  {
   "cell_type": "code",
   "execution_count": null,
   "metadata": {},
   "outputs": [],
   "source": [
    "olx_table.dropna(subset=['Floor'], inplace=True)"
   ]
  },
  {
   "cell_type": "code",
   "execution_count": null,
   "metadata": {},
   "outputs": [],
   "source": [
    "olx_table['Floor'] = olx_table.Floor.replace('Parter', '0')"
   ]
  },
  {
   "cell_type": "code",
   "execution_count": null,
   "metadata": {},
   "outputs": [],
   "source": [
    "olx_table['Floor'] = olx_table['Floor'].astype(int)"
   ]
  },
  {
   "cell_type": "code",
   "execution_count": null,
   "metadata": {},
   "outputs": [],
   "source": [
    "olx_table.groupby('Floor')['Floor'].count()"
   ]
  },
  {
   "cell_type": "code",
   "execution_count": null,
   "metadata": {},
   "outputs": [],
   "source": [
    "olx_table['Furnishings'] = np.where(olx_table.Furnishings == 'Tak', 1, 0)"
   ]
  },
  {
   "cell_type": "code",
   "execution_count": null,
   "metadata": {},
   "outputs": [],
   "source": [
    "olx_table.head()"
   ]
  },
  {
   "cell_type": "markdown",
   "metadata": {},
   "source": [
    "## Data Preparation:"
   ]
  },
  {
   "cell_type": "markdown",
   "metadata": {},
   "source": [
    "### Create two separate tables (for rent / for sale):"
   ]
  },
  {
   "cell_type": "code",
   "execution_count": null,
   "metadata": {},
   "outputs": [],
   "source": [
    "df_rent = olx_table[olx_table.OfferType == 'For_Rent'].copy()\n",
    "df_sale = olx_table[olx_table.OfferType == 'For_Sale'].copy()"
   ]
  },
  {
   "cell_type": "markdown",
   "metadata": {},
   "source": [
    "### Remove unnecessary columns"
   ]
  },
  {
   "cell_type": "code",
   "execution_count": null,
   "metadata": {},
   "outputs": [],
   "source": [
    "df_sale.head(2)"
   ]
  },
  {
   "cell_type": "code",
   "execution_count": null,
   "metadata": {},
   "outputs": [],
   "source": [
    "df_rent.head(2)"
   ]
  },
  {
   "cell_type": "code",
   "execution_count": null,
   "metadata": {},
   "outputs": [],
   "source": [
    "df_sale.drop(columns={'MonthlyRent', 'OfferType'},\n",
    "             axis='columns',\n",
    "             inplace=True)"
   ]
  },
  {
   "cell_type": "code",
   "execution_count": null,
   "metadata": {},
   "outputs": [],
   "source": [
    "df_rent.drop(columns={'PriceSqM', 'Market', 'OfferType'},\n",
    "             axis='columns',\n",
    "             inplace=True)"
   ]
  },
  {
   "cell_type": "markdown",
   "metadata": {},
   "source": [
    "### Change data types - 'object' to 'float' - for columns with numbers."
   ]
  },
  {
   "cell_type": "code",
   "execution_count": null,
   "metadata": {},
   "outputs": [],
   "source": [
    "def is_float(x):\n",
    "    try:\n",
    "        return float(x)\n",
    "    except:\n",
    "        return False"
   ]
  },
  {
   "cell_type": "code",
   "execution_count": null,
   "metadata": {},
   "outputs": [],
   "source": [
    "def RemoveFalse(df, col):\n",
    "    return df.drop(df[df[col] == False].index, inplace=True)"
   ]
  },
  {
   "cell_type": "markdown",
   "metadata": {},
   "source": [
    "**For Sale**"
   ]
  },
  {
   "cell_type": "code",
   "execution_count": null,
   "metadata": {},
   "outputs": [],
   "source": [
    "df_sale.dtypes"
   ]
  },
  {
   "cell_type": "code",
   "execution_count": null,
   "metadata": {},
   "outputs": [],
   "source": [
    "df_sale.shape"
   ]
  },
  {
   "cell_type": "code",
   "execution_count": null,
   "metadata": {},
   "outputs": [],
   "source": [
    "df_sale['Price'] = df_sale['Price'].apply(lambda x: x.replace(',', '.')).apply(\n",
    "    is_float)\n",
    "print(\n",
    "    f'{len(df_sale[df_sale.Price==False])} \"False\" records before remove them \\n'\n",
    ")\n",
    "RemoveFalse(df_sale, 'Price')\n",
    "df_sale['Price'] = df_sale['Price'].apply(is_float)\n",
    "print(f'{len(df_sale[df_sale.Price==False])} \"False\" records now')"
   ]
  },
  {
   "cell_type": "code",
   "execution_count": null,
   "metadata": {},
   "outputs": [],
   "source": [
    "df_sale['PriceSqM'] = df_sale['PriceSqM'].apply(\n",
    "    lambda x: x.replace(',', '.')).apply(is_float)\n",
    "print(\n",
    "    f'{len(df_sale[df_sale.PriceSqM==False])} \"False\" records before remove them \\n'\n",
    ")\n",
    "RemoveFalse(df_sale, 'PriceSqM')\n",
    "df_sale['PriceSqM'] = df_sale['PriceSqM'].apply(is_float)\n",
    "print(f'{len(df_sale[df_sale.PriceSqM==False])} \"False\" records now')"
   ]
  },
  {
   "cell_type": "code",
   "execution_count": null,
   "metadata": {},
   "outputs": [],
   "source": [
    "df_sale['SqM'] = df_sale['SqM'].apply(lambda x: x.replace(',', '.')).apply(\n",
    "    is_float)\n",
    "print(\n",
    "    f'{len(df_sale[df_sale.SqM==False])} \"False\" records before remove them \\n'\n",
    ")\n",
    "RemoveFalse(df_sale, 'SqM')\n",
    "df_sale['SqM'] = df_sale['SqM'].apply(is_float)\n",
    "print(f'{len(df_sale[df_sale.SqM==False])} \"False\" records now')"
   ]
  },
  {
   "cell_type": "code",
   "execution_count": null,
   "metadata": {
    "scrolled": true
   },
   "outputs": [],
   "source": [
    "df_sale.dtypes"
   ]
  },
  {
   "cell_type": "code",
   "execution_count": null,
   "metadata": {},
   "outputs": [],
   "source": [
    "df_sale.shape"
   ]
  },
  {
   "cell_type": "code",
   "execution_count": null,
   "metadata": {},
   "outputs": [],
   "source": [
    "df_sale.head()"
   ]
  },
  {
   "cell_type": "code",
   "execution_count": null,
   "metadata": {},
   "outputs": [],
   "source": [
    "df_sale.describe()"
   ]
  },
  {
   "cell_type": "markdown",
   "metadata": {},
   "source": [
    "**For Rent**"
   ]
  },
  {
   "cell_type": "code",
   "execution_count": null,
   "metadata": {},
   "outputs": [],
   "source": [
    "df_rent.dtypes"
   ]
  },
  {
   "cell_type": "code",
   "execution_count": null,
   "metadata": {},
   "outputs": [],
   "source": [
    "df_rent.shape"
   ]
  },
  {
   "cell_type": "code",
   "execution_count": null,
   "metadata": {},
   "outputs": [],
   "source": [
    "df_rent['Price'] = df_rent['Price'].apply(lambda x: x.replace(',', '.')).apply(\n",
    "    is_float)\n",
    "print(\n",
    "    f'{len(df_rent[df_rent.Price==False])} \"False\" records before remove them \\n'\n",
    ")\n",
    "RemoveFalse(df_rent, 'Price')\n",
    "df_rent['Price'] = df_rent['Price'].apply(is_float)\n",
    "print(f'{len(df_rent[df_rent.Price==False])} \"False\" records now')"
   ]
  },
  {
   "cell_type": "code",
   "execution_count": null,
   "metadata": {},
   "outputs": [],
   "source": [
    "df_rent['MonthlyRent'] = df_rent['MonthlyRent'].apply(\n",
    "    lambda x: x.replace(',', '.')).apply(is_float)\n",
    "print(\n",
    "    f'{len(df_rent[df_rent.MonthlyRent==False])} \"False\" records before remove them \\n'\n",
    ")\n",
    "RemoveFalse(df_rent, 'MonthlyRent')\n",
    "df_rent['MonthlyRent'] = df_rent['MonthlyRent'].apply(is_float)\n",
    "print(f'{len(df_rent[df_rent.MonthlyRent==False])} \"False\" records now')"
   ]
  },
  {
   "cell_type": "code",
   "execution_count": null,
   "metadata": {},
   "outputs": [],
   "source": [
    "df_rent['SqM'] = df_rent['SqM'].apply(lambda x: x.replace(',', '.')).apply(\n",
    "    is_float)\n",
    "print(\n",
    "    f'{len(df_rent[df_rent.SqM==False])} \"False\" records before remove them \\n'\n",
    ")\n",
    "RemoveFalse(df_rent, 'SqM')\n",
    "df_rent['SqM'] = df_rent['SqM'].apply(is_float)\n",
    "print(f'{len(df_rent[df_rent.SqM==False])} \"False\" records now')"
   ]
  },
  {
   "cell_type": "code",
   "execution_count": null,
   "metadata": {
    "scrolled": true
   },
   "outputs": [],
   "source": [
    "df_rent.dtypes"
   ]
  },
  {
   "cell_type": "code",
   "execution_count": null,
   "metadata": {},
   "outputs": [],
   "source": [
    "df_rent.shape"
   ]
  },
  {
   "cell_type": "markdown",
   "metadata": {},
   "source": [
    "### Create final price for rent properties\n",
    "\n",
    "As we will pay total price (rental price + additional rent)"
   ]
  },
  {
   "cell_type": "code",
   "execution_count": null,
   "metadata": {},
   "outputs": [],
   "source": [
    "df_rent['MonthlyPrice'] = np.where(df_rent.MonthlyRent > 1,\n",
    "                                   df_rent.MonthlyRent + df_rent.Price,\n",
    "                                   df_rent.Price)"
   ]
  },
  {
   "cell_type": "code",
   "execution_count": null,
   "metadata": {},
   "outputs": [],
   "source": [
    "df_rent['PriceSqM'] = df_rent.MonthlyPrice / df_rent.SqM"
   ]
  },
  {
   "cell_type": "code",
   "execution_count": null,
   "metadata": {},
   "outputs": [],
   "source": [
    "df_rent.drop(columns={'Price', 'MonthlyRent'}, inplace=True)"
   ]
  },
  {
   "cell_type": "code",
   "execution_count": null,
   "metadata": {},
   "outputs": [],
   "source": [
    "df_rent.head()"
   ]
  },
  {
   "cell_type": "code",
   "execution_count": null,
   "metadata": {},
   "outputs": [],
   "source": [
    "df_rent.describe()"
   ]
  },
  {
   "cell_type": "markdown",
   "metadata": {},
   "source": [
    "### Choose Types of Building we use in the analysis"
   ]
  },
  {
   "cell_type": "markdown",
   "metadata": {},
   "source": [
    "**For Sale**"
   ]
  },
  {
   "cell_type": "code",
   "execution_count": null,
   "metadata": {},
   "outputs": [],
   "source": [
    "df_sale.groupby(\n",
    "    'BuildingType')['BuildingType'].value_counts().unstack().plot.barh()"
   ]
  },
  {
   "cell_type": "markdown",
   "metadata": {},
   "source": [
    "**For Rent**"
   ]
  },
  {
   "cell_type": "code",
   "execution_count": null,
   "metadata": {
    "scrolled": true
   },
   "outputs": [],
   "source": [
    "df_rent.groupby(\n",
    "    'BuildingType')['BuildingType'].value_counts().unstack().plot.barh()"
   ]
  },
  {
   "cell_type": "markdown",
   "metadata": {},
   "source": [
    "**For analysis I am going to keep 'flats' as currently, I am interested in just with this type of property**"
   ]
  },
  {
   "cell_type": "code",
   "execution_count": null,
   "metadata": {},
   "outputs": [],
   "source": [
    "b_type = 'Flat'\n",
    "df_sale2 = df_sale[df_sale.BuildingType == b_type].copy()\n",
    "df_rent2 = df_rent[df_rent.BuildingType == b_type].copy()"
   ]
  },
  {
   "cell_type": "code",
   "execution_count": null,
   "metadata": {},
   "outputs": [],
   "source": [
    "df_sale2.drop(columns={'BuildingType'}, inplace=True)\n",
    "df_rent2.drop(columns={'BuildingType'}, inplace=True)"
   ]
  },
  {
   "cell_type": "code",
   "execution_count": null,
   "metadata": {},
   "outputs": [],
   "source": [
    "print(f'{len(df_sale2)} - records in \"for sale\" table \\n')\n",
    "print(f'{len(df_rent2)} - records in \"for rent\" table')"
   ]
  },
  {
   "cell_type": "code",
   "execution_count": null,
   "metadata": {},
   "outputs": [],
   "source": [
    "df_sale2.head()"
   ]
  },
  {
   "cell_type": "code",
   "execution_count": null,
   "metadata": {},
   "outputs": [],
   "source": [
    "df_rent2.head()"
   ]
  },
  {
   "cell_type": "markdown",
   "metadata": {},
   "source": [
    "### Price per square meter\n",
    "\n",
    "* Show the prices both for sale and rent offers\n",
    "\n",
    "* Make a function removing bigger deviations \n",
    "\n",
    "* Create an average price per SqM for all cities from both tables (sale and rent) "
   ]
  },
  {
   "cell_type": "code",
   "execution_count": null,
   "metadata": {},
   "outputs": [],
   "source": [
    "from IPython.core.display import display, HTML\n",
    "import matplotlib\n",
    "%matplotlib inline"
   ]
  },
  {
   "cell_type": "code",
   "execution_count": null,
   "metadata": {},
   "outputs": [],
   "source": [
    "def PriceSqM_Plot(label1, label2, title_txt):\n",
    "    index = np.arange(len(label1))\n",
    "    plt.plot(index, label2)\n",
    "    plt.rcParams['figure.figsize'] = (12, 8)\n",
    "    #plt.xlabel('', fontsize=10)\n",
    "    plt.ylabel('PLN / SQM', fontsize=10)\n",
    "    plt.xticks(index, label1, fontsize=10, rotation=50)\n",
    "    plt.title(title_txt)\n",
    "    plt.show()"
   ]
  },
  {
   "cell_type": "code",
   "execution_count": null,
   "metadata": {},
   "outputs": [],
   "source": [
    "def PriceSqM_loop(tbl):\n",
    "    for index, rows in tbl.groupby('City')['PriceSqM'].mean().reset_index(\n",
    "    ).sort_values('PriceSqM').iterrows():\n",
    "        arr_City.append(rows.City)\n",
    "        arr_PriceSqM.append(rows.PriceSqM)\n",
    "    return arr_City, arr_PriceSqM"
   ]
  },
  {
   "cell_type": "code",
   "execution_count": null,
   "metadata": {},
   "outputs": [],
   "source": [
    "display(HTML(\"<style>div.output_scroll { height: 44em; }</style>\"))\n",
    "arr_City = []\n",
    "arr_PriceSqM = []\n",
    "arr_title = \"Price Square Meter for City. 'For Rent' table - average\"\n",
    "PriceSqM_loop(df_rent2)\n",
    "PriceSqM_Plot(arr_City, arr_PriceSqM, arr_title)"
   ]
  },
  {
   "cell_type": "markdown",
   "metadata": {},
   "source": [
    "**As we can see below, we have some flats which have much bigger price per SqM than the other flats in Bytom**"
   ]
  },
  {
   "cell_type": "code",
   "execution_count": null,
   "metadata": {},
   "outputs": [],
   "source": [
    "df_rent2[df_rent2.City == 'Bytom'].describe()"
   ]
  },
  {
   "cell_type": "markdown",
   "metadata": {},
   "source": [
    "**So lets create a function where price for sqm cannot be higher than 3 times more than median for each city**"
   ]
  },
  {
   "cell_type": "code",
   "execution_count": null,
   "metadata": {},
   "outputs": [],
   "source": [
    "def avg_price(tbl, city):\n",
    "    return tbl[tbl.District == city].groupby(\n",
    "        'District')['PriceSqM'].median().values[0]"
   ]
  },
  {
   "cell_type": "code",
   "execution_count": null,
   "metadata": {},
   "outputs": [],
   "source": [
    "df_rent2['avg_price'] = df_rent2.apply(\n",
    "    lambda x: avg_price(df_rent2, df_rent2['City']) * 3, axis=1)"
   ]
  },
  {
   "cell_type": "code",
   "execution_count": null,
   "metadata": {},
   "outputs": [],
   "source": [
    "# This is what we want to remove:\n",
    "df_rent2[df_rent2.PriceSqM > df_rent2.avg_price]"
   ]
  },
  {
   "cell_type": "code",
   "execution_count": null,
   "metadata": {},
   "outputs": [],
   "source": [
    "df_rent3 = df_rent2.drop(\n",
    "    df_rent2[(df_rent2.PriceSqM > df_rent2.avg_price)].index)"
   ]
  },
  {
   "cell_type": "code",
   "execution_count": null,
   "metadata": {},
   "outputs": [],
   "source": [
    "df_rent3.drop(columns={'avg_price'}, inplace=True)"
   ]
  },
  {
   "cell_type": "code",
   "execution_count": null,
   "metadata": {},
   "outputs": [],
   "source": [
    "display(HTML(\"<style>div.output_scroll { height: 44em; }</style>\"))\n",
    "arr_City = []\n",
    "arr_PriceSqM = []\n",
    "arr_title = \"Average Square Meter Price for Cities: 'For Rent' table\"\n",
    "PriceSqM_loop(df_rent3)\n",
    "PriceSqM_Plot(arr_City, arr_PriceSqM, arr_title)"
   ]
  },
  {
   "cell_type": "markdown",
   "metadata": {},
   "source": [
    "Now it looks much better"
   ]
  },
  {
   "cell_type": "markdown",
   "metadata": {},
   "source": [
    "**For Sale**"
   ]
  },
  {
   "cell_type": "code",
   "execution_count": null,
   "metadata": {},
   "outputs": [],
   "source": [
    "df_sale2['avg_price'] = df_sale2.apply(\n",
    "    lambda x: avg_price(df_sale2, df_sale2['City']) * 3, axis=1)"
   ]
  },
  {
   "cell_type": "code",
   "execution_count": null,
   "metadata": {},
   "outputs": [],
   "source": [
    "df_sale3 = df_sale2.drop(\n",
    "    df_sale2[(df_sale2.PriceSqM > df_sale2.avg_price)].index)\n",
    "df_sale3.drop(columns={'avg_price'}, inplace=True)"
   ]
  },
  {
   "cell_type": "code",
   "execution_count": null,
   "metadata": {
    "scrolled": true
   },
   "outputs": [],
   "source": [
    "display(HTML(\"<style>div.output_scroll { height: 44em; }</style>\"))\n",
    "arr_City = []\n",
    "arr_PriceSqM = []\n",
    "arr_title = \"Average Square Meter Price for Cities: 'For Sale' table\"\n",
    "PriceSqM_loop(df_sale3)\n",
    "PriceSqM_Plot(arr_City, arr_PriceSqM, arr_title)"
   ]
  },
  {
   "cell_type": "markdown",
   "metadata": {},
   "source": [
    "**Both table with properties for sale and for rent are clear now**\n",
    "\n",
    "> We can see that in three cities we have the highest SQM price no matter is it an offer for sale or for rent. Those cities:\n",
    "\n",
    "> - Tychy, \n",
    "> - Gliwice \n",
    "> - Katowice \n",
    "\n",
    "> In my city (Wodzisław Śląski) buying a flat is more profitable than rent it"
   ]
  },
  {
   "cell_type": "markdown",
   "metadata": {},
   "source": [
    "**Let's check how the prices looks like on a map:**"
   ]
  },
  {
   "cell_type": "markdown",
   "metadata": {},
   "source": [
    "# Visualisation"
   ]
  },
  {
   "cell_type": "markdown",
   "metadata": {},
   "source": [
    "### Show on a map where are located our cities"
   ]
  },
  {
   "cell_type": "code",
   "execution_count": null,
   "metadata": {},
   "outputs": [],
   "source": [
    "location = pd.read_csv(location_list, sep=';', encoding='windows-1250')"
   ]
  },
  {
   "cell_type": "code",
   "execution_count": null,
   "metadata": {},
   "outputs": [],
   "source": [
    "location.head(2)"
   ]
  },
  {
   "cell_type": "code",
   "execution_count": null,
   "metadata": {},
   "outputs": [],
   "source": [
    "df_cities = df_sale[['City']].drop_duplicates().reset_index()"
   ]
  },
  {
   "cell_type": "code",
   "execution_count": null,
   "metadata": {},
   "outputs": [],
   "source": [
    "df_cities = df_cities.merge(location, on='City', how='inner')"
   ]
  },
  {
   "cell_type": "code",
   "execution_count": null,
   "metadata": {},
   "outputs": [],
   "source": [
    "for column in df_cities.columns:\n",
    "    df_cities[column] = (df_cities[column].astype(\"str\")\n",
    "                            .str.replace(\"ł\", \"l\")\n",
    "                            .str.replace(\"Ł\", \"L\")\n",
    "                            .str.normalize('NFKD')\n",
    "                            .str.encode('ascii', errors='ignore')\n",
    "                            .str.decode('utf-8'))"
   ]
  },
  {
   "cell_type": "code",
   "execution_count": null,
   "metadata": {},
   "outputs": [],
   "source": [
    "city_list = []\n",
    "for city in range(len(df_cities)):\n",
    "    city_list.append(df_cities.iloc[city, 1])\n",
    "    city_list.append(df_cities.iloc[city, 2])"
   ]
  },
  {
   "cell_type": "code",
   "execution_count": null,
   "metadata": {},
   "outputs": [],
   "source": [
    "import folium"
   ]
  },
  {
   "cell_type": "code",
   "execution_count": null,
   "metadata": {},
   "outputs": [],
   "source": [
    "map = folium.Map(location=[50.226329, 19.019543], zoom_start=10)"
   ]
  },
  {
   "cell_type": "code",
   "execution_count": null,
   "metadata": {},
   "outputs": [],
   "source": [
    "def add_location(city,lat,lon):\n",
    "    tooltip = 'Click for more info'\n",
    "    folium.Marker([lat,lon],\n",
    "                  popup='<strong>'+city+'</strong>',\n",
    "                 tooltip=tooltip).add_to(map)"
   ]
  },
  {
   "cell_type": "code",
   "execution_count": null,
   "metadata": {},
   "outputs": [],
   "source": [
    "for x in range(len(city_list)):\n",
    "    if (x % 2 == 0):\n",
    "        city = city_list[x]\n",
    "        loc = city_list[x+1]\n",
    "        lat = float(loc.strip(',')[1:10])\n",
    "        lon = float(loc.strip(',')[12:21])\n",
    "    add_location(city,lat,lon)"
   ]
  },
  {
   "cell_type": "code",
   "execution_count": null,
   "metadata": {},
   "outputs": [],
   "source": [
    "map"
   ]
  },
  {
   "cell_type": "markdown",
   "metadata": {},
   "source": [
    "# Next Steps\n",
    "\n",
    "- Why Chorzow is so cheap? For now it is the best city to live\n",
    "- Revise points on a map - some of them are to far from the city name\n",
    "\n",
    "-Histogram (each City)\n",
    "\n",
    "* SqM: maybe remove small SQM values\n",
    "* advert per city\n",
    "* sqm per flat/house\n",
    "* price for smq per floor\n",
    "\n",
    "-plot\n",
    "\n",
    "* dev/priv\n"
   ]
  },
  {
   "cell_type": "markdown",
   "metadata": {},
   "source": [
    "### Distance between cities\n",
    "\n",
    "> I want to know what will be my cost for traveling depends on my starting point. Of course, Katowice will by my final destination. "
   ]
  },
  {
   "cell_type": "code",
   "execution_count": null,
   "metadata": {},
   "outputs": [],
   "source": [
    "import math"
   ]
  },
  {
   "cell_type": "code",
   "execution_count": null,
   "metadata": {},
   "outputs": [],
   "source": [
    "R = 6373.0 # radius of the Earth"
   ]
  },
  {
   "cell_type": "markdown",
   "metadata": {},
   "source": [
    "**Coordinates for Katowice:**\n",
    "- Warning: Coordinates must be converted to radians for the calculations to be correct."
   ]
  },
  {
   "cell_type": "code",
   "execution_count": null,
   "metadata": {},
   "outputs": [],
   "source": [
    "kato_lat = float(location[(location.City=='Katowice')].iloc[0,1][1:10])\n",
    "kato_lon = float(location[(location.City=='Katowice')].iloc[0,1][12:21])\n",
    "\n",
    "lat1 = math.radians(kato_lat)\n",
    "lon1 = math.radians(kato_lon)"
   ]
  },
  {
   "cell_type": "markdown",
   "metadata": {},
   "source": [
    "**This function will calculate distances between the cities:**"
   ]
  },
  {
   "cell_type": "code",
   "execution_count": null,
   "metadata": {},
   "outputs": [],
   "source": [
    "def distance_calc(city):\n",
    "    city_lat = float(location[(location.City==city)].iloc[0,1][1:10])\n",
    "    city_lon = float(location[(location.City==city)].iloc[0,1][12:21])\n",
    "\n",
    "    lat2 = math.radians(city_lat)\n",
    "    lon2 = math.radians(city_lon)\n",
    "    \n",
    "    # change in coordinates\n",
    "    dlon = lon2 - lon1\n",
    "    dlat = lat2 - lat1\n",
    "    \n",
    "    # Haversine formula\n",
    "    a = math.sin(dlat / 2)**2 + math.cos(lat1) * math.cos(lat2) * math.sin(dlon / 2)**2\n",
    "\n",
    "    c = 2 * math.atan2(math.sqrt(a), math.sqrt(1 - a))\n",
    "    distance = R * c\n",
    "    return distance"
   ]
  },
  {
   "cell_type": "markdown",
   "metadata": {},
   "source": [
    "**Let's create a new column with distances:**"
   ]
  },
  {
   "cell_type": "code",
   "execution_count": null,
   "metadata": {},
   "outputs": [],
   "source": [
    "df1 = location[['City']].copy()"
   ]
  },
  {
   "cell_type": "code",
   "execution_count": null,
   "metadata": {},
   "outputs": [],
   "source": [
    "df1['Distance'] = location.apply(lambda x: distance_calc(x.City),axis=1)"
   ]
  },
  {
   "cell_type": "markdown",
   "metadata": {},
   "source": [
    "**Traveling Cost:**\n",
    "Now we want to know what will be our average monthly cost for traveling. To do that we need to know some details, such as:\n",
    "\n",
    "- Petrol price (4,5 PLN)\n",
    "- Distance (we have it already)\n",
    "- How many days are we going to travel during a month (~20 * 2 sides)\n",
    "- An average fuel consumption of my car \n",
    "- As the time is the biggest value then we need to calculate it as well. Based on some examples we can say that on average we need 1 min for 1 km   "
   ]
  },
  {
   "cell_type": "code",
   "execution_count": null,
   "metadata": {},
   "outputs": [],
   "source": [
    "petrol_price = 4.5 # 4,50 PLN per 1 litre\n",
    "fuel_consumption = 6 # 6 litres per 100 km\n",
    "days = 20\n",
    "sides = 2\n",
    "rate_per_hr = 45 # 45 PLN per 1 hour"
   ]
  },
  {
   "cell_type": "code",
   "execution_count": null,
   "metadata": {},
   "outputs": [],
   "source": [
    "def travel_cost(distance):\n",
    "    res = (distance*days*sides)*fuel_consumption/100*petrol_price\n",
    "    return res"
   ]
  },
  {
   "cell_type": "code",
   "execution_count": null,
   "metadata": {},
   "outputs": [],
   "source": [
    "df1['Travel_Time_Cost'] = (df1.Distance/60)*sides*days*rate_per_hr"
   ]
  },
  {
   "cell_type": "code",
   "execution_count": null,
   "metadata": {},
   "outputs": [],
   "source": [
    "df1['Travel_Cost'] = df1.apply(lambda x: travel_cost(x.Distance),axis=1)"
   ]
  },
  {
   "cell_type": "code",
   "execution_count": null,
   "metadata": {},
   "outputs": [],
   "source": [
    "df1.head()"
   ]
  },
  {
   "cell_type": "code",
   "execution_count": null,
   "metadata": {},
   "outputs": [],
   "source": [
    "df1['Travel_Cost'] = df1.Travel_Cost+df1.Travel_Time_Cost"
   ]
  },
  {
   "cell_type": "code",
   "execution_count": null,
   "metadata": {},
   "outputs": [],
   "source": [
    "df1 = df1.merge(df_sale3.groupby('City')['PriceSqM'].mean().reset_index(),on='City',how='inner')\n",
    "df1.rename(columns={'PriceSqM':'PriceSqM_Sale'},inplace=True)"
   ]
  },
  {
   "cell_type": "code",
   "execution_count": null,
   "metadata": {},
   "outputs": [],
   "source": [
    "df1 = df1.merge(df_rent3.groupby('City')['PriceSqM'].mean().reset_index(),on='City',how='inner')\n",
    "df1.rename(columns={'PriceSqM':'PriceSqM_Rent'},inplace=True)"
   ]
  },
  {
   "cell_type": "code",
   "execution_count": null,
   "metadata": {},
   "outputs": [],
   "source": [
    "df1.drop(columns={'Distance','Travel_Time_Cost'},inplace=True)"
   ]
  },
  {
   "cell_type": "code",
   "execution_count": null,
   "metadata": {},
   "outputs": [],
   "source": [
    "df1.head()"
   ]
  },
  {
   "cell_type": "code",
   "execution_count": null,
   "metadata": {},
   "outputs": [],
   "source": [
    "# HOW TO MAKE COLORS ON A MAP\n",
    "# m.choropleth(\n",
    "#  geo_data=state_geo,\n",
    "#  name='choropleth',\n",
    "#  data=state_data,\n",
    "#  columns=['State', 'Unemployment'],\n",
    "#  key_on='feature.id',\n",
    "#  fill_color='YlGn',\n",
    "#  fill_opacity=0.7,\n",
    "#  line_opacity=0.2,\n",
    "#  legend_name='Unemployment Rate (%)'\n",
    "# )\n",
    "# folium.LayerControl().add_to(m)\n"
   ]
  }
 ],
 "metadata": {
  "kernelspec": {
   "display_name": "Python 3",
   "language": "python",
   "name": "python3"
  },
  "language_info": {
   "codemirror_mode": {
    "name": "ipython",
    "version": 3
   },
   "file_extension": ".py",
   "mimetype": "text/x-python",
   "name": "python",
   "nbconvert_exporter": "python",
   "pygments_lexer": "ipython3",
   "version": "3.7.6"
  },
  "toc": {
   "base_numbering": 1,
   "nav_menu": {
    "height": "410px",
    "width": "682px"
   },
   "number_sections": true,
   "sideBar": true,
   "skip_h1_title": true,
   "title_cell": "Table of Contents",
   "title_sidebar": "Contents",
   "toc_cell": true,
   "toc_position": {},
   "toc_section_display": true,
   "toc_window_display": false
  }
 },
 "nbformat": 4,
 "nbformat_minor": 2
}
