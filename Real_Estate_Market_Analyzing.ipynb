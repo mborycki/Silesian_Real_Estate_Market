{
 "cells": [
  {
   "cell_type": "markdown",
   "metadata": {
    "toc": true
   },
   "source": [
    "<h1>Table of Contents<span class=\"tocSkip\"></span></h1>\n",
    "<div class=\"toc\"><ul class=\"toc-item\"><li><span><a href=\"#Data-Cleaning-and-Transformation:\" data-toc-modified-id=\"Data-Cleaning-and-Transformation:-1\"><span class=\"toc-item-num\">1&nbsp;&nbsp;</span>Data Cleaning and Transformation:</a></span><ul class=\"toc-item\"><li><span><a href=\"#Translate-column-names-to-English:\" data-toc-modified-id=\"Translate-column-names-to-English:-1.1\"><span class=\"toc-item-num\">1.1&nbsp;&nbsp;</span>Translate column names to English:</a></span></li><li><span><a href=\"#Create-a-column-specifying-type-of-offer:-For-Sale-or-For-Rent:\" data-toc-modified-id=\"Create-a-column-specifying-type-of-offer:-For-Sale-or-For-Rent:-1.2\"><span class=\"toc-item-num\">1.2&nbsp;&nbsp;</span>Create a column specifying type of offer: For Sale or For Rent:</a></span></li><li><span><a href=\"#Create-a-new-dataframe-before-I-start-to-do-more-changes\" data-toc-modified-id=\"Create-a-new-dataframe-before-I-start-to-do-more-changes-1.3\"><span class=\"toc-item-num\">1.3&nbsp;&nbsp;</span>Create a new dataframe before I start to do more changes</a></span></li><li><span><a href=\"#Remove-unnecessary-columns-with-website-link-and-information-about-loans\" data-toc-modified-id=\"Remove-unnecessary-columns-with-website-link-and-information-about-loans-1.4\"><span class=\"toc-item-num\">1.4&nbsp;&nbsp;</span>Remove unnecessary columns with website link and information about loans</a></span></li><li><span><a href=\"#Create-a-column-with-cities-using-polish-characters\" data-toc-modified-id=\"Create-a-column-with-cities-using-polish-characters-1.5\"><span class=\"toc-item-num\">1.5&nbsp;&nbsp;</span>Create a column with cities using polish characters</a></span></li><li><span><a href=\"#Is-there-possibility-to-negotiate-a-price?\" data-toc-modified-id=\"Is-there-possibility-to-negotiate-a-price?-1.6\"><span class=\"toc-item-num\">1.6&nbsp;&nbsp;</span>Is there possibility to negotiate a price?</a></span></li><li><span><a href=\"#Create-a-function-which-remove-unnecessary-text-from-chosen-column-and-keep-just-the-first-value\" data-toc-modified-id=\"Create-a-function-which-remove-unnecessary-text-from-chosen-column-and-keep-just-the-first-value-1.7\"><span class=\"toc-item-num\">1.7&nbsp;&nbsp;</span>Create a function which remove unnecessary text from chosen column and keep just the first value</a></span></li><li><span><a href=\"#Remove-empty-spaces-in-the-first-two-columns\" data-toc-modified-id=\"Remove-empty-spaces-in-the-first-two-columns-1.8\"><span class=\"toc-item-num\">1.8&nbsp;&nbsp;</span>Remove empty spaces in the first two columns</a></span></li><li><span><a href=\"#Keep-integer-values-in-the-&quot;Floor&quot;-and-&quot;Furnishings&quot;-columns\" data-toc-modified-id=\"Keep-integer-values-in-the-&quot;Floor&quot;-and-&quot;Furnishings&quot;-columns-1.9\"><span class=\"toc-item-num\">1.9&nbsp;&nbsp;</span>Keep integer values in the \"Floor\" and \"Furnishings\" columns</a></span></li></ul></li><li><span><a href=\"#Data-Preparation:\" data-toc-modified-id=\"Data-Preparation:-2\"><span class=\"toc-item-num\">2&nbsp;&nbsp;</span>Data Preparation:</a></span><ul class=\"toc-item\"><li><span><a href=\"#Create-two-separate-tables-(for-rent-/-for-sale):\" data-toc-modified-id=\"Create-two-separate-tables-(for-rent-/-for-sale):-2.1\"><span class=\"toc-item-num\">2.1&nbsp;&nbsp;</span>Create two separate tables (for rent / for sale):</a></span></li><li><span><a href=\"#Remove-unnecessary-columns\" data-toc-modified-id=\"Remove-unnecessary-columns-2.2\"><span class=\"toc-item-num\">2.2&nbsp;&nbsp;</span>Remove unnecessary columns</a></span></li><li><span><a href=\"#Change-data-types---'object'-to-'float'---for-columns-with-numbers.\" data-toc-modified-id=\"Change-data-types---'object'-to-'float'---for-columns-with-numbers.-2.3\"><span class=\"toc-item-num\">2.3&nbsp;&nbsp;</span>Change data types - 'object' to 'float' - for columns with numbers.</a></span></li><li><span><a href=\"#Create-final-price-for-rent-properties\" data-toc-modified-id=\"Create-final-price-for-rent-properties-2.4\"><span class=\"toc-item-num\">2.4&nbsp;&nbsp;</span>Create final price for rent properties</a></span></li><li><span><a href=\"#Choose-Types-of-Building-we-use-in-the-analysis\" data-toc-modified-id=\"Choose-Types-of-Building-we-use-in-the-analysis-2.5\"><span class=\"toc-item-num\">2.5&nbsp;&nbsp;</span>Choose Types of Building we use in the analysis</a></span></li><li><span><a href=\"#Add-districts\" data-toc-modified-id=\"Add-districts-2.6\"><span class=\"toc-item-num\">2.6&nbsp;&nbsp;</span>Add districts</a></span></li><li><span><a href=\"#Show-on-a-map-where-are-located-our-cities\" data-toc-modified-id=\"Show-on-a-map-where-are-located-our-cities-2.7\"><span class=\"toc-item-num\">2.7&nbsp;&nbsp;</span>Show on a map where are located our cities</a></span></li><li><span><a href=\"#Price-per-square-metre\" data-toc-modified-id=\"Price-per-square-metre-2.8\"><span class=\"toc-item-num\">2.8&nbsp;&nbsp;</span>Price per square metre</a></span></li><li><span><a href=\"#Others\" data-toc-modified-id=\"Others-2.9\"><span class=\"toc-item-num\">2.9&nbsp;&nbsp;</span>Others</a></span></li></ul></li></ul></div>"
   ]
  },
  {
   "cell_type": "code",
   "execution_count": 1,
   "metadata": {},
   "outputs": [],
   "source": [
    "import pandas as pd\n",
    "import numpy as np\n",
    "from matplotlib import pyplot as plt"
   ]
  },
  {
   "cell_type": "code",
   "execution_count": 2,
   "metadata": {},
   "outputs": [],
   "source": [
    "url = 'https://raw.githubusercontent.com/mborycki/Silesian_Real_Estate_Market/master'\n",
    "olx_link = f'{url}/OLX_Offers.csv'\n",
    "location_list = f'{url}/locations.txt'"
   ]
  },
  {
   "cell_type": "code",
   "execution_count": 3,
   "metadata": {},
   "outputs": [],
   "source": [
    "olx_df = pd.read_csv(olx_link)"
   ]
  },
  {
   "cell_type": "code",
   "execution_count": 4,
   "metadata": {},
   "outputs": [
    {
     "data": {
      "text/plain": [
       "Index(['Cena', 'Cena za m²', 'Czynsz (dodatkowo)', 'Finanse', 'Liczba pokoi',\n",
       "       'Link', 'Miejsce', 'Oferta od', 'Powierzchnia', 'Poziom',\n",
       "       'Rodzaj zabudowy', 'Rynek', 'Umeblowane', 'Miasto'],\n",
       "      dtype='object')"
      ]
     },
     "execution_count": 4,
     "metadata": {},
     "output_type": "execute_result"
    }
   ],
   "source": [
    "olx_df.columns"
   ]
  },
  {
   "cell_type": "code",
   "execution_count": 5,
   "metadata": {},
   "outputs": [
    {
     "data": {
      "text/plain": [
       "(2121, 14)"
      ]
     },
     "execution_count": 5,
     "metadata": {},
     "output_type": "execute_result"
    }
   ],
   "source": [
    "olx_df.shape"
   ]
  },
  {
   "cell_type": "code",
   "execution_count": 6,
   "metadata": {
    "scrolled": true
   },
   "outputs": [
    {
     "data": {
      "text/html": [
       "<div>\n",
       "<style scoped>\n",
       "    .dataframe tbody tr th:only-of-type {\n",
       "        vertical-align: middle;\n",
       "    }\n",
       "\n",
       "    .dataframe tbody tr th {\n",
       "        vertical-align: top;\n",
       "    }\n",
       "\n",
       "    .dataframe thead th {\n",
       "        text-align: right;\n",
       "    }\n",
       "</style>\n",
       "<table border=\"1\" class=\"dataframe\">\n",
       "  <thead>\n",
       "    <tr style=\"text-align: right;\">\n",
       "      <th></th>\n",
       "      <th>Cena</th>\n",
       "      <th>Cena za m²</th>\n",
       "      <th>Czynsz (dodatkowo)</th>\n",
       "      <th>Finanse</th>\n",
       "      <th>Liczba pokoi</th>\n",
       "      <th>Link</th>\n",
       "      <th>Miejsce</th>\n",
       "      <th>Oferta od</th>\n",
       "      <th>Powierzchnia</th>\n",
       "      <th>Poziom</th>\n",
       "      <th>Rodzaj zabudowy</th>\n",
       "      <th>Rynek</th>\n",
       "      <th>Umeblowane</th>\n",
       "      <th>Miasto</th>\n",
       "    </tr>\n",
       "  </thead>\n",
       "  <tbody>\n",
       "    <tr>\n",
       "      <th>0</th>\n",
       "      <td>2 000 zł</td>\n",
       "      <td>NaN</td>\n",
       "      <td>1 zł</td>\n",
       "      <td>NaN</td>\n",
       "      <td>3 pokoje</td>\n",
       "      <td>https://www.olx.pl/oferta/wynajme-mieszkanie-C...</td>\n",
       "      <td>Rybnik, Śląskie</td>\n",
       "      <td>Osoby prywatnej</td>\n",
       "      <td>69 m²</td>\n",
       "      <td>1</td>\n",
       "      <td>Apartamentowiec</td>\n",
       "      <td>NaN</td>\n",
       "      <td>Nie</td>\n",
       "      <td>rybnik</td>\n",
       "    </tr>\n",
       "    <tr>\n",
       "      <th>1</th>\n",
       "      <td>280 000 złDo negocjacji</td>\n",
       "      <td>3684.21 zł/m²</td>\n",
       "      <td>NaN</td>\n",
       "      <td>Otwórz konto w promocji &gt;&gt;</td>\n",
       "      <td>4 i więcej</td>\n",
       "      <td>https://www.olx.pl/oferta/wynajme-mieszkanie-C...</td>\n",
       "      <td>Rybnik, Śląskie</td>\n",
       "      <td>Biuro / Deweloper</td>\n",
       "      <td>76 m²</td>\n",
       "      <td>1</td>\n",
       "      <td>Blok</td>\n",
       "      <td>Wtórny</td>\n",
       "      <td>Nie</td>\n",
       "      <td>rybnik</td>\n",
       "    </tr>\n",
       "    <tr>\n",
       "      <th>2</th>\n",
       "      <td>1 800 złDo negocjacji</td>\n",
       "      <td>NaN</td>\n",
       "      <td>100 zł</td>\n",
       "      <td>NaN</td>\n",
       "      <td>3 pokoje</td>\n",
       "      <td>https://www.olx.pl/oferta/wynajme-mieszkanie-C...</td>\n",
       "      <td>Rybnik, Śląskie</td>\n",
       "      <td>Biuro / Deweloper</td>\n",
       "      <td>100 m²</td>\n",
       "      <td>Parter</td>\n",
       "      <td>Dom wolnostojący</td>\n",
       "      <td>NaN</td>\n",
       "      <td>Tak</td>\n",
       "      <td>rybnik</td>\n",
       "    </tr>\n",
       "    <tr>\n",
       "      <th>3</th>\n",
       "      <td>1 300 złDo negocjacji</td>\n",
       "      <td>NaN</td>\n",
       "      <td>600 zł</td>\n",
       "      <td>NaN</td>\n",
       "      <td>2 pokoje</td>\n",
       "      <td>https://www.olx.pl/oferta/wynajme-mieszkanie-C...</td>\n",
       "      <td>Rybnik, Śląskie</td>\n",
       "      <td>Osoby prywatnej</td>\n",
       "      <td>50 m²</td>\n",
       "      <td>1</td>\n",
       "      <td>Blok</td>\n",
       "      <td>NaN</td>\n",
       "      <td>Tak</td>\n",
       "      <td>rybnik</td>\n",
       "    </tr>\n",
       "    <tr>\n",
       "      <th>4</th>\n",
       "      <td>2 200 zł</td>\n",
       "      <td>NaN</td>\n",
       "      <td>1 zł</td>\n",
       "      <td>NaN</td>\n",
       "      <td>2 pokoje</td>\n",
       "      <td>https://www.olx.pl/oferta/wynajme-mieszkanie-C...</td>\n",
       "      <td>Rybnik, Śląskie</td>\n",
       "      <td>Osoby prywatnej</td>\n",
       "      <td>66 m²</td>\n",
       "      <td>4</td>\n",
       "      <td>Blok</td>\n",
       "      <td>NaN</td>\n",
       "      <td>Tak</td>\n",
       "      <td>rybnik</td>\n",
       "    </tr>\n",
       "  </tbody>\n",
       "</table>\n",
       "</div>"
      ],
      "text/plain": [
       "                      Cena     Cena za m² Czynsz (dodatkowo)  \\\n",
       "0                 2 000 zł            NaN               1 zł   \n",
       "1  280 000 złDo negocjacji  3684.21 zł/m²                NaN   \n",
       "2    1 800 złDo negocjacji            NaN             100 zł   \n",
       "3    1 300 złDo negocjacji            NaN             600 zł   \n",
       "4                 2 200 zł            NaN               1 zł   \n",
       "\n",
       "                      Finanse Liczba pokoi  \\\n",
       "0                         NaN     3 pokoje   \n",
       "1  Otwórz konto w promocji >>   4 i więcej   \n",
       "2                         NaN     3 pokoje   \n",
       "3                         NaN     2 pokoje   \n",
       "4                         NaN     2 pokoje   \n",
       "\n",
       "                                                Link          Miejsce  \\\n",
       "0  https://www.olx.pl/oferta/wynajme-mieszkanie-C...  Rybnik, Śląskie   \n",
       "1  https://www.olx.pl/oferta/wynajme-mieszkanie-C...  Rybnik, Śląskie   \n",
       "2  https://www.olx.pl/oferta/wynajme-mieszkanie-C...  Rybnik, Śląskie   \n",
       "3  https://www.olx.pl/oferta/wynajme-mieszkanie-C...  Rybnik, Śląskie   \n",
       "4  https://www.olx.pl/oferta/wynajme-mieszkanie-C...  Rybnik, Śląskie   \n",
       "\n",
       "           Oferta od Powierzchnia  Poziom   Rodzaj zabudowy   Rynek  \\\n",
       "0    Osoby prywatnej        69 m²       1   Apartamentowiec     NaN   \n",
       "1  Biuro / Deweloper        76 m²       1              Blok  Wtórny   \n",
       "2  Biuro / Deweloper       100 m²  Parter  Dom wolnostojący     NaN   \n",
       "3    Osoby prywatnej        50 m²       1              Blok     NaN   \n",
       "4    Osoby prywatnej        66 m²       4              Blok     NaN   \n",
       "\n",
       "  Umeblowane  Miasto  \n",
       "0        Nie  rybnik  \n",
       "1        Nie  rybnik  \n",
       "2        Tak  rybnik  \n",
       "3        Tak  rybnik  \n",
       "4        Tak  rybnik  "
      ]
     },
     "execution_count": 6,
     "metadata": {},
     "output_type": "execute_result"
    }
   ],
   "source": [
    "olx_df.head()"
   ]
  },
  {
   "cell_type": "markdown",
   "metadata": {},
   "source": [
    "## Data Cleaning and Transformation:"
   ]
  },
  {
   "cell_type": "markdown",
   "metadata": {},
   "source": [
    "### Translate column names to English:"
   ]
  },
  {
   "cell_type": "code",
   "execution_count": 7,
   "metadata": {},
   "outputs": [],
   "source": [
    "olx_df.rename(columns={'Cena': 'Price', 'Cena za m²': 'PriceSqM', 'Czynsz (dodatkowo)': 'MonthlyRent', 'Finanse': 'Finances', \n",
    "'Liczba pokoi': 'Bedrooms', 'Link': 'Link', 'Miejsce': 'Place', 'Oferta od': 'Advert_Owner', 'Powierzchnia': 'SqM',\n",
    "'Poziom': 'Floor', 'Rodzaj zabudowy': 'BuildingType', 'Rynek': 'Market', 'Umeblowane': 'Furnishings', 'Miasto': 'City'},inplace=True)"
   ]
  },
  {
   "cell_type": "code",
   "execution_count": 8,
   "metadata": {},
   "outputs": [
    {
     "data": {
      "text/html": [
       "<div>\n",
       "<style scoped>\n",
       "    .dataframe tbody tr th:only-of-type {\n",
       "        vertical-align: middle;\n",
       "    }\n",
       "\n",
       "    .dataframe tbody tr th {\n",
       "        vertical-align: top;\n",
       "    }\n",
       "\n",
       "    .dataframe thead th {\n",
       "        text-align: right;\n",
       "    }\n",
       "</style>\n",
       "<table border=\"1\" class=\"dataframe\">\n",
       "  <thead>\n",
       "    <tr style=\"text-align: right;\">\n",
       "      <th></th>\n",
       "      <th>Price</th>\n",
       "      <th>PriceSqM</th>\n",
       "      <th>MonthlyRent</th>\n",
       "      <th>Finances</th>\n",
       "      <th>Bedrooms</th>\n",
       "      <th>Link</th>\n",
       "      <th>Place</th>\n",
       "      <th>Advert_Owner</th>\n",
       "      <th>SqM</th>\n",
       "      <th>Floor</th>\n",
       "      <th>BuildingType</th>\n",
       "      <th>Market</th>\n",
       "      <th>Furnishings</th>\n",
       "      <th>City</th>\n",
       "    </tr>\n",
       "  </thead>\n",
       "  <tbody>\n",
       "    <tr>\n",
       "      <th>0</th>\n",
       "      <td>2 000 zł</td>\n",
       "      <td>NaN</td>\n",
       "      <td>1 zł</td>\n",
       "      <td>NaN</td>\n",
       "      <td>3 pokoje</td>\n",
       "      <td>https://www.olx.pl/oferta/wynajme-mieszkanie-C...</td>\n",
       "      <td>Rybnik, Śląskie</td>\n",
       "      <td>Osoby prywatnej</td>\n",
       "      <td>69 m²</td>\n",
       "      <td>1</td>\n",
       "      <td>Apartamentowiec</td>\n",
       "      <td>NaN</td>\n",
       "      <td>Nie</td>\n",
       "      <td>rybnik</td>\n",
       "    </tr>\n",
       "    <tr>\n",
       "      <th>1</th>\n",
       "      <td>280 000 złDo negocjacji</td>\n",
       "      <td>3684.21 zł/m²</td>\n",
       "      <td>NaN</td>\n",
       "      <td>Otwórz konto w promocji &gt;&gt;</td>\n",
       "      <td>4 i więcej</td>\n",
       "      <td>https://www.olx.pl/oferta/wynajme-mieszkanie-C...</td>\n",
       "      <td>Rybnik, Śląskie</td>\n",
       "      <td>Biuro / Deweloper</td>\n",
       "      <td>76 m²</td>\n",
       "      <td>1</td>\n",
       "      <td>Blok</td>\n",
       "      <td>Wtórny</td>\n",
       "      <td>Nie</td>\n",
       "      <td>rybnik</td>\n",
       "    </tr>\n",
       "  </tbody>\n",
       "</table>\n",
       "</div>"
      ],
      "text/plain": [
       "                     Price       PriceSqM MonthlyRent  \\\n",
       "0                 2 000 zł            NaN        1 zł   \n",
       "1  280 000 złDo negocjacji  3684.21 zł/m²         NaN   \n",
       "\n",
       "                     Finances    Bedrooms  \\\n",
       "0                         NaN    3 pokoje   \n",
       "1  Otwórz konto w promocji >>  4 i więcej   \n",
       "\n",
       "                                                Link            Place  \\\n",
       "0  https://www.olx.pl/oferta/wynajme-mieszkanie-C...  Rybnik, Śląskie   \n",
       "1  https://www.olx.pl/oferta/wynajme-mieszkanie-C...  Rybnik, Śląskie   \n",
       "\n",
       "        Advert_Owner    SqM Floor     BuildingType  Market Furnishings    City  \n",
       "0    Osoby prywatnej  69 m²     1  Apartamentowiec     NaN         Nie  rybnik  \n",
       "1  Biuro / Deweloper  76 m²     1             Blok  Wtórny         Nie  rybnik  "
      ]
     },
     "execution_count": 8,
     "metadata": {},
     "output_type": "execute_result"
    }
   ],
   "source": [
    "olx_df.head(2)"
   ]
  },
  {
   "cell_type": "code",
   "execution_count": 9,
   "metadata": {},
   "outputs": [
    {
     "data": {
      "text/plain": [
       "array(['Developer', 'Private'], dtype=object)"
      ]
     },
     "execution_count": 9,
     "metadata": {},
     "output_type": "execute_result"
    }
   ],
   "source": [
    "olx_df.Advert_Owner.replace(['Osoby prywatnej', 'Biuro / Deweloper'],['Developer','Private'],inplace=True)\n",
    "olx_df.Advert_Owner.unique()"
   ]
  },
  {
   "cell_type": "code",
   "execution_count": 10,
   "metadata": {},
   "outputs": [
    {
     "data": {
      "text/plain": [
       "array(['Apartment', 'Flat', 'House', 'Tenement', 'Other', 'Loft',\n",
       "       'Townhouse'], dtype=object)"
      ]
     },
     "execution_count": 10,
     "metadata": {},
     "output_type": "execute_result"
    }
   ],
   "source": [
    "olx_df.BuildingType.replace(['Apartamentowiec', 'Blok', 'Dom wolnostojący', 'Kamienica',\n",
    "                                'Pozostałe', 'Loft', 'Szeregowiec'],\n",
    "                               ['Apartment', 'Flat', 'House', 'Tenement',\n",
    "                                'Other', 'Loft', 'Townhouse'],inplace=True)\n",
    "olx_df.BuildingType.unique()"
   ]
  },
  {
   "cell_type": "code",
   "execution_count": 11,
   "metadata": {},
   "outputs": [
    {
     "data": {
      "text/plain": [
       "array([nan, 'After', 'Primary'], dtype=object)"
      ]
     },
     "execution_count": 11,
     "metadata": {},
     "output_type": "execute_result"
    }
   ],
   "source": [
    "olx_df.Market.replace(['Wtórny', 'Pierwotny'],['After', 'Primary'],inplace=True)\n",
    "olx_df.Market.unique()"
   ]
  },
  {
   "cell_type": "code",
   "execution_count": 12,
   "metadata": {},
   "outputs": [
    {
     "data": {
      "text/html": [
       "<div>\n",
       "<style scoped>\n",
       "    .dataframe tbody tr th:only-of-type {\n",
       "        vertical-align: middle;\n",
       "    }\n",
       "\n",
       "    .dataframe tbody tr th {\n",
       "        vertical-align: top;\n",
       "    }\n",
       "\n",
       "    .dataframe thead th {\n",
       "        text-align: right;\n",
       "    }\n",
       "</style>\n",
       "<table border=\"1\" class=\"dataframe\">\n",
       "  <thead>\n",
       "    <tr style=\"text-align: right;\">\n",
       "      <th></th>\n",
       "      <th>Price</th>\n",
       "      <th>PriceSqM</th>\n",
       "      <th>MonthlyRent</th>\n",
       "      <th>Finances</th>\n",
       "      <th>Bedrooms</th>\n",
       "      <th>Link</th>\n",
       "      <th>Place</th>\n",
       "      <th>Advert_Owner</th>\n",
       "      <th>SqM</th>\n",
       "      <th>Floor</th>\n",
       "      <th>BuildingType</th>\n",
       "      <th>Market</th>\n",
       "      <th>Furnishings</th>\n",
       "      <th>City</th>\n",
       "    </tr>\n",
       "  </thead>\n",
       "  <tbody>\n",
       "    <tr>\n",
       "      <th>0</th>\n",
       "      <td>2 000 zł</td>\n",
       "      <td>NaN</td>\n",
       "      <td>1 zł</td>\n",
       "      <td>NaN</td>\n",
       "      <td>3 pokoje</td>\n",
       "      <td>https://www.olx.pl/oferta/wynajme-mieszkanie-C...</td>\n",
       "      <td>Rybnik, Śląskie</td>\n",
       "      <td>Developer</td>\n",
       "      <td>69 m²</td>\n",
       "      <td>1</td>\n",
       "      <td>Apartment</td>\n",
       "      <td>NaN</td>\n",
       "      <td>Nie</td>\n",
       "      <td>rybnik</td>\n",
       "    </tr>\n",
       "    <tr>\n",
       "      <th>1</th>\n",
       "      <td>280 000 złDo negocjacji</td>\n",
       "      <td>3684.21 zł/m²</td>\n",
       "      <td>NaN</td>\n",
       "      <td>Otwórz konto w promocji &gt;&gt;</td>\n",
       "      <td>4 i więcej</td>\n",
       "      <td>https://www.olx.pl/oferta/wynajme-mieszkanie-C...</td>\n",
       "      <td>Rybnik, Śląskie</td>\n",
       "      <td>Private</td>\n",
       "      <td>76 m²</td>\n",
       "      <td>1</td>\n",
       "      <td>Flat</td>\n",
       "      <td>After</td>\n",
       "      <td>Nie</td>\n",
       "      <td>rybnik</td>\n",
       "    </tr>\n",
       "  </tbody>\n",
       "</table>\n",
       "</div>"
      ],
      "text/plain": [
       "                     Price       PriceSqM MonthlyRent  \\\n",
       "0                 2 000 zł            NaN        1 zł   \n",
       "1  280 000 złDo negocjacji  3684.21 zł/m²         NaN   \n",
       "\n",
       "                     Finances    Bedrooms  \\\n",
       "0                         NaN    3 pokoje   \n",
       "1  Otwórz konto w promocji >>  4 i więcej   \n",
       "\n",
       "                                                Link            Place  \\\n",
       "0  https://www.olx.pl/oferta/wynajme-mieszkanie-C...  Rybnik, Śląskie   \n",
       "1  https://www.olx.pl/oferta/wynajme-mieszkanie-C...  Rybnik, Śląskie   \n",
       "\n",
       "  Advert_Owner    SqM Floor BuildingType Market Furnishings    City  \n",
       "0    Developer  69 m²     1    Apartment    NaN         Nie  rybnik  \n",
       "1      Private  76 m²     1         Flat  After         Nie  rybnik  "
      ]
     },
     "execution_count": 12,
     "metadata": {},
     "output_type": "execute_result"
    }
   ],
   "source": [
    "olx_df.head(2)"
   ]
  },
  {
   "cell_type": "markdown",
   "metadata": {},
   "source": [
    "### Create a column specifying type of offer: For Sale or For Rent:"
   ]
  },
  {
   "cell_type": "code",
   "execution_count": 13,
   "metadata": {},
   "outputs": [],
   "source": [
    "olx_df['OfferType'] = np.where(olx_df['MonthlyRent'].isnull(), 'For_Sale', 'For_Rent')"
   ]
  },
  {
   "cell_type": "markdown",
   "metadata": {},
   "source": [
    "### Create a new dataframe before I start to do more changes"
   ]
  },
  {
   "cell_type": "code",
   "execution_count": 14,
   "metadata": {},
   "outputs": [],
   "source": [
    "olx_table = olx_df.copy()"
   ]
  },
  {
   "cell_type": "markdown",
   "metadata": {},
   "source": [
    "### Remove unnecessary columns with website link and information about loans "
   ]
  },
  {
   "cell_type": "code",
   "execution_count": 15,
   "metadata": {},
   "outputs": [],
   "source": [
    "olx_table.drop(columns={'Finances','Link'}, axis=1, inplace=True)"
   ]
  },
  {
   "cell_type": "code",
   "execution_count": 16,
   "metadata": {
    "scrolled": true
   },
   "outputs": [
    {
     "data": {
      "text/html": [
       "<div>\n",
       "<style scoped>\n",
       "    .dataframe tbody tr th:only-of-type {\n",
       "        vertical-align: middle;\n",
       "    }\n",
       "\n",
       "    .dataframe tbody tr th {\n",
       "        vertical-align: top;\n",
       "    }\n",
       "\n",
       "    .dataframe thead th {\n",
       "        text-align: right;\n",
       "    }\n",
       "</style>\n",
       "<table border=\"1\" class=\"dataframe\">\n",
       "  <thead>\n",
       "    <tr style=\"text-align: right;\">\n",
       "      <th></th>\n",
       "      <th>Price</th>\n",
       "      <th>PriceSqM</th>\n",
       "      <th>MonthlyRent</th>\n",
       "      <th>Bedrooms</th>\n",
       "      <th>Place</th>\n",
       "      <th>Advert_Owner</th>\n",
       "      <th>SqM</th>\n",
       "      <th>Floor</th>\n",
       "      <th>BuildingType</th>\n",
       "      <th>Market</th>\n",
       "      <th>Furnishings</th>\n",
       "      <th>City</th>\n",
       "      <th>OfferType</th>\n",
       "    </tr>\n",
       "  </thead>\n",
       "  <tbody>\n",
       "    <tr>\n",
       "      <th>0</th>\n",
       "      <td>2 000 zł</td>\n",
       "      <td>NaN</td>\n",
       "      <td>1 zł</td>\n",
       "      <td>3 pokoje</td>\n",
       "      <td>Rybnik, Śląskie</td>\n",
       "      <td>Developer</td>\n",
       "      <td>69 m²</td>\n",
       "      <td>1</td>\n",
       "      <td>Apartment</td>\n",
       "      <td>NaN</td>\n",
       "      <td>Nie</td>\n",
       "      <td>rybnik</td>\n",
       "      <td>For_Rent</td>\n",
       "    </tr>\n",
       "    <tr>\n",
       "      <th>1</th>\n",
       "      <td>280 000 złDo negocjacji</td>\n",
       "      <td>3684.21 zł/m²</td>\n",
       "      <td>NaN</td>\n",
       "      <td>4 i więcej</td>\n",
       "      <td>Rybnik, Śląskie</td>\n",
       "      <td>Private</td>\n",
       "      <td>76 m²</td>\n",
       "      <td>1</td>\n",
       "      <td>Flat</td>\n",
       "      <td>After</td>\n",
       "      <td>Nie</td>\n",
       "      <td>rybnik</td>\n",
       "      <td>For_Sale</td>\n",
       "    </tr>\n",
       "  </tbody>\n",
       "</table>\n",
       "</div>"
      ],
      "text/plain": [
       "                     Price       PriceSqM MonthlyRent    Bedrooms  \\\n",
       "0                 2 000 zł            NaN        1 zł    3 pokoje   \n",
       "1  280 000 złDo negocjacji  3684.21 zł/m²         NaN  4 i więcej   \n",
       "\n",
       "             Place Advert_Owner    SqM Floor BuildingType Market Furnishings  \\\n",
       "0  Rybnik, Śląskie    Developer  69 m²     1    Apartment    NaN         Nie   \n",
       "1  Rybnik, Śląskie      Private  76 m²     1         Flat  After         Nie   \n",
       "\n",
       "     City OfferType  \n",
       "0  rybnik  For_Rent  \n",
       "1  rybnik  For_Sale  "
      ]
     },
     "execution_count": 16,
     "metadata": {},
     "output_type": "execute_result"
    }
   ],
   "source": [
    "olx_table.head(2)"
   ]
  },
  {
   "cell_type": "markdown",
   "metadata": {},
   "source": [
    "### Create a column with cities using polish characters "
   ]
  },
  {
   "cell_type": "code",
   "execution_count": 17,
   "metadata": {},
   "outputs": [],
   "source": [
    "olx_table['City2'] = olx_table['Place'].str.split(',').str[0]"
   ]
  },
  {
   "cell_type": "code",
   "execution_count": 18,
   "metadata": {},
   "outputs": [
    {
     "data": {
      "text/html": [
       "<div>\n",
       "<style scoped>\n",
       "    .dataframe tbody tr th:only-of-type {\n",
       "        vertical-align: middle;\n",
       "    }\n",
       "\n",
       "    .dataframe tbody tr th {\n",
       "        vertical-align: top;\n",
       "    }\n",
       "\n",
       "    .dataframe thead th {\n",
       "        text-align: right;\n",
       "    }\n",
       "</style>\n",
       "<table border=\"1\" class=\"dataframe\">\n",
       "  <thead>\n",
       "    <tr style=\"text-align: right;\">\n",
       "      <th></th>\n",
       "      <th>Price</th>\n",
       "      <th>PriceSqM</th>\n",
       "      <th>MonthlyRent</th>\n",
       "      <th>Bedrooms</th>\n",
       "      <th>Place</th>\n",
       "      <th>Advert_Owner</th>\n",
       "      <th>SqM</th>\n",
       "      <th>Floor</th>\n",
       "      <th>BuildingType</th>\n",
       "      <th>Market</th>\n",
       "      <th>Furnishings</th>\n",
       "      <th>City</th>\n",
       "      <th>OfferType</th>\n",
       "      <th>City2</th>\n",
       "    </tr>\n",
       "  </thead>\n",
       "  <tbody>\n",
       "    <tr>\n",
       "      <th>0</th>\n",
       "      <td>2 000 zł</td>\n",
       "      <td>NaN</td>\n",
       "      <td>1 zł</td>\n",
       "      <td>3 pokoje</td>\n",
       "      <td>Rybnik, Śląskie</td>\n",
       "      <td>Developer</td>\n",
       "      <td>69 m²</td>\n",
       "      <td>1</td>\n",
       "      <td>Apartment</td>\n",
       "      <td>NaN</td>\n",
       "      <td>Nie</td>\n",
       "      <td>rybnik</td>\n",
       "      <td>For_Rent</td>\n",
       "      <td>Rybnik</td>\n",
       "    </tr>\n",
       "    <tr>\n",
       "      <th>1</th>\n",
       "      <td>280 000 złDo negocjacji</td>\n",
       "      <td>3684.21 zł/m²</td>\n",
       "      <td>NaN</td>\n",
       "      <td>4 i więcej</td>\n",
       "      <td>Rybnik, Śląskie</td>\n",
       "      <td>Private</td>\n",
       "      <td>76 m²</td>\n",
       "      <td>1</td>\n",
       "      <td>Flat</td>\n",
       "      <td>After</td>\n",
       "      <td>Nie</td>\n",
       "      <td>rybnik</td>\n",
       "      <td>For_Sale</td>\n",
       "      <td>Rybnik</td>\n",
       "    </tr>\n",
       "  </tbody>\n",
       "</table>\n",
       "</div>"
      ],
      "text/plain": [
       "                     Price       PriceSqM MonthlyRent    Bedrooms  \\\n",
       "0                 2 000 zł            NaN        1 zł    3 pokoje   \n",
       "1  280 000 złDo negocjacji  3684.21 zł/m²         NaN  4 i więcej   \n",
       "\n",
       "             Place Advert_Owner    SqM Floor BuildingType Market Furnishings  \\\n",
       "0  Rybnik, Śląskie    Developer  69 m²     1    Apartment    NaN         Nie   \n",
       "1  Rybnik, Śląskie      Private  76 m²     1         Flat  After         Nie   \n",
       "\n",
       "     City OfferType   City2  \n",
       "0  rybnik  For_Rent  Rybnik  \n",
       "1  rybnik  For_Sale  Rybnik  "
      ]
     },
     "execution_count": 18,
     "metadata": {},
     "output_type": "execute_result"
    }
   ],
   "source": [
    "olx_table.head(2)"
   ]
  },
  {
   "cell_type": "code",
   "execution_count": 19,
   "metadata": {},
   "outputs": [
    {
     "data": {
      "text/plain": [
       "array(['Rybnik', 'Chorzów', 'Tychy', 'no data', 'Mysłowice', 'Mikołów',\n",
       "       'Tarnowskie Góry', 'Gliwice', 'Zabrze', 'Ruda Śląska', 'Knurów',\n",
       "       'Świętochłowice', 'Bytom', 'Żory', 'Wodzisław Śląski', 'Katowice'],\n",
       "      dtype=object)"
      ]
     },
     "execution_count": 19,
     "metadata": {},
     "output_type": "execute_result"
    }
   ],
   "source": [
    "olx_table.City2.unique()"
   ]
  },
  {
   "cell_type": "code",
   "execution_count": 20,
   "metadata": {},
   "outputs": [],
   "source": [
    "# We have some 'no data' records so in that cases let's use city names used in during scraping process (with capitalize func) \n",
    "olx_table['City2'] = np.where(olx_table['City2']=='no data',olx_table['City'].str.capitalize(),olx_table['City2'])"
   ]
  },
  {
   "cell_type": "code",
   "execution_count": 21,
   "metadata": {},
   "outputs": [
    {
     "data": {
      "text/plain": [
       "array(['Rybnik', 'Chorzów', 'Tychy', 'Mysłowice', 'Mikołów',\n",
       "       'Tarnowskie Góry', 'Gliwice', 'Zabrze', 'Ruda Śląska', 'Knurów',\n",
       "       'Świętochłowice', 'Bytom', 'Żory', 'Wodzisław Śląski', 'Katowice'],\n",
       "      dtype=object)"
      ]
     },
     "execution_count": 21,
     "metadata": {},
     "output_type": "execute_result"
    }
   ],
   "source": [
    "olx_table.City2.unique()"
   ]
  },
  {
   "cell_type": "code",
   "execution_count": 22,
   "metadata": {},
   "outputs": [],
   "source": [
    "olx_table.drop(columns={'City'},inplace=True)"
   ]
  },
  {
   "cell_type": "code",
   "execution_count": 23,
   "metadata": {},
   "outputs": [],
   "source": [
    "olx_table.rename(columns={'City2':'City'},inplace=True)"
   ]
  },
  {
   "cell_type": "markdown",
   "metadata": {},
   "source": [
    "### Is there possibility to negotiate a price?"
   ]
  },
  {
   "cell_type": "code",
   "execution_count": 24,
   "metadata": {},
   "outputs": [],
   "source": [
    "olx_table['Negotiating'] = np.where(olx_table.Price.str.contains('Do negocjacji'), 1, 0)"
   ]
  },
  {
   "cell_type": "code",
   "execution_count": 25,
   "metadata": {
    "scrolled": true
   },
   "outputs": [
    {
     "data": {
      "text/html": [
       "<div>\n",
       "<style scoped>\n",
       "    .dataframe tbody tr th:only-of-type {\n",
       "        vertical-align: middle;\n",
       "    }\n",
       "\n",
       "    .dataframe tbody tr th {\n",
       "        vertical-align: top;\n",
       "    }\n",
       "\n",
       "    .dataframe thead th {\n",
       "        text-align: right;\n",
       "    }\n",
       "</style>\n",
       "<table border=\"1\" class=\"dataframe\">\n",
       "  <thead>\n",
       "    <tr style=\"text-align: right;\">\n",
       "      <th></th>\n",
       "      <th>Price</th>\n",
       "      <th>PriceSqM</th>\n",
       "      <th>MonthlyRent</th>\n",
       "      <th>Bedrooms</th>\n",
       "      <th>Place</th>\n",
       "      <th>Advert_Owner</th>\n",
       "      <th>SqM</th>\n",
       "      <th>Floor</th>\n",
       "      <th>BuildingType</th>\n",
       "      <th>Market</th>\n",
       "      <th>Furnishings</th>\n",
       "      <th>OfferType</th>\n",
       "      <th>City</th>\n",
       "      <th>Negotiating</th>\n",
       "    </tr>\n",
       "  </thead>\n",
       "  <tbody>\n",
       "    <tr>\n",
       "      <th>0</th>\n",
       "      <td>2 000 zł</td>\n",
       "      <td>NaN</td>\n",
       "      <td>1 zł</td>\n",
       "      <td>3 pokoje</td>\n",
       "      <td>Rybnik, Śląskie</td>\n",
       "      <td>Developer</td>\n",
       "      <td>69 m²</td>\n",
       "      <td>1</td>\n",
       "      <td>Apartment</td>\n",
       "      <td>NaN</td>\n",
       "      <td>Nie</td>\n",
       "      <td>For_Rent</td>\n",
       "      <td>Rybnik</td>\n",
       "      <td>0</td>\n",
       "    </tr>\n",
       "    <tr>\n",
       "      <th>1</th>\n",
       "      <td>280 000 złDo negocjacji</td>\n",
       "      <td>3684.21 zł/m²</td>\n",
       "      <td>NaN</td>\n",
       "      <td>4 i więcej</td>\n",
       "      <td>Rybnik, Śląskie</td>\n",
       "      <td>Private</td>\n",
       "      <td>76 m²</td>\n",
       "      <td>1</td>\n",
       "      <td>Flat</td>\n",
       "      <td>After</td>\n",
       "      <td>Nie</td>\n",
       "      <td>For_Sale</td>\n",
       "      <td>Rybnik</td>\n",
       "      <td>1</td>\n",
       "    </tr>\n",
       "    <tr>\n",
       "      <th>2</th>\n",
       "      <td>1 800 złDo negocjacji</td>\n",
       "      <td>NaN</td>\n",
       "      <td>100 zł</td>\n",
       "      <td>3 pokoje</td>\n",
       "      <td>Rybnik, Śląskie</td>\n",
       "      <td>Private</td>\n",
       "      <td>100 m²</td>\n",
       "      <td>Parter</td>\n",
       "      <td>House</td>\n",
       "      <td>NaN</td>\n",
       "      <td>Tak</td>\n",
       "      <td>For_Rent</td>\n",
       "      <td>Rybnik</td>\n",
       "      <td>1</td>\n",
       "    </tr>\n",
       "    <tr>\n",
       "      <th>3</th>\n",
       "      <td>1 300 złDo negocjacji</td>\n",
       "      <td>NaN</td>\n",
       "      <td>600 zł</td>\n",
       "      <td>2 pokoje</td>\n",
       "      <td>Rybnik, Śląskie</td>\n",
       "      <td>Developer</td>\n",
       "      <td>50 m²</td>\n",
       "      <td>1</td>\n",
       "      <td>Flat</td>\n",
       "      <td>NaN</td>\n",
       "      <td>Tak</td>\n",
       "      <td>For_Rent</td>\n",
       "      <td>Rybnik</td>\n",
       "      <td>1</td>\n",
       "    </tr>\n",
       "    <tr>\n",
       "      <th>4</th>\n",
       "      <td>2 200 zł</td>\n",
       "      <td>NaN</td>\n",
       "      <td>1 zł</td>\n",
       "      <td>2 pokoje</td>\n",
       "      <td>Rybnik, Śląskie</td>\n",
       "      <td>Developer</td>\n",
       "      <td>66 m²</td>\n",
       "      <td>4</td>\n",
       "      <td>Flat</td>\n",
       "      <td>NaN</td>\n",
       "      <td>Tak</td>\n",
       "      <td>For_Rent</td>\n",
       "      <td>Rybnik</td>\n",
       "      <td>0</td>\n",
       "    </tr>\n",
       "  </tbody>\n",
       "</table>\n",
       "</div>"
      ],
      "text/plain": [
       "                     Price       PriceSqM MonthlyRent    Bedrooms  \\\n",
       "0                 2 000 zł            NaN        1 zł    3 pokoje   \n",
       "1  280 000 złDo negocjacji  3684.21 zł/m²         NaN  4 i więcej   \n",
       "2    1 800 złDo negocjacji            NaN      100 zł    3 pokoje   \n",
       "3    1 300 złDo negocjacji            NaN      600 zł    2 pokoje   \n",
       "4                 2 200 zł            NaN        1 zł    2 pokoje   \n",
       "\n",
       "             Place Advert_Owner     SqM   Floor BuildingType Market  \\\n",
       "0  Rybnik, Śląskie    Developer   69 m²       1    Apartment    NaN   \n",
       "1  Rybnik, Śląskie      Private   76 m²       1         Flat  After   \n",
       "2  Rybnik, Śląskie      Private  100 m²  Parter        House    NaN   \n",
       "3  Rybnik, Śląskie    Developer   50 m²       1         Flat    NaN   \n",
       "4  Rybnik, Śląskie    Developer   66 m²       4         Flat    NaN   \n",
       "\n",
       "  Furnishings OfferType    City  Negotiating  \n",
       "0         Nie  For_Rent  Rybnik            0  \n",
       "1         Nie  For_Sale  Rybnik            1  \n",
       "2         Tak  For_Rent  Rybnik            1  \n",
       "3         Tak  For_Rent  Rybnik            1  \n",
       "4         Tak  For_Rent  Rybnik            0  "
      ]
     },
     "execution_count": 25,
     "metadata": {},
     "output_type": "execute_result"
    }
   ],
   "source": [
    "olx_table.head()"
   ]
  },
  {
   "cell_type": "markdown",
   "metadata": {},
   "source": [
    "### Create a function which remove unnecessary text from chosen column and keep just the first value\n",
    "\n",
    "But first we need to remove null values from chosen columns"
   ]
  },
  {
   "cell_type": "code",
   "execution_count": 26,
   "metadata": {},
   "outputs": [
    {
     "data": {
      "text/plain": [
       "Price              0\n",
       "PriceSqM        1380\n",
       "MonthlyRent      831\n",
       "Bedrooms           0\n",
       "Place              0\n",
       "Advert_Owner       0\n",
       "SqM                0\n",
       "Floor             51\n",
       "BuildingType       0\n",
       "Market          1380\n",
       "Furnishings        0\n",
       "OfferType          0\n",
       "City               0\n",
       "Negotiating        0\n",
       "dtype: int64"
      ]
     },
     "execution_count": 26,
     "metadata": {},
     "output_type": "execute_result"
    }
   ],
   "source": [
    "olx_table.isnull().sum()"
   ]
  },
  {
   "cell_type": "code",
   "execution_count": 27,
   "metadata": {},
   "outputs": [],
   "source": [
    "olx_table['PriceSqM'] = olx_table['PriceSqM'].replace(np.nan, '0  zł/m²')"
   ]
  },
  {
   "cell_type": "code",
   "execution_count": 28,
   "metadata": {},
   "outputs": [],
   "source": [
    "olx_table['MonthlyRent'] = olx_table['MonthlyRent'].replace(np.nan, '0  zł')"
   ]
  },
  {
   "cell_type": "code",
   "execution_count": 29,
   "metadata": {},
   "outputs": [
    {
     "data": {
      "text/html": [
       "<div>\n",
       "<style scoped>\n",
       "    .dataframe tbody tr th:only-of-type {\n",
       "        vertical-align: middle;\n",
       "    }\n",
       "\n",
       "    .dataframe tbody tr th {\n",
       "        vertical-align: top;\n",
       "    }\n",
       "\n",
       "    .dataframe thead th {\n",
       "        text-align: right;\n",
       "    }\n",
       "</style>\n",
       "<table border=\"1\" class=\"dataframe\">\n",
       "  <thead>\n",
       "    <tr style=\"text-align: right;\">\n",
       "      <th></th>\n",
       "      <th>Price</th>\n",
       "      <th>PriceSqM</th>\n",
       "      <th>MonthlyRent</th>\n",
       "      <th>Bedrooms</th>\n",
       "      <th>Place</th>\n",
       "      <th>Advert_Owner</th>\n",
       "      <th>SqM</th>\n",
       "      <th>Floor</th>\n",
       "      <th>BuildingType</th>\n",
       "      <th>Market</th>\n",
       "      <th>Furnishings</th>\n",
       "      <th>OfferType</th>\n",
       "      <th>City</th>\n",
       "      <th>Negotiating</th>\n",
       "    </tr>\n",
       "  </thead>\n",
       "  <tbody>\n",
       "    <tr>\n",
       "      <th>0</th>\n",
       "      <td>2 000 zł</td>\n",
       "      <td>0  zł/m²</td>\n",
       "      <td>1 zł</td>\n",
       "      <td>3 pokoje</td>\n",
       "      <td>Rybnik, Śląskie</td>\n",
       "      <td>Developer</td>\n",
       "      <td>69 m²</td>\n",
       "      <td>1</td>\n",
       "      <td>Apartment</td>\n",
       "      <td>NaN</td>\n",
       "      <td>Nie</td>\n",
       "      <td>For_Rent</td>\n",
       "      <td>Rybnik</td>\n",
       "      <td>0</td>\n",
       "    </tr>\n",
       "    <tr>\n",
       "      <th>1</th>\n",
       "      <td>280 000 złDo negocjacji</td>\n",
       "      <td>3684.21 zł/m²</td>\n",
       "      <td>0  zł</td>\n",
       "      <td>4 i więcej</td>\n",
       "      <td>Rybnik, Śląskie</td>\n",
       "      <td>Private</td>\n",
       "      <td>76 m²</td>\n",
       "      <td>1</td>\n",
       "      <td>Flat</td>\n",
       "      <td>After</td>\n",
       "      <td>Nie</td>\n",
       "      <td>For_Sale</td>\n",
       "      <td>Rybnik</td>\n",
       "      <td>1</td>\n",
       "    </tr>\n",
       "  </tbody>\n",
       "</table>\n",
       "</div>"
      ],
      "text/plain": [
       "                     Price       PriceSqM MonthlyRent    Bedrooms  \\\n",
       "0                 2 000 zł       0  zł/m²        1 zł    3 pokoje   \n",
       "1  280 000 złDo negocjacji  3684.21 zł/m²       0  zł  4 i więcej   \n",
       "\n",
       "             Place Advert_Owner    SqM Floor BuildingType Market Furnishings  \\\n",
       "0  Rybnik, Śląskie    Developer  69 m²     1    Apartment    NaN         Nie   \n",
       "1  Rybnik, Śląskie      Private  76 m²     1         Flat  After         Nie   \n",
       "\n",
       "  OfferType    City  Negotiating  \n",
       "0  For_Rent  Rybnik            0  \n",
       "1  For_Sale  Rybnik            1  "
      ]
     },
     "execution_count": 29,
     "metadata": {},
     "output_type": "execute_result"
    }
   ],
   "source": [
    "olx_table.head(2)"
   ]
  },
  {
   "cell_type": "code",
   "execution_count": 30,
   "metadata": {},
   "outputs": [],
   "source": [
    "def remove_str(x):\n",
    "    token1 = x.split(' złDo negocjacji') # Price\n",
    "    token2 = x.split(' zł') # Price / MonthlyRent\n",
    "    token3 = x.split(' zł/m²') # PriceSqM\n",
    "    token4 = x.split(' m²') # SqM\n",
    "    if len(token1) == 2:\n",
    "        return (str(token1[0]))\n",
    "    elif len(token2) == 2:\n",
    "        return (str(token2[0]))\n",
    "    elif len(token3) == 2:\n",
    "        return (str(token3[0]))\n",
    "    elif len(token4) == 2:\n",
    "        return (str(token4[0]))\n",
    "    try:\n",
    "        return str(x)\n",
    "    except:\n",
    "        return False    "
   ]
  },
  {
   "cell_type": "code",
   "execution_count": 31,
   "metadata": {},
   "outputs": [],
   "source": [
    "olx_table['Price'] = olx_table['Price'].apply(remove_str)"
   ]
  },
  {
   "cell_type": "code",
   "execution_count": 32,
   "metadata": {},
   "outputs": [],
   "source": [
    "olx_table['PriceSqM'] = olx_table['PriceSqM'].apply(remove_str)"
   ]
  },
  {
   "cell_type": "code",
   "execution_count": 33,
   "metadata": {},
   "outputs": [],
   "source": [
    "olx_table['SqM'] = olx_table['SqM'].apply(remove_str)"
   ]
  },
  {
   "cell_type": "code",
   "execution_count": 34,
   "metadata": {},
   "outputs": [],
   "source": [
    "olx_table['MonthlyRent'] = olx_table['MonthlyRent'].apply(remove_str)"
   ]
  },
  {
   "cell_type": "code",
   "execution_count": 35,
   "metadata": {},
   "outputs": [
    {
     "data": {
      "text/html": [
       "<div>\n",
       "<style scoped>\n",
       "    .dataframe tbody tr th:only-of-type {\n",
       "        vertical-align: middle;\n",
       "    }\n",
       "\n",
       "    .dataframe tbody tr th {\n",
       "        vertical-align: top;\n",
       "    }\n",
       "\n",
       "    .dataframe thead th {\n",
       "        text-align: right;\n",
       "    }\n",
       "</style>\n",
       "<table border=\"1\" class=\"dataframe\">\n",
       "  <thead>\n",
       "    <tr style=\"text-align: right;\">\n",
       "      <th></th>\n",
       "      <th>Price</th>\n",
       "      <th>PriceSqM</th>\n",
       "      <th>MonthlyRent</th>\n",
       "      <th>Bedrooms</th>\n",
       "      <th>Place</th>\n",
       "      <th>Advert_Owner</th>\n",
       "      <th>SqM</th>\n",
       "      <th>Floor</th>\n",
       "      <th>BuildingType</th>\n",
       "      <th>Market</th>\n",
       "      <th>Furnishings</th>\n",
       "      <th>OfferType</th>\n",
       "      <th>City</th>\n",
       "      <th>Negotiating</th>\n",
       "    </tr>\n",
       "  </thead>\n",
       "  <tbody>\n",
       "    <tr>\n",
       "      <th>0</th>\n",
       "      <td>2 000</td>\n",
       "      <td>0</td>\n",
       "      <td>1</td>\n",
       "      <td>3 pokoje</td>\n",
       "      <td>Rybnik, Śląskie</td>\n",
       "      <td>Developer</td>\n",
       "      <td>69</td>\n",
       "      <td>1</td>\n",
       "      <td>Apartment</td>\n",
       "      <td>NaN</td>\n",
       "      <td>Nie</td>\n",
       "      <td>For_Rent</td>\n",
       "      <td>Rybnik</td>\n",
       "      <td>0</td>\n",
       "    </tr>\n",
       "    <tr>\n",
       "      <th>1</th>\n",
       "      <td>280 000</td>\n",
       "      <td>3684.21</td>\n",
       "      <td>0</td>\n",
       "      <td>4 i więcej</td>\n",
       "      <td>Rybnik, Śląskie</td>\n",
       "      <td>Private</td>\n",
       "      <td>76</td>\n",
       "      <td>1</td>\n",
       "      <td>Flat</td>\n",
       "      <td>After</td>\n",
       "      <td>Nie</td>\n",
       "      <td>For_Sale</td>\n",
       "      <td>Rybnik</td>\n",
       "      <td>1</td>\n",
       "    </tr>\n",
       "  </tbody>\n",
       "</table>\n",
       "</div>"
      ],
      "text/plain": [
       "     Price PriceSqM MonthlyRent    Bedrooms            Place Advert_Owner SqM  \\\n",
       "0    2 000       0            1    3 pokoje  Rybnik, Śląskie    Developer  69   \n",
       "1  280 000  3684.21          0   4 i więcej  Rybnik, Śląskie      Private  76   \n",
       "\n",
       "  Floor BuildingType Market Furnishings OfferType    City  Negotiating  \n",
       "0     1    Apartment    NaN         Nie  For_Rent  Rybnik            0  \n",
       "1     1         Flat  After         Nie  For_Sale  Rybnik            1  "
      ]
     },
     "execution_count": 35,
     "metadata": {},
     "output_type": "execute_result"
    }
   ],
   "source": [
    "olx_table.head(2)"
   ]
  },
  {
   "cell_type": "markdown",
   "metadata": {},
   "source": [
    "### Remove empty spaces in the first two columns"
   ]
  },
  {
   "cell_type": "code",
   "execution_count": 36,
   "metadata": {},
   "outputs": [
    {
     "data": {
      "text/plain": [
       "'2 000'"
      ]
     },
     "execution_count": 36,
     "metadata": {},
     "output_type": "execute_result"
    }
   ],
   "source": [
    "olx_table.iloc[0,0]"
   ]
  },
  {
   "cell_type": "code",
   "execution_count": 37,
   "metadata": {},
   "outputs": [
    {
     "data": {
      "text/plain": [
       "'2000'"
      ]
     },
     "execution_count": 37,
     "metadata": {},
     "output_type": "execute_result"
    }
   ],
   "source": [
    "olx_table['Price'] = olx_table['Price'].str.replace(' ', '')\n",
    "olx_table['PriceSqM'] = olx_table['PriceSqM'].str.replace(' ', '') \n",
    "olx_table.iloc[0,0]"
   ]
  },
  {
   "cell_type": "code",
   "execution_count": 38,
   "metadata": {},
   "outputs": [
    {
     "data": {
      "text/html": [
       "<div>\n",
       "<style scoped>\n",
       "    .dataframe tbody tr th:only-of-type {\n",
       "        vertical-align: middle;\n",
       "    }\n",
       "\n",
       "    .dataframe tbody tr th {\n",
       "        vertical-align: top;\n",
       "    }\n",
       "\n",
       "    .dataframe thead th {\n",
       "        text-align: right;\n",
       "    }\n",
       "</style>\n",
       "<table border=\"1\" class=\"dataframe\">\n",
       "  <thead>\n",
       "    <tr style=\"text-align: right;\">\n",
       "      <th></th>\n",
       "      <th>Price</th>\n",
       "      <th>PriceSqM</th>\n",
       "      <th>MonthlyRent</th>\n",
       "      <th>Bedrooms</th>\n",
       "      <th>Place</th>\n",
       "      <th>Advert_Owner</th>\n",
       "      <th>SqM</th>\n",
       "      <th>Floor</th>\n",
       "      <th>BuildingType</th>\n",
       "      <th>Market</th>\n",
       "      <th>Furnishings</th>\n",
       "      <th>OfferType</th>\n",
       "      <th>City</th>\n",
       "      <th>Negotiating</th>\n",
       "    </tr>\n",
       "  </thead>\n",
       "  <tbody>\n",
       "    <tr>\n",
       "      <th>0</th>\n",
       "      <td>2000</td>\n",
       "      <td>0</td>\n",
       "      <td>1</td>\n",
       "      <td>3 pokoje</td>\n",
       "      <td>Rybnik, Śląskie</td>\n",
       "      <td>Developer</td>\n",
       "      <td>69</td>\n",
       "      <td>1</td>\n",
       "      <td>Apartment</td>\n",
       "      <td>NaN</td>\n",
       "      <td>Nie</td>\n",
       "      <td>For_Rent</td>\n",
       "      <td>Rybnik</td>\n",
       "      <td>0</td>\n",
       "    </tr>\n",
       "    <tr>\n",
       "      <th>1</th>\n",
       "      <td>280000</td>\n",
       "      <td>3684.21</td>\n",
       "      <td>0</td>\n",
       "      <td>4 i więcej</td>\n",
       "      <td>Rybnik, Śląskie</td>\n",
       "      <td>Private</td>\n",
       "      <td>76</td>\n",
       "      <td>1</td>\n",
       "      <td>Flat</td>\n",
       "      <td>After</td>\n",
       "      <td>Nie</td>\n",
       "      <td>For_Sale</td>\n",
       "      <td>Rybnik</td>\n",
       "      <td>1</td>\n",
       "    </tr>\n",
       "  </tbody>\n",
       "</table>\n",
       "</div>"
      ],
      "text/plain": [
       "    Price PriceSqM MonthlyRent    Bedrooms            Place Advert_Owner SqM  \\\n",
       "0    2000        0           1    3 pokoje  Rybnik, Śląskie    Developer  69   \n",
       "1  280000  3684.21          0   4 i więcej  Rybnik, Śląskie      Private  76   \n",
       "\n",
       "  Floor BuildingType Market Furnishings OfferType    City  Negotiating  \n",
       "0     1    Apartment    NaN         Nie  For_Rent  Rybnik            0  \n",
       "1     1         Flat  After         Nie  For_Sale  Rybnik            1  "
      ]
     },
     "execution_count": 38,
     "metadata": {},
     "output_type": "execute_result"
    }
   ],
   "source": [
    "olx_table.head(2)"
   ]
  },
  {
   "cell_type": "markdown",
   "metadata": {},
   "source": [
    "8.Change values in Bedrooms column"
   ]
  },
  {
   "cell_type": "code",
   "execution_count": 39,
   "metadata": {},
   "outputs": [
    {
     "data": {
      "text/plain": [
       "array(['3 pokoje', '4 i więcej', '2 pokoje', 'Kawalerka', '1 pokój'],\n",
       "      dtype=object)"
      ]
     },
     "execution_count": 39,
     "metadata": {},
     "output_type": "execute_result"
    }
   ],
   "source": [
    "olx_table.Bedrooms.unique()"
   ]
  },
  {
   "cell_type": "code",
   "execution_count": 40,
   "metadata": {},
   "outputs": [
    {
     "data": {
      "text/plain": [
       "Bedrooms\n",
       "1 pokój       100\n",
       "2 pokoje      950\n",
       "3 pokoje      548\n",
       "4 i więcej    115\n",
       "Kawalerka     408\n",
       "Name: Bedrooms, dtype: int64"
      ]
     },
     "execution_count": 40,
     "metadata": {},
     "output_type": "execute_result"
    }
   ],
   "source": [
    "olx_table.groupby('Bedrooms')['Bedrooms'].count()"
   ]
  },
  {
   "cell_type": "code",
   "execution_count": 41,
   "metadata": {},
   "outputs": [],
   "source": [
    "def rooms_number(x):\n",
    "    if x == 'Kawalerka' or x == '1 pokój':\n",
    "        return 1\n",
    "    elif x == '2 pokoje':\n",
    "        return 2\n",
    "    elif x == '3 pokoje':\n",
    "        return 3\n",
    "    else:\n",
    "        return 4"
   ]
  },
  {
   "cell_type": "code",
   "execution_count": 42,
   "metadata": {},
   "outputs": [],
   "source": [
    "olx_table['Bedrooms'] = olx_table['Bedrooms'].apply(rooms_number)"
   ]
  },
  {
   "cell_type": "code",
   "execution_count": 43,
   "metadata": {},
   "outputs": [
    {
     "data": {
      "text/plain": [
       "Bedrooms\n",
       "1    508\n",
       "2    950\n",
       "3    548\n",
       "4    115\n",
       "Name: Bedrooms, dtype: int64"
      ]
     },
     "execution_count": 43,
     "metadata": {},
     "output_type": "execute_result"
    }
   ],
   "source": [
    "olx_table.groupby('Bedrooms')['Bedrooms'].count()"
   ]
  },
  {
   "cell_type": "markdown",
   "metadata": {},
   "source": [
    "### Keep integer values in the \"Floor\" and \"Furnishings\" columns"
   ]
  },
  {
   "cell_type": "code",
   "execution_count": 44,
   "metadata": {},
   "outputs": [
    {
     "data": {
      "text/plain": [
       "array(['1', 'Parter', '4', '2', '7', nan, '3', '5', '8', '6', '10',\n",
       "       'Powyżej 10', '9', 'Poddasze'], dtype=object)"
      ]
     },
     "execution_count": 44,
     "metadata": {},
     "output_type": "execute_result"
    }
   ],
   "source": [
    "olx_table.Floor.unique() # we have some object in here"
   ]
  },
  {
   "cell_type": "code",
   "execution_count": 45,
   "metadata": {},
   "outputs": [
    {
     "data": {
      "text/plain": [
       "Floor\n",
       "1             521\n",
       "10             42\n",
       "2             427\n",
       "3             309\n",
       "4             228\n",
       "5              36\n",
       "6              40\n",
       "7              31\n",
       "8              19\n",
       "9              32\n",
       "Parter        363\n",
       "Poddasze        4\n",
       "Powyżej 10     18\n",
       "Name: Floor, dtype: int64"
      ]
     },
     "execution_count": 45,
     "metadata": {},
     "output_type": "execute_result"
    }
   ],
   "source": [
    "olx_table.groupby('Floor')['Floor'].count()"
   ]
  },
  {
   "cell_type": "markdown",
   "metadata": {},
   "source": [
    "I am not interested in: Attic (Poddasze), floor > 10. So I removed records with these floors and with null. Ground Floor  (Parter) I renamed to 0 "
   ]
  },
  {
   "cell_type": "code",
   "execution_count": 46,
   "metadata": {},
   "outputs": [],
   "source": [
    "olx_table.drop(olx_table[(olx_table.Floor=='Poddasze')|(olx_table.Floor=='Powyżej 10')].index, axis=0, inplace=True)"
   ]
  },
  {
   "cell_type": "code",
   "execution_count": 47,
   "metadata": {},
   "outputs": [],
   "source": [
    "olx_table.dropna(subset=['Floor'],inplace=True)"
   ]
  },
  {
   "cell_type": "code",
   "execution_count": 48,
   "metadata": {},
   "outputs": [],
   "source": [
    "olx_table['Floor'] = olx_table.Floor.replace('Parter','0')"
   ]
  },
  {
   "cell_type": "code",
   "execution_count": 49,
   "metadata": {},
   "outputs": [],
   "source": [
    "olx_table['Floor'] = olx_table['Floor'].astype(int)"
   ]
  },
  {
   "cell_type": "code",
   "execution_count": 50,
   "metadata": {},
   "outputs": [
    {
     "data": {
      "text/plain": [
       "Floor\n",
       "0     363\n",
       "1     521\n",
       "2     427\n",
       "3     309\n",
       "4     228\n",
       "5      36\n",
       "6      40\n",
       "7      31\n",
       "8      19\n",
       "9      32\n",
       "10     42\n",
       "Name: Floor, dtype: int64"
      ]
     },
     "execution_count": 50,
     "metadata": {},
     "output_type": "execute_result"
    }
   ],
   "source": [
    "olx_table.groupby('Floor')['Floor'].count()"
   ]
  },
  {
   "cell_type": "code",
   "execution_count": 51,
   "metadata": {},
   "outputs": [],
   "source": [
    "olx_table['Furnishings'] = np.where(olx_table.Furnishings=='Tak',1,0)"
   ]
  },
  {
   "cell_type": "code",
   "execution_count": 52,
   "metadata": {},
   "outputs": [
    {
     "data": {
      "text/html": [
       "<div>\n",
       "<style scoped>\n",
       "    .dataframe tbody tr th:only-of-type {\n",
       "        vertical-align: middle;\n",
       "    }\n",
       "\n",
       "    .dataframe tbody tr th {\n",
       "        vertical-align: top;\n",
       "    }\n",
       "\n",
       "    .dataframe thead th {\n",
       "        text-align: right;\n",
       "    }\n",
       "</style>\n",
       "<table border=\"1\" class=\"dataframe\">\n",
       "  <thead>\n",
       "    <tr style=\"text-align: right;\">\n",
       "      <th></th>\n",
       "      <th>Price</th>\n",
       "      <th>PriceSqM</th>\n",
       "      <th>MonthlyRent</th>\n",
       "      <th>Bedrooms</th>\n",
       "      <th>Place</th>\n",
       "      <th>Advert_Owner</th>\n",
       "      <th>SqM</th>\n",
       "      <th>Floor</th>\n",
       "      <th>BuildingType</th>\n",
       "      <th>Market</th>\n",
       "      <th>Furnishings</th>\n",
       "      <th>OfferType</th>\n",
       "      <th>City</th>\n",
       "      <th>Negotiating</th>\n",
       "    </tr>\n",
       "  </thead>\n",
       "  <tbody>\n",
       "    <tr>\n",
       "      <th>0</th>\n",
       "      <td>2000</td>\n",
       "      <td>0</td>\n",
       "      <td>1</td>\n",
       "      <td>3</td>\n",
       "      <td>Rybnik, Śląskie</td>\n",
       "      <td>Developer</td>\n",
       "      <td>69</td>\n",
       "      <td>1</td>\n",
       "      <td>Apartment</td>\n",
       "      <td>NaN</td>\n",
       "      <td>0</td>\n",
       "      <td>For_Rent</td>\n",
       "      <td>Rybnik</td>\n",
       "      <td>0</td>\n",
       "    </tr>\n",
       "    <tr>\n",
       "      <th>1</th>\n",
       "      <td>280000</td>\n",
       "      <td>3684.21</td>\n",
       "      <td>0</td>\n",
       "      <td>4</td>\n",
       "      <td>Rybnik, Śląskie</td>\n",
       "      <td>Private</td>\n",
       "      <td>76</td>\n",
       "      <td>1</td>\n",
       "      <td>Flat</td>\n",
       "      <td>After</td>\n",
       "      <td>0</td>\n",
       "      <td>For_Sale</td>\n",
       "      <td>Rybnik</td>\n",
       "      <td>1</td>\n",
       "    </tr>\n",
       "    <tr>\n",
       "      <th>2</th>\n",
       "      <td>1800</td>\n",
       "      <td>0</td>\n",
       "      <td>100</td>\n",
       "      <td>3</td>\n",
       "      <td>Rybnik, Śląskie</td>\n",
       "      <td>Private</td>\n",
       "      <td>100</td>\n",
       "      <td>0</td>\n",
       "      <td>House</td>\n",
       "      <td>NaN</td>\n",
       "      <td>1</td>\n",
       "      <td>For_Rent</td>\n",
       "      <td>Rybnik</td>\n",
       "      <td>1</td>\n",
       "    </tr>\n",
       "    <tr>\n",
       "      <th>3</th>\n",
       "      <td>1300</td>\n",
       "      <td>0</td>\n",
       "      <td>600</td>\n",
       "      <td>2</td>\n",
       "      <td>Rybnik, Śląskie</td>\n",
       "      <td>Developer</td>\n",
       "      <td>50</td>\n",
       "      <td>1</td>\n",
       "      <td>Flat</td>\n",
       "      <td>NaN</td>\n",
       "      <td>1</td>\n",
       "      <td>For_Rent</td>\n",
       "      <td>Rybnik</td>\n",
       "      <td>1</td>\n",
       "    </tr>\n",
       "    <tr>\n",
       "      <th>4</th>\n",
       "      <td>2200</td>\n",
       "      <td>0</td>\n",
       "      <td>1</td>\n",
       "      <td>2</td>\n",
       "      <td>Rybnik, Śląskie</td>\n",
       "      <td>Developer</td>\n",
       "      <td>66</td>\n",
       "      <td>4</td>\n",
       "      <td>Flat</td>\n",
       "      <td>NaN</td>\n",
       "      <td>1</td>\n",
       "      <td>For_Rent</td>\n",
       "      <td>Rybnik</td>\n",
       "      <td>0</td>\n",
       "    </tr>\n",
       "  </tbody>\n",
       "</table>\n",
       "</div>"
      ],
      "text/plain": [
       "    Price PriceSqM MonthlyRent  Bedrooms            Place Advert_Owner  SqM  \\\n",
       "0    2000        0           1         3  Rybnik, Śląskie    Developer   69   \n",
       "1  280000  3684.21          0          4  Rybnik, Śląskie      Private   76   \n",
       "2    1800        0         100         3  Rybnik, Śląskie      Private  100   \n",
       "3    1300        0         600         2  Rybnik, Śląskie    Developer   50   \n",
       "4    2200        0           1         2  Rybnik, Śląskie    Developer   66   \n",
       "\n",
       "   Floor BuildingType Market  Furnishings OfferType    City  Negotiating  \n",
       "0      1    Apartment    NaN            0  For_Rent  Rybnik            0  \n",
       "1      1         Flat  After            0  For_Sale  Rybnik            1  \n",
       "2      0        House    NaN            1  For_Rent  Rybnik            1  \n",
       "3      1         Flat    NaN            1  For_Rent  Rybnik            1  \n",
       "4      4         Flat    NaN            1  For_Rent  Rybnik            0  "
      ]
     },
     "execution_count": 52,
     "metadata": {},
     "output_type": "execute_result"
    }
   ],
   "source": [
    "olx_table.head()"
   ]
  },
  {
   "cell_type": "markdown",
   "metadata": {},
   "source": [
    "## Data Preparation:"
   ]
  },
  {
   "cell_type": "markdown",
   "metadata": {},
   "source": [
    "### Create two separate tables (for rent / for sale):"
   ]
  },
  {
   "cell_type": "code",
   "execution_count": 53,
   "metadata": {},
   "outputs": [],
   "source": [
    "df_rent = olx_table[olx_table.OfferType=='For_Rent'].copy()\n",
    "df_sale = olx_table[olx_table.OfferType=='For_Sale'].copy()"
   ]
  },
  {
   "cell_type": "markdown",
   "metadata": {},
   "source": [
    "### Remove unnecessary columns"
   ]
  },
  {
   "cell_type": "code",
   "execution_count": 54,
   "metadata": {},
   "outputs": [
    {
     "data": {
      "text/html": [
       "<div>\n",
       "<style scoped>\n",
       "    .dataframe tbody tr th:only-of-type {\n",
       "        vertical-align: middle;\n",
       "    }\n",
       "\n",
       "    .dataframe tbody tr th {\n",
       "        vertical-align: top;\n",
       "    }\n",
       "\n",
       "    .dataframe thead th {\n",
       "        text-align: right;\n",
       "    }\n",
       "</style>\n",
       "<table border=\"1\" class=\"dataframe\">\n",
       "  <thead>\n",
       "    <tr style=\"text-align: right;\">\n",
       "      <th></th>\n",
       "      <th>Price</th>\n",
       "      <th>PriceSqM</th>\n",
       "      <th>MonthlyRent</th>\n",
       "      <th>Bedrooms</th>\n",
       "      <th>Place</th>\n",
       "      <th>Advert_Owner</th>\n",
       "      <th>SqM</th>\n",
       "      <th>Floor</th>\n",
       "      <th>BuildingType</th>\n",
       "      <th>Market</th>\n",
       "      <th>Furnishings</th>\n",
       "      <th>OfferType</th>\n",
       "      <th>City</th>\n",
       "      <th>Negotiating</th>\n",
       "    </tr>\n",
       "  </thead>\n",
       "  <tbody>\n",
       "    <tr>\n",
       "      <th>1</th>\n",
       "      <td>280000</td>\n",
       "      <td>3684.21</td>\n",
       "      <td>0</td>\n",
       "      <td>4</td>\n",
       "      <td>Rybnik, Śląskie</td>\n",
       "      <td>Private</td>\n",
       "      <td>76</td>\n",
       "      <td>1</td>\n",
       "      <td>Flat</td>\n",
       "      <td>After</td>\n",
       "      <td>0</td>\n",
       "      <td>For_Sale</td>\n",
       "      <td>Rybnik</td>\n",
       "      <td>1</td>\n",
       "    </tr>\n",
       "    <tr>\n",
       "      <th>5</th>\n",
       "      <td>187000</td>\n",
       "      <td>4794.87</td>\n",
       "      <td>0</td>\n",
       "      <td>2</td>\n",
       "      <td>Rybnik, Śląskie</td>\n",
       "      <td>Developer</td>\n",
       "      <td>39</td>\n",
       "      <td>0</td>\n",
       "      <td>Flat</td>\n",
       "      <td>After</td>\n",
       "      <td>1</td>\n",
       "      <td>For_Sale</td>\n",
       "      <td>Rybnik</td>\n",
       "      <td>1</td>\n",
       "    </tr>\n",
       "  </tbody>\n",
       "</table>\n",
       "</div>"
      ],
      "text/plain": [
       "    Price PriceSqM MonthlyRent  Bedrooms            Place Advert_Owner SqM  \\\n",
       "1  280000  3684.21          0          4  Rybnik, Śląskie      Private  76   \n",
       "5  187000  4794.87          0          2  Rybnik, Śląskie    Developer  39   \n",
       "\n",
       "   Floor BuildingType Market  Furnishings OfferType    City  Negotiating  \n",
       "1      1         Flat  After            0  For_Sale  Rybnik            1  \n",
       "5      0         Flat  After            1  For_Sale  Rybnik            1  "
      ]
     },
     "execution_count": 54,
     "metadata": {},
     "output_type": "execute_result"
    }
   ],
   "source": [
    "df_sale.head(2)"
   ]
  },
  {
   "cell_type": "code",
   "execution_count": 55,
   "metadata": {},
   "outputs": [
    {
     "data": {
      "text/html": [
       "<div>\n",
       "<style scoped>\n",
       "    .dataframe tbody tr th:only-of-type {\n",
       "        vertical-align: middle;\n",
       "    }\n",
       "\n",
       "    .dataframe tbody tr th {\n",
       "        vertical-align: top;\n",
       "    }\n",
       "\n",
       "    .dataframe thead th {\n",
       "        text-align: right;\n",
       "    }\n",
       "</style>\n",
       "<table border=\"1\" class=\"dataframe\">\n",
       "  <thead>\n",
       "    <tr style=\"text-align: right;\">\n",
       "      <th></th>\n",
       "      <th>Price</th>\n",
       "      <th>PriceSqM</th>\n",
       "      <th>MonthlyRent</th>\n",
       "      <th>Bedrooms</th>\n",
       "      <th>Place</th>\n",
       "      <th>Advert_Owner</th>\n",
       "      <th>SqM</th>\n",
       "      <th>Floor</th>\n",
       "      <th>BuildingType</th>\n",
       "      <th>Market</th>\n",
       "      <th>Furnishings</th>\n",
       "      <th>OfferType</th>\n",
       "      <th>City</th>\n",
       "      <th>Negotiating</th>\n",
       "    </tr>\n",
       "  </thead>\n",
       "  <tbody>\n",
       "    <tr>\n",
       "      <th>0</th>\n",
       "      <td>2000</td>\n",
       "      <td>0</td>\n",
       "      <td>1</td>\n",
       "      <td>3</td>\n",
       "      <td>Rybnik, Śląskie</td>\n",
       "      <td>Developer</td>\n",
       "      <td>69</td>\n",
       "      <td>1</td>\n",
       "      <td>Apartment</td>\n",
       "      <td>NaN</td>\n",
       "      <td>0</td>\n",
       "      <td>For_Rent</td>\n",
       "      <td>Rybnik</td>\n",
       "      <td>0</td>\n",
       "    </tr>\n",
       "    <tr>\n",
       "      <th>2</th>\n",
       "      <td>1800</td>\n",
       "      <td>0</td>\n",
       "      <td>100</td>\n",
       "      <td>3</td>\n",
       "      <td>Rybnik, Śląskie</td>\n",
       "      <td>Private</td>\n",
       "      <td>100</td>\n",
       "      <td>0</td>\n",
       "      <td>House</td>\n",
       "      <td>NaN</td>\n",
       "      <td>1</td>\n",
       "      <td>For_Rent</td>\n",
       "      <td>Rybnik</td>\n",
       "      <td>1</td>\n",
       "    </tr>\n",
       "  </tbody>\n",
       "</table>\n",
       "</div>"
      ],
      "text/plain": [
       "  Price PriceSqM MonthlyRent  Bedrooms            Place Advert_Owner  SqM  \\\n",
       "0  2000        0           1         3  Rybnik, Śląskie    Developer   69   \n",
       "2  1800        0         100         3  Rybnik, Śląskie      Private  100   \n",
       "\n",
       "   Floor BuildingType Market  Furnishings OfferType    City  Negotiating  \n",
       "0      1    Apartment    NaN            0  For_Rent  Rybnik            0  \n",
       "2      0        House    NaN            1  For_Rent  Rybnik            1  "
      ]
     },
     "execution_count": 55,
     "metadata": {},
     "output_type": "execute_result"
    }
   ],
   "source": [
    "df_rent.head(2)"
   ]
  },
  {
   "cell_type": "code",
   "execution_count": 56,
   "metadata": {},
   "outputs": [],
   "source": [
    "df_sale.drop(columns={'MonthlyRent','OfferType'}, axis='columns', inplace=True) "
   ]
  },
  {
   "cell_type": "code",
   "execution_count": 57,
   "metadata": {},
   "outputs": [],
   "source": [
    "df_rent.drop(columns={'PriceSqM','Market','OfferType'}, axis='columns', inplace=True)"
   ]
  },
  {
   "cell_type": "markdown",
   "metadata": {},
   "source": [
    "### Change data types - 'object' to 'float' - for columns with numbers."
   ]
  },
  {
   "cell_type": "code",
   "execution_count": 58,
   "metadata": {},
   "outputs": [],
   "source": [
    "def is_float(x):\n",
    "    try:\n",
    "        return float(x)\n",
    "    except:\n",
    "        return False"
   ]
  },
  {
   "cell_type": "code",
   "execution_count": 59,
   "metadata": {},
   "outputs": [],
   "source": [
    "def RemoveFalse(df,col):\n",
    "    return df.drop(df[df[col]==False].index,inplace=True)"
   ]
  },
  {
   "cell_type": "markdown",
   "metadata": {},
   "source": [
    "**For Sale**"
   ]
  },
  {
   "cell_type": "code",
   "execution_count": 60,
   "metadata": {},
   "outputs": [
    {
     "data": {
      "text/plain": [
       "Price           object\n",
       "PriceSqM        object\n",
       "Bedrooms         int64\n",
       "Place           object\n",
       "Advert_Owner    object\n",
       "SqM             object\n",
       "Floor            int32\n",
       "BuildingType    object\n",
       "Market          object\n",
       "Furnishings      int32\n",
       "City            object\n",
       "Negotiating      int32\n",
       "dtype: object"
      ]
     },
     "execution_count": 60,
     "metadata": {},
     "output_type": "execute_result"
    }
   ],
   "source": [
    "df_sale.dtypes"
   ]
  },
  {
   "cell_type": "code",
   "execution_count": 61,
   "metadata": {},
   "outputs": [
    {
     "data": {
      "text/plain": [
       "(810, 12)"
      ]
     },
     "execution_count": 61,
     "metadata": {},
     "output_type": "execute_result"
    }
   ],
   "source": [
    "df_sale.shape"
   ]
  },
  {
   "cell_type": "code",
   "execution_count": 62,
   "metadata": {},
   "outputs": [
    {
     "name": "stdout",
     "output_type": "stream",
     "text": [
      "86 \"False\" records before remove them \n",
      "\n",
      "0 \"False\" records now\n"
     ]
    }
   ],
   "source": [
    "df_sale['Price'] = df_sale['Price'].apply(lambda x: x.replace(',','.')).apply(is_float)\n",
    "print(f'{len(df_sale[df_sale.Price==False])} \"False\" records before remove them \\n')\n",
    "RemoveFalse(df_sale,'Price')\n",
    "df_sale['Price'] = df_sale['Price'].apply(is_float)\n",
    "print(f'{len(df_sale[df_sale.Price==False])} \"False\" records now')"
   ]
  },
  {
   "cell_type": "code",
   "execution_count": 63,
   "metadata": {},
   "outputs": [
    {
     "name": "stdout",
     "output_type": "stream",
     "text": [
      "0 \"False\" records before remove them \n",
      "\n",
      "0 \"False\" records now\n"
     ]
    }
   ],
   "source": [
    "df_sale['PriceSqM'] = df_sale['PriceSqM'].apply(lambda x: x.replace(',','.')).apply(is_float)\n",
    "print(f'{len(df_sale[df_sale.PriceSqM==False])} \"False\" records before remove them \\n')\n",
    "RemoveFalse(df_sale,'PriceSqM')\n",
    "df_sale['PriceSqM'] = df_sale['PriceSqM'].apply(is_float)\n",
    "print(f'{len(df_sale[df_sale.PriceSqM==False])} \"False\" records now')"
   ]
  },
  {
   "cell_type": "code",
   "execution_count": 64,
   "metadata": {},
   "outputs": [
    {
     "name": "stdout",
     "output_type": "stream",
     "text": [
      "1 \"False\" records before remove them \n",
      "\n",
      "0 \"False\" records now\n"
     ]
    }
   ],
   "source": [
    "df_sale['SqM'] = df_sale['SqM'].apply(lambda x: x.replace(',','.')).apply(is_float)\n",
    "print(f'{len(df_sale[df_sale.SqM==False])} \"False\" records before remove them \\n')\n",
    "RemoveFalse(df_sale,'SqM')\n",
    "df_sale['SqM'] = df_sale['SqM'].apply(is_float)\n",
    "print(f'{len(df_sale[df_sale.SqM==False])} \"False\" records now')"
   ]
  },
  {
   "cell_type": "code",
   "execution_count": 65,
   "metadata": {
    "scrolled": true
   },
   "outputs": [
    {
     "data": {
      "text/plain": [
       "Price           float64\n",
       "PriceSqM        float64\n",
       "Bedrooms          int64\n",
       "Place            object\n",
       "Advert_Owner     object\n",
       "SqM             float64\n",
       "Floor             int32\n",
       "BuildingType     object\n",
       "Market           object\n",
       "Furnishings       int32\n",
       "City             object\n",
       "Negotiating       int32\n",
       "dtype: object"
      ]
     },
     "execution_count": 65,
     "metadata": {},
     "output_type": "execute_result"
    }
   ],
   "source": [
    "df_sale.dtypes"
   ]
  },
  {
   "cell_type": "code",
   "execution_count": 66,
   "metadata": {},
   "outputs": [
    {
     "data": {
      "text/plain": [
       "(723, 12)"
      ]
     },
     "execution_count": 66,
     "metadata": {},
     "output_type": "execute_result"
    }
   ],
   "source": [
    "df_sale.shape"
   ]
  },
  {
   "cell_type": "code",
   "execution_count": 67,
   "metadata": {},
   "outputs": [
    {
     "data": {
      "text/html": [
       "<div>\n",
       "<style scoped>\n",
       "    .dataframe tbody tr th:only-of-type {\n",
       "        vertical-align: middle;\n",
       "    }\n",
       "\n",
       "    .dataframe tbody tr th {\n",
       "        vertical-align: top;\n",
       "    }\n",
       "\n",
       "    .dataframe thead th {\n",
       "        text-align: right;\n",
       "    }\n",
       "</style>\n",
       "<table border=\"1\" class=\"dataframe\">\n",
       "  <thead>\n",
       "    <tr style=\"text-align: right;\">\n",
       "      <th></th>\n",
       "      <th>Price</th>\n",
       "      <th>PriceSqM</th>\n",
       "      <th>Bedrooms</th>\n",
       "      <th>Place</th>\n",
       "      <th>Advert_Owner</th>\n",
       "      <th>SqM</th>\n",
       "      <th>Floor</th>\n",
       "      <th>BuildingType</th>\n",
       "      <th>Market</th>\n",
       "      <th>Furnishings</th>\n",
       "      <th>City</th>\n",
       "      <th>Negotiating</th>\n",
       "    </tr>\n",
       "  </thead>\n",
       "  <tbody>\n",
       "    <tr>\n",
       "      <th>1</th>\n",
       "      <td>280000.0</td>\n",
       "      <td>3684.21</td>\n",
       "      <td>4</td>\n",
       "      <td>Rybnik, Śląskie</td>\n",
       "      <td>Private</td>\n",
       "      <td>76.0</td>\n",
       "      <td>1</td>\n",
       "      <td>Flat</td>\n",
       "      <td>After</td>\n",
       "      <td>0</td>\n",
       "      <td>Rybnik</td>\n",
       "      <td>1</td>\n",
       "    </tr>\n",
       "    <tr>\n",
       "      <th>5</th>\n",
       "      <td>187000.0</td>\n",
       "      <td>4794.87</td>\n",
       "      <td>2</td>\n",
       "      <td>Rybnik, Śląskie</td>\n",
       "      <td>Developer</td>\n",
       "      <td>39.0</td>\n",
       "      <td>0</td>\n",
       "      <td>Flat</td>\n",
       "      <td>After</td>\n",
       "      <td>1</td>\n",
       "      <td>Rybnik</td>\n",
       "      <td>1</td>\n",
       "    </tr>\n",
       "    <tr>\n",
       "      <th>11</th>\n",
       "      <td>425000.0</td>\n",
       "      <td>4250.00</td>\n",
       "      <td>3</td>\n",
       "      <td>Rybnik, Śląskie</td>\n",
       "      <td>Private</td>\n",
       "      <td>100.0</td>\n",
       "      <td>1</td>\n",
       "      <td>Apartment</td>\n",
       "      <td>Primary</td>\n",
       "      <td>0</td>\n",
       "      <td>Rybnik</td>\n",
       "      <td>1</td>\n",
       "    </tr>\n",
       "    <tr>\n",
       "      <th>12</th>\n",
       "      <td>189000.0</td>\n",
       "      <td>3417.72</td>\n",
       "      <td>3</td>\n",
       "      <td>Rybnik, Śląskie</td>\n",
       "      <td>Developer</td>\n",
       "      <td>55.3</td>\n",
       "      <td>4</td>\n",
       "      <td>Flat</td>\n",
       "      <td>Primary</td>\n",
       "      <td>1</td>\n",
       "      <td>Rybnik</td>\n",
       "      <td>0</td>\n",
       "    </tr>\n",
       "    <tr>\n",
       "      <th>16</th>\n",
       "      <td>143000.0</td>\n",
       "      <td>3575.00</td>\n",
       "      <td>2</td>\n",
       "      <td>Rybnik, Śląskie</td>\n",
       "      <td>Developer</td>\n",
       "      <td>40.0</td>\n",
       "      <td>0</td>\n",
       "      <td>Flat</td>\n",
       "      <td>After</td>\n",
       "      <td>0</td>\n",
       "      <td>Rybnik</td>\n",
       "      <td>1</td>\n",
       "    </tr>\n",
       "  </tbody>\n",
       "</table>\n",
       "</div>"
      ],
      "text/plain": [
       "       Price  PriceSqM  Bedrooms            Place Advert_Owner    SqM  Floor  \\\n",
       "1   280000.0   3684.21         4  Rybnik, Śląskie      Private   76.0      1   \n",
       "5   187000.0   4794.87         2  Rybnik, Śląskie    Developer   39.0      0   \n",
       "11  425000.0   4250.00         3  Rybnik, Śląskie      Private  100.0      1   \n",
       "12  189000.0   3417.72         3  Rybnik, Śląskie    Developer   55.3      4   \n",
       "16  143000.0   3575.00         2  Rybnik, Śląskie    Developer   40.0      0   \n",
       "\n",
       "   BuildingType   Market  Furnishings    City  Negotiating  \n",
       "1          Flat    After            0  Rybnik            1  \n",
       "5          Flat    After            1  Rybnik            1  \n",
       "11    Apartment  Primary            0  Rybnik            1  \n",
       "12         Flat  Primary            1  Rybnik            0  \n",
       "16         Flat    After            0  Rybnik            1  "
      ]
     },
     "execution_count": 67,
     "metadata": {},
     "output_type": "execute_result"
    }
   ],
   "source": [
    "df_sale.head()"
   ]
  },
  {
   "cell_type": "code",
   "execution_count": 68,
   "metadata": {},
   "outputs": [
    {
     "data": {
      "text/html": [
       "<div>\n",
       "<style scoped>\n",
       "    .dataframe tbody tr th:only-of-type {\n",
       "        vertical-align: middle;\n",
       "    }\n",
       "\n",
       "    .dataframe tbody tr th {\n",
       "        vertical-align: top;\n",
       "    }\n",
       "\n",
       "    .dataframe thead th {\n",
       "        text-align: right;\n",
       "    }\n",
       "</style>\n",
       "<table border=\"1\" class=\"dataframe\">\n",
       "  <thead>\n",
       "    <tr style=\"text-align: right;\">\n",
       "      <th></th>\n",
       "      <th>Price</th>\n",
       "      <th>PriceSqM</th>\n",
       "      <th>Bedrooms</th>\n",
       "      <th>SqM</th>\n",
       "      <th>Floor</th>\n",
       "      <th>Furnishings</th>\n",
       "      <th>Negotiating</th>\n",
       "    </tr>\n",
       "  </thead>\n",
       "  <tbody>\n",
       "    <tr>\n",
       "      <th>count</th>\n",
       "      <td>723.000000</td>\n",
       "      <td>723.000000</td>\n",
       "      <td>723.000000</td>\n",
       "      <td>723.000000</td>\n",
       "      <td>723.000000</td>\n",
       "      <td>723.000000</td>\n",
       "      <td>723.000000</td>\n",
       "    </tr>\n",
       "    <tr>\n",
       "      <th>mean</th>\n",
       "      <td>224293.087137</td>\n",
       "      <td>4269.816584</td>\n",
       "      <td>2.438451</td>\n",
       "      <td>53.532116</td>\n",
       "      <td>2.396957</td>\n",
       "      <td>0.507607</td>\n",
       "      <td>0.578147</td>\n",
       "    </tr>\n",
       "    <tr>\n",
       "      <th>std</th>\n",
       "      <td>91820.772895</td>\n",
       "      <td>1306.093759</td>\n",
       "      <td>0.805118</td>\n",
       "      <td>17.719590</td>\n",
       "      <td>2.240113</td>\n",
       "      <td>0.500288</td>\n",
       "      <td>0.494197</td>\n",
       "    </tr>\n",
       "    <tr>\n",
       "      <th>min</th>\n",
       "      <td>10000.000000</td>\n",
       "      <td>192.310000</td>\n",
       "      <td>1.000000</td>\n",
       "      <td>17.180000</td>\n",
       "      <td>0.000000</td>\n",
       "      <td>0.000000</td>\n",
       "      <td>0.000000</td>\n",
       "    </tr>\n",
       "    <tr>\n",
       "      <th>25%</th>\n",
       "      <td>160000.000000</td>\n",
       "      <td>3467.405000</td>\n",
       "      <td>2.000000</td>\n",
       "      <td>40.000000</td>\n",
       "      <td>1.000000</td>\n",
       "      <td>0.000000</td>\n",
       "      <td>0.000000</td>\n",
       "    </tr>\n",
       "    <tr>\n",
       "      <th>50%</th>\n",
       "      <td>209000.000000</td>\n",
       "      <td>4102.560000</td>\n",
       "      <td>2.000000</td>\n",
       "      <td>51.500000</td>\n",
       "      <td>2.000000</td>\n",
       "      <td>1.000000</td>\n",
       "      <td>1.000000</td>\n",
       "    </tr>\n",
       "    <tr>\n",
       "      <th>75%</th>\n",
       "      <td>266866.000000</td>\n",
       "      <td>5000.000000</td>\n",
       "      <td>3.000000</td>\n",
       "      <td>62.080000</td>\n",
       "      <td>4.000000</td>\n",
       "      <td>1.000000</td>\n",
       "      <td>1.000000</td>\n",
       "    </tr>\n",
       "    <tr>\n",
       "      <th>max</th>\n",
       "      <td>870000.000000</td>\n",
       "      <td>10353.960000</td>\n",
       "      <td>4.000000</td>\n",
       "      <td>163.000000</td>\n",
       "      <td>10.000000</td>\n",
       "      <td>1.000000</td>\n",
       "      <td>1.000000</td>\n",
       "    </tr>\n",
       "  </tbody>\n",
       "</table>\n",
       "</div>"
      ],
      "text/plain": [
       "               Price      PriceSqM    Bedrooms         SqM       Floor  \\\n",
       "count     723.000000    723.000000  723.000000  723.000000  723.000000   \n",
       "mean   224293.087137   4269.816584    2.438451   53.532116    2.396957   \n",
       "std     91820.772895   1306.093759    0.805118   17.719590    2.240113   \n",
       "min     10000.000000    192.310000    1.000000   17.180000    0.000000   \n",
       "25%    160000.000000   3467.405000    2.000000   40.000000    1.000000   \n",
       "50%    209000.000000   4102.560000    2.000000   51.500000    2.000000   \n",
       "75%    266866.000000   5000.000000    3.000000   62.080000    4.000000   \n",
       "max    870000.000000  10353.960000    4.000000  163.000000   10.000000   \n",
       "\n",
       "       Furnishings  Negotiating  \n",
       "count   723.000000   723.000000  \n",
       "mean      0.507607     0.578147  \n",
       "std       0.500288     0.494197  \n",
       "min       0.000000     0.000000  \n",
       "25%       0.000000     0.000000  \n",
       "50%       1.000000     1.000000  \n",
       "75%       1.000000     1.000000  \n",
       "max       1.000000     1.000000  "
      ]
     },
     "execution_count": 68,
     "metadata": {},
     "output_type": "execute_result"
    }
   ],
   "source": [
    "df_sale.describe()"
   ]
  },
  {
   "cell_type": "markdown",
   "metadata": {},
   "source": [
    "**For Rent**"
   ]
  },
  {
   "cell_type": "code",
   "execution_count": 69,
   "metadata": {},
   "outputs": [
    {
     "data": {
      "text/plain": [
       "Price           object\n",
       "MonthlyRent     object\n",
       "Bedrooms         int64\n",
       "Place           object\n",
       "Advert_Owner    object\n",
       "SqM             object\n",
       "Floor            int32\n",
       "BuildingType    object\n",
       "Furnishings      int32\n",
       "City            object\n",
       "Negotiating      int32\n",
       "dtype: object"
      ]
     },
     "execution_count": 69,
     "metadata": {},
     "output_type": "execute_result"
    }
   ],
   "source": [
    "df_rent.dtypes"
   ]
  },
  {
   "cell_type": "code",
   "execution_count": 70,
   "metadata": {},
   "outputs": [
    {
     "data": {
      "text/plain": [
       "(1238, 11)"
      ]
     },
     "execution_count": 70,
     "metadata": {},
     "output_type": "execute_result"
    }
   ],
   "source": [
    "df_rent.shape"
   ]
  },
  {
   "cell_type": "code",
   "execution_count": 71,
   "metadata": {},
   "outputs": [
    {
     "name": "stdout",
     "output_type": "stream",
     "text": [
      "0 \"False\" records before remove them \n",
      "\n",
      "0 \"False\" records now\n"
     ]
    }
   ],
   "source": [
    "df_rent['Price'] = df_rent['Price'].apply(lambda x: x.replace(',','.')).apply(is_float)\n",
    "print(f'{len(df_rent[df_rent.Price==False])} \"False\" records before remove them \\n')\n",
    "RemoveFalse(df_rent,'Price')\n",
    "df_rent['Price'] = df_rent['Price'].apply(is_float)\n",
    "print(f'{len(df_rent[df_rent.Price==False])} \"False\" records now')"
   ]
  },
  {
   "cell_type": "code",
   "execution_count": 72,
   "metadata": {},
   "outputs": [
    {
     "name": "stdout",
     "output_type": "stream",
     "text": [
      "54 \"False\" records before remove them \n",
      "\n",
      "0 \"False\" records now\n"
     ]
    }
   ],
   "source": [
    "df_rent['MonthlyRent'] = df_rent['MonthlyRent'].apply(lambda x: x.replace(',','.')).apply(is_float)\n",
    "print(f'{len(df_rent[df_rent.MonthlyRent==False])} \"False\" records before remove them \\n')\n",
    "RemoveFalse(df_rent,'MonthlyRent')\n",
    "df_rent['MonthlyRent'] = df_rent['MonthlyRent'].apply(is_float)\n",
    "print(f'{len(df_rent[df_rent.MonthlyRent==False])} \"False\" records now')"
   ]
  },
  {
   "cell_type": "code",
   "execution_count": 73,
   "metadata": {},
   "outputs": [
    {
     "name": "stdout",
     "output_type": "stream",
     "text": [
      "0 \"False\" records before remove them \n",
      "\n",
      "0 \"False\" records now\n"
     ]
    }
   ],
   "source": [
    "df_rent['SqM'] = df_rent['SqM'].apply(lambda x: x.replace(',','.')).apply(is_float)\n",
    "print(f'{len(df_rent[df_rent.SqM==False])} \"False\" records before remove them \\n')\n",
    "RemoveFalse(df_rent,'SqM')\n",
    "df_rent['SqM'] = df_rent['SqM'].apply(is_float)\n",
    "print(f'{len(df_rent[df_rent.SqM==False])} \"False\" records now')"
   ]
  },
  {
   "cell_type": "code",
   "execution_count": 74,
   "metadata": {
    "scrolled": true
   },
   "outputs": [
    {
     "data": {
      "text/plain": [
       "Price           float64\n",
       "MonthlyRent     float64\n",
       "Bedrooms          int64\n",
       "Place            object\n",
       "Advert_Owner     object\n",
       "SqM             float64\n",
       "Floor             int32\n",
       "BuildingType     object\n",
       "Furnishings       int32\n",
       "City             object\n",
       "Negotiating       int32\n",
       "dtype: object"
      ]
     },
     "execution_count": 74,
     "metadata": {},
     "output_type": "execute_result"
    }
   ],
   "source": [
    "df_rent.dtypes"
   ]
  },
  {
   "cell_type": "code",
   "execution_count": 75,
   "metadata": {},
   "outputs": [
    {
     "data": {
      "text/plain": [
       "(1184, 11)"
      ]
     },
     "execution_count": 75,
     "metadata": {},
     "output_type": "execute_result"
    }
   ],
   "source": [
    "df_rent.shape"
   ]
  },
  {
   "cell_type": "markdown",
   "metadata": {},
   "source": [
    "### Create final price for rent properties\n",
    "\n",
    "As we will pay total price (rental price + additional rent)"
   ]
  },
  {
   "cell_type": "code",
   "execution_count": 76,
   "metadata": {},
   "outputs": [],
   "source": [
    "df_rent['MonthlyPrice'] = np.where(df_rent.MonthlyRent>1,df_rent.MonthlyRent+df_rent.Price,df_rent.Price)"
   ]
  },
  {
   "cell_type": "code",
   "execution_count": 77,
   "metadata": {},
   "outputs": [],
   "source": [
    "df_rent['PriceSqM'] = df_rent.MonthlyPrice/df_rent.SqM"
   ]
  },
  {
   "cell_type": "code",
   "execution_count": 78,
   "metadata": {},
   "outputs": [],
   "source": [
    "df_rent.drop(columns={'Price','MonthlyRent'},inplace=True)"
   ]
  },
  {
   "cell_type": "code",
   "execution_count": 79,
   "metadata": {},
   "outputs": [
    {
     "data": {
      "text/html": [
       "<div>\n",
       "<style scoped>\n",
       "    .dataframe tbody tr th:only-of-type {\n",
       "        vertical-align: middle;\n",
       "    }\n",
       "\n",
       "    .dataframe tbody tr th {\n",
       "        vertical-align: top;\n",
       "    }\n",
       "\n",
       "    .dataframe thead th {\n",
       "        text-align: right;\n",
       "    }\n",
       "</style>\n",
       "<table border=\"1\" class=\"dataframe\">\n",
       "  <thead>\n",
       "    <tr style=\"text-align: right;\">\n",
       "      <th></th>\n",
       "      <th>Bedrooms</th>\n",
       "      <th>Place</th>\n",
       "      <th>Advert_Owner</th>\n",
       "      <th>SqM</th>\n",
       "      <th>Floor</th>\n",
       "      <th>BuildingType</th>\n",
       "      <th>Furnishings</th>\n",
       "      <th>City</th>\n",
       "      <th>Negotiating</th>\n",
       "      <th>MonthlyPrice</th>\n",
       "      <th>PriceSqM</th>\n",
       "    </tr>\n",
       "  </thead>\n",
       "  <tbody>\n",
       "    <tr>\n",
       "      <th>0</th>\n",
       "      <td>3</td>\n",
       "      <td>Rybnik, Śląskie</td>\n",
       "      <td>Developer</td>\n",
       "      <td>69.0</td>\n",
       "      <td>1</td>\n",
       "      <td>Apartment</td>\n",
       "      <td>0</td>\n",
       "      <td>Rybnik</td>\n",
       "      <td>0</td>\n",
       "      <td>2000.0</td>\n",
       "      <td>28.985507</td>\n",
       "    </tr>\n",
       "    <tr>\n",
       "      <th>2</th>\n",
       "      <td>3</td>\n",
       "      <td>Rybnik, Śląskie</td>\n",
       "      <td>Private</td>\n",
       "      <td>100.0</td>\n",
       "      <td>0</td>\n",
       "      <td>House</td>\n",
       "      <td>1</td>\n",
       "      <td>Rybnik</td>\n",
       "      <td>1</td>\n",
       "      <td>1900.0</td>\n",
       "      <td>19.000000</td>\n",
       "    </tr>\n",
       "    <tr>\n",
       "      <th>3</th>\n",
       "      <td>2</td>\n",
       "      <td>Rybnik, Śląskie</td>\n",
       "      <td>Developer</td>\n",
       "      <td>50.0</td>\n",
       "      <td>1</td>\n",
       "      <td>Flat</td>\n",
       "      <td>1</td>\n",
       "      <td>Rybnik</td>\n",
       "      <td>1</td>\n",
       "      <td>1900.0</td>\n",
       "      <td>38.000000</td>\n",
       "    </tr>\n",
       "    <tr>\n",
       "      <th>4</th>\n",
       "      <td>2</td>\n",
       "      <td>Rybnik, Śląskie</td>\n",
       "      <td>Developer</td>\n",
       "      <td>66.0</td>\n",
       "      <td>4</td>\n",
       "      <td>Flat</td>\n",
       "      <td>1</td>\n",
       "      <td>Rybnik</td>\n",
       "      <td>0</td>\n",
       "      <td>2200.0</td>\n",
       "      <td>33.333333</td>\n",
       "    </tr>\n",
       "    <tr>\n",
       "      <th>6</th>\n",
       "      <td>1</td>\n",
       "      <td>Rybnik, Śląskie</td>\n",
       "      <td>Private</td>\n",
       "      <td>45.0</td>\n",
       "      <td>1</td>\n",
       "      <td>Flat</td>\n",
       "      <td>1</td>\n",
       "      <td>Rybnik</td>\n",
       "      <td>1</td>\n",
       "      <td>1199.0</td>\n",
       "      <td>26.644444</td>\n",
       "    </tr>\n",
       "  </tbody>\n",
       "</table>\n",
       "</div>"
      ],
      "text/plain": [
       "   Bedrooms            Place Advert_Owner    SqM  Floor BuildingType  \\\n",
       "0         3  Rybnik, Śląskie    Developer   69.0      1    Apartment   \n",
       "2         3  Rybnik, Śląskie      Private  100.0      0        House   \n",
       "3         2  Rybnik, Śląskie    Developer   50.0      1         Flat   \n",
       "4         2  Rybnik, Śląskie    Developer   66.0      4         Flat   \n",
       "6         1  Rybnik, Śląskie      Private   45.0      1         Flat   \n",
       "\n",
       "   Furnishings    City  Negotiating  MonthlyPrice   PriceSqM  \n",
       "0            0  Rybnik            0        2000.0  28.985507  \n",
       "2            1  Rybnik            1        1900.0  19.000000  \n",
       "3            1  Rybnik            1        1900.0  38.000000  \n",
       "4            1  Rybnik            0        2200.0  33.333333  \n",
       "6            1  Rybnik            1        1199.0  26.644444  "
      ]
     },
     "execution_count": 79,
     "metadata": {},
     "output_type": "execute_result"
    }
   ],
   "source": [
    "df_rent.head()"
   ]
  },
  {
   "cell_type": "code",
   "execution_count": 80,
   "metadata": {},
   "outputs": [
    {
     "data": {
      "text/html": [
       "<div>\n",
       "<style scoped>\n",
       "    .dataframe tbody tr th:only-of-type {\n",
       "        vertical-align: middle;\n",
       "    }\n",
       "\n",
       "    .dataframe tbody tr th {\n",
       "        vertical-align: top;\n",
       "    }\n",
       "\n",
       "    .dataframe thead th {\n",
       "        text-align: right;\n",
       "    }\n",
       "</style>\n",
       "<table border=\"1\" class=\"dataframe\">\n",
       "  <thead>\n",
       "    <tr style=\"text-align: right;\">\n",
       "      <th></th>\n",
       "      <th>Bedrooms</th>\n",
       "      <th>SqM</th>\n",
       "      <th>Floor</th>\n",
       "      <th>Furnishings</th>\n",
       "      <th>Negotiating</th>\n",
       "      <th>MonthlyPrice</th>\n",
       "      <th>PriceSqM</th>\n",
       "    </tr>\n",
       "  </thead>\n",
       "  <tbody>\n",
       "    <tr>\n",
       "      <th>count</th>\n",
       "      <td>1184.000000</td>\n",
       "      <td>1184.000000</td>\n",
       "      <td>1184.000000</td>\n",
       "      <td>1184.000000</td>\n",
       "      <td>1184.000000</td>\n",
       "      <td>1184.000000</td>\n",
       "      <td>1184.000000</td>\n",
       "    </tr>\n",
       "    <tr>\n",
       "      <th>mean</th>\n",
       "      <td>1.928209</td>\n",
       "      <td>46.187796</td>\n",
       "      <td>2.305743</td>\n",
       "      <td>0.858953</td>\n",
       "      <td>0.259291</td>\n",
       "      <td>2000.709637</td>\n",
       "      <td>45.868643</td>\n",
       "    </tr>\n",
       "    <tr>\n",
       "      <th>std</th>\n",
       "      <td>0.790314</td>\n",
       "      <td>19.435161</td>\n",
       "      <td>2.177523</td>\n",
       "      <td>0.348217</td>\n",
       "      <td>0.438431</td>\n",
       "      <td>6773.925998</td>\n",
       "      <td>157.966874</td>\n",
       "    </tr>\n",
       "    <tr>\n",
       "      <th>min</th>\n",
       "      <td>1.000000</td>\n",
       "      <td>8.000000</td>\n",
       "      <td>0.000000</td>\n",
       "      <td>0.000000</td>\n",
       "      <td>0.000000</td>\n",
       "      <td>15.000000</td>\n",
       "      <td>0.187500</td>\n",
       "    </tr>\n",
       "    <tr>\n",
       "      <th>25%</th>\n",
       "      <td>1.000000</td>\n",
       "      <td>34.000000</td>\n",
       "      <td>1.000000</td>\n",
       "      <td>1.000000</td>\n",
       "      <td>0.000000</td>\n",
       "      <td>1200.000000</td>\n",
       "      <td>28.985507</td>\n",
       "    </tr>\n",
       "    <tr>\n",
       "      <th>50%</th>\n",
       "      <td>2.000000</td>\n",
       "      <td>42.000000</td>\n",
       "      <td>2.000000</td>\n",
       "      <td>1.000000</td>\n",
       "      <td>0.000000</td>\n",
       "      <td>1500.000000</td>\n",
       "      <td>35.416667</td>\n",
       "    </tr>\n",
       "    <tr>\n",
       "      <th>75%</th>\n",
       "      <td>2.000000</td>\n",
       "      <td>54.000000</td>\n",
       "      <td>3.000000</td>\n",
       "      <td>1.000000</td>\n",
       "      <td>1.000000</td>\n",
       "      <td>1830.000000</td>\n",
       "      <td>43.333333</td>\n",
       "    </tr>\n",
       "    <tr>\n",
       "      <th>max</th>\n",
       "      <td>4.000000</td>\n",
       "      <td>220.000000</td>\n",
       "      <td>10.000000</td>\n",
       "      <td>1.000000</td>\n",
       "      <td>1.000000</td>\n",
       "      <td>145180.000000</td>\n",
       "      <td>3629.500000</td>\n",
       "    </tr>\n",
       "  </tbody>\n",
       "</table>\n",
       "</div>"
      ],
      "text/plain": [
       "          Bedrooms          SqM        Floor  Furnishings  Negotiating  \\\n",
       "count  1184.000000  1184.000000  1184.000000  1184.000000  1184.000000   \n",
       "mean      1.928209    46.187796     2.305743     0.858953     0.259291   \n",
       "std       0.790314    19.435161     2.177523     0.348217     0.438431   \n",
       "min       1.000000     8.000000     0.000000     0.000000     0.000000   \n",
       "25%       1.000000    34.000000     1.000000     1.000000     0.000000   \n",
       "50%       2.000000    42.000000     2.000000     1.000000     0.000000   \n",
       "75%       2.000000    54.000000     3.000000     1.000000     1.000000   \n",
       "max       4.000000   220.000000    10.000000     1.000000     1.000000   \n",
       "\n",
       "        MonthlyPrice     PriceSqM  \n",
       "count    1184.000000  1184.000000  \n",
       "mean     2000.709637    45.868643  \n",
       "std      6773.925998   157.966874  \n",
       "min        15.000000     0.187500  \n",
       "25%      1200.000000    28.985507  \n",
       "50%      1500.000000    35.416667  \n",
       "75%      1830.000000    43.333333  \n",
       "max    145180.000000  3629.500000  "
      ]
     },
     "execution_count": 80,
     "metadata": {},
     "output_type": "execute_result"
    }
   ],
   "source": [
    "df_rent.describe()"
   ]
  },
  {
   "cell_type": "markdown",
   "metadata": {},
   "source": [
    "### Choose Types of Building we use in the analysis"
   ]
  },
  {
   "cell_type": "markdown",
   "metadata": {},
   "source": [
    "**For Sale**"
   ]
  },
  {
   "cell_type": "code",
   "execution_count": 107,
   "metadata": {},
   "outputs": [
    {
     "data": {
      "text/plain": [
       "<matplotlib.axes._subplots.AxesSubplot at 0x157b492b388>"
      ]
     },
     "execution_count": 107,
     "metadata": {},
     "output_type": "execute_result"
    },
    {
     "data": {
      "image/png": "[encoded data removed]",
      "text/plain": [
       "<Figure size 432x288 with 1 Axes>"
      ]
     },
     "metadata": {
      "needs_background": "light"
     },
     "output_type": "display_data"
    }
   ],
   "source": [
    "df_sale.groupby('BuildingType')['BuildingType'].value_counts().unstack().plot.barh()"
   ]
  },
  {
   "cell_type": "markdown",
   "metadata": {},
   "source": [
    "**For Rent**"
   ]
  },
  {
   "cell_type": "code",
   "execution_count": 108,
   "metadata": {
    "scrolled": true
   },
   "outputs": [
    {
     "data": {
      "text/plain": [
       "<matplotlib.axes._subplots.AxesSubplot at 0x157b2b490c8>"
      ]
     },
     "execution_count": 108,
     "metadata": {},
     "output_type": "execute_result"
    },
    {
     "data": {
      "image/png": "[encoded data removed]",
      "text/plain": [
       "<Figure size 432x288 with 1 Axes>"
      ]
     },
     "metadata": {
      "needs_background": "light"
     },
     "output_type": "display_data"
    }
   ],
   "source": [
    "df_rent.groupby('BuildingType')['BuildingType'].value_counts().unstack().plot.barh()"
   ]
  },
  {
   "cell_type": "markdown",
   "metadata": {},
   "source": [
    "**For analysis I am going to keep 'flats' as currently, I am interested in just with this type of property**"
   ]
  },
  {
   "cell_type": "code",
   "execution_count": 117,
   "metadata": {},
   "outputs": [],
   "source": [
    "b_type = 'Flat'\n",
    "df_sale2 = df_sale[df_sale.BuildingType==b_type].copy()\n",
    "df_rent2 = df_rent[df_rent.BuildingType==b_type].copy()"
   ]
  },
  {
   "cell_type": "code",
   "execution_count": 118,
   "metadata": {},
   "outputs": [],
   "source": [
    "df_sale2.drop(columns={'BuildingType'},inplace=True)\n",
    "df_rent2.drop(columns={'BuildingType'},inplace=True)"
   ]
  },
  {
   "cell_type": "code",
   "execution_count": 119,
   "metadata": {},
   "outputs": [
    {
     "name": "stdout",
     "output_type": "stream",
     "text": [
      "498 - records in \"for sale\" table \n",
      "\n",
      "621 - records in \"for rent\" table\n"
     ]
    }
   ],
   "source": [
    "print(f'{len(df_sale2)} - records in \"for sale\" table \\n')\n",
    "print(f'{len(df_rent2)} - records in \"for rent\" table')"
   ]
  },
  {
   "cell_type": "code",
   "execution_count": 120,
   "metadata": {},
   "outputs": [
    {
     "data": {
      "text/html": [
       "<div>\n",
       "<style scoped>\n",
       "    .dataframe tbody tr th:only-of-type {\n",
       "        vertical-align: middle;\n",
       "    }\n",
       "\n",
       "    .dataframe tbody tr th {\n",
       "        vertical-align: top;\n",
       "    }\n",
       "\n",
       "    .dataframe thead th {\n",
       "        text-align: right;\n",
       "    }\n",
       "</style>\n",
       "<table border=\"1\" class=\"dataframe\">\n",
       "  <thead>\n",
       "    <tr style=\"text-align: right;\">\n",
       "      <th></th>\n",
       "      <th>Price</th>\n",
       "      <th>PriceSqM</th>\n",
       "      <th>Bedrooms</th>\n",
       "      <th>Place</th>\n",
       "      <th>Advert_Owner</th>\n",
       "      <th>SqM</th>\n",
       "      <th>Floor</th>\n",
       "      <th>Market</th>\n",
       "      <th>Furnishings</th>\n",
       "      <th>City</th>\n",
       "      <th>Negotiating</th>\n",
       "    </tr>\n",
       "  </thead>\n",
       "  <tbody>\n",
       "    <tr>\n",
       "      <th>1</th>\n",
       "      <td>280000.0</td>\n",
       "      <td>3684.21</td>\n",
       "      <td>4</td>\n",
       "      <td>Rybnik, Śląskie</td>\n",
       "      <td>Private</td>\n",
       "      <td>76.0</td>\n",
       "      <td>1</td>\n",
       "      <td>After</td>\n",
       "      <td>0</td>\n",
       "      <td>Rybnik</td>\n",
       "      <td>1</td>\n",
       "    </tr>\n",
       "    <tr>\n",
       "      <th>5</th>\n",
       "      <td>187000.0</td>\n",
       "      <td>4794.87</td>\n",
       "      <td>2</td>\n",
       "      <td>Rybnik, Śląskie</td>\n",
       "      <td>Developer</td>\n",
       "      <td>39.0</td>\n",
       "      <td>0</td>\n",
       "      <td>After</td>\n",
       "      <td>1</td>\n",
       "      <td>Rybnik</td>\n",
       "      <td>1</td>\n",
       "    </tr>\n",
       "    <tr>\n",
       "      <th>12</th>\n",
       "      <td>189000.0</td>\n",
       "      <td>3417.72</td>\n",
       "      <td>3</td>\n",
       "      <td>Rybnik, Śląskie</td>\n",
       "      <td>Developer</td>\n",
       "      <td>55.3</td>\n",
       "      <td>4</td>\n",
       "      <td>Primary</td>\n",
       "      <td>1</td>\n",
       "      <td>Rybnik</td>\n",
       "      <td>0</td>\n",
       "    </tr>\n",
       "    <tr>\n",
       "      <th>16</th>\n",
       "      <td>143000.0</td>\n",
       "      <td>3575.00</td>\n",
       "      <td>2</td>\n",
       "      <td>Rybnik, Śląskie</td>\n",
       "      <td>Developer</td>\n",
       "      <td>40.0</td>\n",
       "      <td>0</td>\n",
       "      <td>After</td>\n",
       "      <td>0</td>\n",
       "      <td>Rybnik</td>\n",
       "      <td>1</td>\n",
       "    </tr>\n",
       "    <tr>\n",
       "      <th>25</th>\n",
       "      <td>280000.0</td>\n",
       "      <td>3684.21</td>\n",
       "      <td>4</td>\n",
       "      <td>Rybnik, Śląskie</td>\n",
       "      <td>Private</td>\n",
       "      <td>76.0</td>\n",
       "      <td>1</td>\n",
       "      <td>After</td>\n",
       "      <td>0</td>\n",
       "      <td>Rybnik</td>\n",
       "      <td>1</td>\n",
       "    </tr>\n",
       "  </tbody>\n",
       "</table>\n",
       "</div>"
      ],
      "text/plain": [
       "       Price  PriceSqM  Bedrooms            Place Advert_Owner   SqM  Floor  \\\n",
       "1   280000.0   3684.21         4  Rybnik, Śląskie      Private  76.0      1   \n",
       "5   187000.0   4794.87         2  Rybnik, Śląskie    Developer  39.0      0   \n",
       "12  189000.0   3417.72         3  Rybnik, Śląskie    Developer  55.3      4   \n",
       "16  143000.0   3575.00         2  Rybnik, Śląskie    Developer  40.0      0   \n",
       "25  280000.0   3684.21         4  Rybnik, Śląskie      Private  76.0      1   \n",
       "\n",
       "     Market  Furnishings    City  Negotiating  \n",
       "1     After            0  Rybnik            1  \n",
       "5     After            1  Rybnik            1  \n",
       "12  Primary            1  Rybnik            0  \n",
       "16    After            0  Rybnik            1  \n",
       "25    After            0  Rybnik            1  "
      ]
     },
     "execution_count": 120,
     "metadata": {},
     "output_type": "execute_result"
    }
   ],
   "source": [
    "df_sale2.head()"
   ]
  },
  {
   "cell_type": "code",
   "execution_count": 121,
   "metadata": {},
   "outputs": [
    {
     "data": {
      "text/html": [
       "<div>\n",
       "<style scoped>\n",
       "    .dataframe tbody tr th:only-of-type {\n",
       "        vertical-align: middle;\n",
       "    }\n",
       "\n",
       "    .dataframe tbody tr th {\n",
       "        vertical-align: top;\n",
       "    }\n",
       "\n",
       "    .dataframe thead th {\n",
       "        text-align: right;\n",
       "    }\n",
       "</style>\n",
       "<table border=\"1\" class=\"dataframe\">\n",
       "  <thead>\n",
       "    <tr style=\"text-align: right;\">\n",
       "      <th></th>\n",
       "      <th>Bedrooms</th>\n",
       "      <th>Place</th>\n",
       "      <th>Advert_Owner</th>\n",
       "      <th>SqM</th>\n",
       "      <th>Floor</th>\n",
       "      <th>Furnishings</th>\n",
       "      <th>City</th>\n",
       "      <th>Negotiating</th>\n",
       "      <th>MonthlyPrice</th>\n",
       "      <th>PriceSqM</th>\n",
       "    </tr>\n",
       "  </thead>\n",
       "  <tbody>\n",
       "    <tr>\n",
       "      <th>3</th>\n",
       "      <td>2</td>\n",
       "      <td>Rybnik, Śląskie</td>\n",
       "      <td>Developer</td>\n",
       "      <td>50.00</td>\n",
       "      <td>1</td>\n",
       "      <td>1</td>\n",
       "      <td>Rybnik</td>\n",
       "      <td>1</td>\n",
       "      <td>1900.0</td>\n",
       "      <td>38.000000</td>\n",
       "    </tr>\n",
       "    <tr>\n",
       "      <th>4</th>\n",
       "      <td>2</td>\n",
       "      <td>Rybnik, Śląskie</td>\n",
       "      <td>Developer</td>\n",
       "      <td>66.00</td>\n",
       "      <td>4</td>\n",
       "      <td>1</td>\n",
       "      <td>Rybnik</td>\n",
       "      <td>0</td>\n",
       "      <td>2200.0</td>\n",
       "      <td>33.333333</td>\n",
       "    </tr>\n",
       "    <tr>\n",
       "      <th>6</th>\n",
       "      <td>1</td>\n",
       "      <td>Rybnik, Śląskie</td>\n",
       "      <td>Private</td>\n",
       "      <td>45.00</td>\n",
       "      <td>1</td>\n",
       "      <td>1</td>\n",
       "      <td>Rybnik</td>\n",
       "      <td>1</td>\n",
       "      <td>1199.0</td>\n",
       "      <td>26.644444</td>\n",
       "    </tr>\n",
       "    <tr>\n",
       "      <th>10</th>\n",
       "      <td>1</td>\n",
       "      <td>Rybnik, Śląskie</td>\n",
       "      <td>Developer</td>\n",
       "      <td>28.00</td>\n",
       "      <td>1</td>\n",
       "      <td>0</td>\n",
       "      <td>Rybnik</td>\n",
       "      <td>1</td>\n",
       "      <td>980.0</td>\n",
       "      <td>35.000000</td>\n",
       "    </tr>\n",
       "    <tr>\n",
       "      <th>15</th>\n",
       "      <td>3</td>\n",
       "      <td>Rybnik, Śląskie</td>\n",
       "      <td>Developer</td>\n",
       "      <td>62.65</td>\n",
       "      <td>2</td>\n",
       "      <td>1</td>\n",
       "      <td>Rybnik</td>\n",
       "      <td>0</td>\n",
       "      <td>1600.0</td>\n",
       "      <td>25.538707</td>\n",
       "    </tr>\n",
       "  </tbody>\n",
       "</table>\n",
       "</div>"
      ],
      "text/plain": [
       "    Bedrooms            Place Advert_Owner    SqM  Floor  Furnishings    City  \\\n",
       "3          2  Rybnik, Śląskie    Developer  50.00      1            1  Rybnik   \n",
       "4          2  Rybnik, Śląskie    Developer  66.00      4            1  Rybnik   \n",
       "6          1  Rybnik, Śląskie      Private  45.00      1            1  Rybnik   \n",
       "10         1  Rybnik, Śląskie    Developer  28.00      1            0  Rybnik   \n",
       "15         3  Rybnik, Śląskie    Developer  62.65      2            1  Rybnik   \n",
       "\n",
       "    Negotiating  MonthlyPrice   PriceSqM  \n",
       "3             1        1900.0  38.000000  \n",
       "4             0        2200.0  33.333333  \n",
       "6             1        1199.0  26.644444  \n",
       "10            1         980.0  35.000000  \n",
       "15            0        1600.0  25.538707  "
      ]
     },
     "execution_count": 121,
     "metadata": {},
     "output_type": "execute_result"
    }
   ],
   "source": [
    "df_rent2.head()"
   ]
  },
  {
   "cell_type": "markdown",
   "metadata": {},
   "source": [
    "### Add districts\n",
    "\n",
    "As it is one of the biggest reason of having different price in the same city  "
   ]
  },
  {
   "cell_type": "code",
   "execution_count": null,
   "metadata": {},
   "outputs": [],
   "source": []
  },
  {
   "cell_type": "markdown",
   "metadata": {},
   "source": [
    "# Visualisation"
   ]
  },
  {
   "cell_type": "markdown",
   "metadata": {},
   "source": [
    "### Show on a map where are located our cities"
   ]
  },
  {
   "cell_type": "code",
   "execution_count": null,
   "metadata": {},
   "outputs": [],
   "source": [
    "location = pd.read_csv(location_list,sep=';',encoding='windows-1250')"
   ]
  },
  {
   "cell_type": "code",
   "execution_count": null,
   "metadata": {},
   "outputs": [],
   "source": [
    "location.head(2)"
   ]
  },
  {
   "cell_type": "code",
   "execution_count": null,
   "metadata": {},
   "outputs": [],
   "source": [
    "df_cities = df_sale[['City']].drop_duplicates().reset_index()"
   ]
  },
  {
   "cell_type": "code",
   "execution_count": null,
   "metadata": {},
   "outputs": [],
   "source": [
    "df_cities = df_cities.merge(location,on='City',how='inner')"
   ]
  },
  {
   "cell_type": "code",
   "execution_count": null,
   "metadata": {},
   "outputs": [],
   "source": [
    "city_list =[]\n",
    "for city in range (len(df_cities)):\n",
    "    city_list.append(df_cities.iloc[city,1])\n",
    "    city_list.append(df_cities.iloc[city,2])"
   ]
  },
  {
   "cell_type": "code",
   "execution_count": null,
   "metadata": {},
   "outputs": [],
   "source": [
    "import folium"
   ]
  },
  {
   "cell_type": "code",
   "execution_count": null,
   "metadata": {},
   "outputs": [],
   "source": [
    "map = folium.Map(location=[50.226329, 19.019543],zoom_start=9)"
   ]
  },
  {
   "cell_type": "code",
   "execution_count": null,
   "metadata": {},
   "outputs": [],
   "source": [
    "def add_location(city,lat,lon):\n",
    "    tooltip = 'Click for more info'\n",
    "    folium.Marker([lat,lon],\n",
    "                  popup='<strong>'+city+'</strong>',\n",
    "                 tooltip=tooltip).add_to(map)"
   ]
  },
  {
   "cell_type": "code",
   "execution_count": null,
   "metadata": {},
   "outputs": [],
   "source": [
    "for x in range(len(city_list)):\n",
    "    if (x % 2 == 0):\n",
    "        city = city_list[x]\n",
    "        loc = city_list[x+1]\n",
    "        lat = float(loc.strip(',')[1:10])\n",
    "        lon = float(loc.strip(',')[12:21])\n",
    "    add_location(city,lat,lon)"
   ]
  },
  {
   "cell_type": "code",
   "execution_count": null,
   "metadata": {},
   "outputs": [],
   "source": [
    "map"
   ]
  },
  {
   "cell_type": "markdown",
   "metadata": {},
   "source": [
    "### Price per square metre\n",
    "\n",
    "* Show the prices both for sale and rent offers\n",
    "\n",
    "* Make a function removing bigger deviations \n",
    "\n",
    "* Create an average price per SqM for all cities from both tables (sale and rent) "
   ]
  },
  {
   "cell_type": "code",
   "execution_count": null,
   "metadata": {},
   "outputs": [],
   "source": [
    "df_sale.columns"
   ]
  },
  {
   "cell_type": "code",
   "execution_count": null,
   "metadata": {},
   "outputs": [],
   "source": [
    "import matplotlib\n",
    "%matplotlib inline"
   ]
  },
  {
   "cell_type": "code",
   "execution_count": null,
   "metadata": {},
   "outputs": [],
   "source": [
    "def plot_scatter(df,loc_a,loc_b,loc_c):\n",
    "    rent_a = df.loc[df.City==loc_a,('City', 'SqM', 'PriceSqM')]\n",
    "    rent_b = df.loc[df.City==loc_b,('City', 'SqM', 'PriceSqM')]\n",
    "    rent_c = df.loc[df.City==loc_c,('City', 'SqM', 'PriceSqM')]\n",
    "    matplotlib.rcParams['figure.figsize'] = (12,8)\n",
    "    plt.scatter(rent_a.SqM,rent_a.PriceSqM,marker='+',label='City',s=50)\n",
    "    plt.scatter(rent_b.SqM,rent_b.PriceSqM,color='red',label='City',s=50)\n",
    "    plt.scatter(rent_c.SqM,rent_c.PriceSqM,color='blue',label='City',s=50)\n",
    "    plt.xlabel('SqM')\n",
    "    plt.ylabel('Price per Square Metre')\n",
    "    plt.title('Square per metre prices comparison in offers with rent')\n",
    "    plt.legend(('Katowice','Wodzisław Śląski','Żory'),scatterpoints=1,loc='upper right',ncol=3,fontsize=10)"
   ]
  },
  {
   "cell_type": "code",
   "execution_count": null,
   "metadata": {
    "scrolled": true
   },
   "outputs": [],
   "source": [
    "plot_scatter(df_sale,'Katowice','Wodzisław Śląski','Żory')"
   ]
  },
  {
   "cell_type": "markdown",
   "metadata": {},
   "source": [
    "**First conclusion**\n",
    "\n",
    "As we can see in the above chart an average price for property for sale is quite similar and not depends on square metre.\n",
    "\n",
    "In case of the table for properties for rent we can see that the smaller flat or house we have the higher price per SqM we get "
   ]
  },
  {
   "cell_type": "markdown",
   "metadata": {},
   "source": [
    "# Next Steps\n",
    "\n",
    "-Histogram (each City)\n",
    "\n",
    "* SqM: maybe remove small SQM values\n",
    "* advert per city\n",
    "* sqm per flat/house\n",
    "* price for smq per floor\n",
    "\n",
    "-plot\n",
    "\n",
    "* dev/priv\n"
   ]
  },
  {
   "cell_type": "markdown",
   "metadata": {},
   "source": [
    "### Others"
   ]
  },
  {
   "cell_type": "code",
   "execution_count": null,
   "metadata": {},
   "outputs": [],
   "source": [
    "def plot_bar_x(label1, label2):\n",
    "    index = np.arange(len(label1))\n",
    "    plt.bar(index, label2)\n",
    "    plt.xlabel('', fontsize=10)\n",
    "    plt.ylabel('Number of offers', fontsize=10)\n",
    "    plt.xticks(index, label1, fontsize=10, rotation=30)\n",
    "    plt.title('Amount of offers')\n",
    "    plt.show()"
   ]
  },
  {
   "cell_type": "code",
   "execution_count": null,
   "metadata": {},
   "outputs": [],
   "source": [
    "a = olx_r.groupby('Owner').agg({'Price': 'count'}).reset_index()\n",
    "a"
   ]
  },
  {
   "cell_type": "code",
   "execution_count": null,
   "metadata": {},
   "outputs": [],
   "source": [
    "# Create an empty list \n",
    "owners_label =[]\n",
    "amount_label =[]\n",
    "  \n",
    "# Iterate over each row \n",
    "for index, rows in a.iterrows(): \n",
    "    owners_label.append(rows.Owner)\n",
    "    amount_label.append(rows.Price)\n",
    "  \n",
    "print(owners_label,amount_label) "
   ]
  },
  {
   "cell_type": "code",
   "execution_count": null,
   "metadata": {
    "scrolled": true
   },
   "outputs": [],
   "source": [
    "plot_bar_x(owners_label, amount_label)"
   ]
  },
  {
   "cell_type": "markdown",
   "metadata": {},
   "source": [
    "What type of buildings do we have"
   ]
  },
  {
   "cell_type": "code",
   "execution_count": null,
   "metadata": {},
   "outputs": [],
   "source": [
    "building_types = olx_r[olx_r.City=='wodzislaw-slaski'].groupby('Buildings_Type')['Price'].count().reset_index()\n",
    "\n",
    "building_types_label = []\n",
    "building_types_amount = []\n",
    "\n",
    "for index, rows in building_types.iterrows():\n",
    "    building_types_label.append(rows.Buildings_Type)\n",
    "    building_types_amount.append(rows.Price)\n",
    "print(building_types_label,building_types_amount)"
   ]
  },
  {
   "cell_type": "code",
   "execution_count": null,
   "metadata": {},
   "outputs": [],
   "source": [
    "plot_bar_x(building_types_label, building_types_amount)"
   ]
  },
  {
   "cell_type": "markdown",
   "metadata": {},
   "source": [
    "# Charts... in progress"
   ]
  },
  {
   "cell_type": "code",
   "execution_count": null,
   "metadata": {},
   "outputs": [],
   "source": [
    "wodzislaw = olx_table[olx_table.City=='Wodzislaw-Slaski']"
   ]
  },
  {
   "cell_type": "code",
   "execution_count": null,
   "metadata": {},
   "outputs": [],
   "source": [
    "rybnik = olx_table[olx_table.City=='Rybnik']"
   ]
  },
  {
   "cell_type": "code",
   "execution_count": null,
   "metadata": {
    "scrolled": true
   },
   "outputs": [],
   "source": [
    "plt.style.use('fivethirtyeight')\n",
    "\n",
    "x = len(rybnik[rybnik.Offer_Type=='for_sale'])\n",
    "y = len(rybnik[rybnik.Offer_Type=='for_rent'])\n",
    "values_a = [x,y]\n",
    "labels_a = ['For Sale', 'For Rent']\n",
    "colors_a = ['#174F5F', '#3CAEA3']\n",
    "explode_a = [0, 0.05]\n",
    "\n",
    "i = len(wodzislaw[wodzislaw.Offer_Type=='for_sale'])\n",
    "j = len(wodzislaw[wodzislaw.Offer_Type=='for_rent'])\n",
    "values_b = [i,j]\n",
    "labels_b = ['For Sale', 'For Rent']\n",
    "colors_b = ['#174F5F', '#3CAEA3']\n",
    "explode_b = [0, 0.05]\n",
    "\n",
    "# create a figure with two subplots\n",
    "fig, (ax1, ax2) = plt.subplots(1, 2)\n",
    "\n",
    "# plot each pie chart in a separate subplot\n",
    "ax1.pie(values_a, labels=labels_a, colors=colors_a, explode=explode_a, startangle=0, autopct='%1.1f%%', wedgeprops={'edgecolor': 'black'})\n",
    "ax2.pie(values_b, labels=labels_b, colors=colors_b, explode=explode_b, startangle=0, autopct='%1.1f%%', wedgeprops={'edgecolor': 'black'})\n",
    "\n",
    "ax1.set_title('Rybnik')\n",
    "ax2.set_title('Wodzislaw')\n",
    "fig.suptitle('Offert Type Ratio')\n",
    "\n",
    "#fig.legend(loc='upper center')\n",
    "plt.tight_layout()\n",
    "plt.show()"
   ]
  }
 ],
 "metadata": {
  "kernelspec": {
   "display_name": "Python 3",
   "language": "python",
   "name": "python3"
  },
  "language_info": {
   "codemirror_mode": {
    "name": "ipython",
    "version": 3
   },
   "file_extension": ".py",
   "mimetype": "text/x-python",
   "name": "python",
   "nbconvert_exporter": "python",
   "pygments_lexer": "ipython3",
   "version": "3.7.6"
  },
  "toc": {
   "base_numbering": 1,
   "nav_menu": {
    "height": "410px",
    "width": "682px"
   },
   "number_sections": true,
   "sideBar": true,
   "skip_h1_title": true,
   "title_cell": "Table of Contents",
   "title_sidebar": "Contents",
   "toc_cell": true,
   "toc_position": {},
   "toc_section_display": true,
   "toc_window_display": false
  }
 },
 "nbformat": 4,
 "nbformat_minor": 2
}
