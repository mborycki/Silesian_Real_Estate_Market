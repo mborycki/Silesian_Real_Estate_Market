{
 "cells": [
  {
   "cell_type": "markdown",
   "metadata": {},
   "source": [
    "## Table of contents:\n",
    "1. Cleaning table\n",
    " * translate column names to English "
   ]
  },
  {
   "cell_type": "code",
   "execution_count": null,
   "metadata": {},
   "outputs": [],
   "source": [
    "import pandas as pd\n",
    "import numpy as np\n",
    "from matplotlib import pyplot as plt"
   ]
  },
  {
   "cell_type": "code",
   "execution_count": null,
   "metadata": {},
   "outputs": [],
   "source": [
    "url = 'https://raw.githubusercontent.com/mborycki/Silesian_Real_Estate_Market/master'\n",
    "olx_link = f'{url}/OLX_Offers.csv'\n",
    "location_list = f'{url}/locations.txt'"
   ]
  },
  {
   "cell_type": "code",
   "execution_count": null,
   "metadata": {},
   "outputs": [],
   "source": [
    "olx_df = pd.read_csv(olx_link,thousands=',')"
   ]
  },
  {
   "cell_type": "code",
   "execution_count": null,
   "metadata": {},
   "outputs": [],
   "source": [
    "olx_df.columns"
   ]
  },
  {
   "cell_type": "code",
   "execution_count": null,
   "metadata": {},
   "outputs": [],
   "source": [
    "olx_df.shape"
   ]
  },
  {
   "cell_type": "code",
   "execution_count": null,
   "metadata": {},
   "outputs": [],
   "source": [
    "olx_df.head()"
   ]
  },
  {
   "cell_type": "markdown",
   "metadata": {},
   "source": [
    "## Data Cleaning:"
   ]
  },
  {
   "cell_type": "markdown",
   "metadata": {},
   "source": [
    "### Translate column names to English:"
   ]
  },
  {
   "cell_type": "code",
   "execution_count": null,
   "metadata": {},
   "outputs": [],
   "source": [
    "olx_df.rename(columns={'Cena': 'Price', 'Cena za m²': 'PriceSqM', 'Czynsz (dodatkowo)': 'MonthlyRent', 'Finanse': 'Finances', \n",
    "'Liczba pokoi': 'Bedrooms', 'Link': 'Link', 'Miejsce': 'Place', 'Oferta od': 'Advert_Owner', 'Powierzchnia': 'SqM',\n",
    "'Poziom': 'Floor', 'Rodzaj zabudowy': 'BuildingType', 'Rynek': 'Market', 'Umeblowane': 'Furnishings', 'Miasto': 'City'},inplace=True)"
   ]
  },
  {
   "cell_type": "code",
   "execution_count": null,
   "metadata": {},
   "outputs": [],
   "source": [
    "olx_df.head(2)"
   ]
  },
  {
   "cell_type": "code",
   "execution_count": null,
   "metadata": {},
   "outputs": [],
   "source": [
    "olx_df.Advert_Owner.replace(['Osoby prywatnej', 'Biuro / Deweloper'],['Developer','Private'],inplace=True)\n",
    "olx_df.Advert_Owner.unique()"
   ]
  },
  {
   "cell_type": "code",
   "execution_count": null,
   "metadata": {},
   "outputs": [],
   "source": [
    "olx_df.BuildingType.replace(['Apartamentowiec', 'Blok', 'Dom wolnostojący', 'Kamienica',\n",
    "                                'Pozostałe', 'Loft', 'Szeregowiec'],\n",
    "                               ['Apartment', 'Flat', 'House', 'Tenement',\n",
    "                                'Other', 'Loft', 'Townhouse'],inplace=True)\n",
    "olx_df.BuildingType.unique()"
   ]
  },
  {
   "cell_type": "code",
   "execution_count": null,
   "metadata": {},
   "outputs": [],
   "source": [
    "olx_df.Market.replace(['Wtórny', 'Pierwotny'],['After', 'Primary'],inplace=True)\n",
    "olx_df.Market.unique()"
   ]
  },
  {
   "cell_type": "code",
   "execution_count": null,
   "metadata": {},
   "outputs": [],
   "source": [
    "olx_df.head(2)"
   ]
  },
  {
   "cell_type": "markdown",
   "metadata": {},
   "source": [
    "### Create a column specifying type of offer: For Sale or For Rent:"
   ]
  },
  {
   "cell_type": "code",
   "execution_count": null,
   "metadata": {},
   "outputs": [],
   "source": [
    "olx_df['OfferType'] = np.where(olx_df['MonthlyRent'].isnull(), 'For_Sale', 'For_Rent')"
   ]
  },
  {
   "cell_type": "markdown",
   "metadata": {},
   "source": [
    "### Create a new dataframe before I start to do more changes"
   ]
  },
  {
   "cell_type": "code",
   "execution_count": null,
   "metadata": {},
   "outputs": [],
   "source": [
    "olx_table = olx_df.copy()"
   ]
  },
  {
   "cell_type": "markdown",
   "metadata": {},
   "source": [
    "### Remove unnecessary columns with website link and information about loans "
   ]
  },
  {
   "cell_type": "code",
   "execution_count": null,
   "metadata": {},
   "outputs": [],
   "source": [
    "olx_table.drop(columns={'Finances','Link'}, axis=1, inplace=True)"
   ]
  },
  {
   "cell_type": "code",
   "execution_count": null,
   "metadata": {
    "scrolled": true
   },
   "outputs": [],
   "source": [
    "olx_table.head(2)"
   ]
  },
  {
   "cell_type": "markdown",
   "metadata": {},
   "source": [
    "### Create a column with cities using polish characters "
   ]
  },
  {
   "cell_type": "code",
   "execution_count": null,
   "metadata": {},
   "outputs": [],
   "source": [
    "olx_table['City2'] = olx_table['Place'].str.split(',').str[0]"
   ]
  },
  {
   "cell_type": "code",
   "execution_count": null,
   "metadata": {},
   "outputs": [],
   "source": [
    "olx_table.head(2)"
   ]
  },
  {
   "cell_type": "code",
   "execution_count": null,
   "metadata": {},
   "outputs": [],
   "source": [
    "olx_table.City2.unique()"
   ]
  },
  {
   "cell_type": "code",
   "execution_count": null,
   "metadata": {},
   "outputs": [],
   "source": [
    "# We have some 'no data' records so in that cases let's use city names used in during scraping process (with capitalize func) \n",
    "olx_table['City2'] = np.where(olx_table['City2']=='no data',olx_table['City'].str.capitalize(),olx_table['City2'])"
   ]
  },
  {
   "cell_type": "code",
   "execution_count": null,
   "metadata": {},
   "outputs": [],
   "source": [
    "olx_table.City2.unique()"
   ]
  },
  {
   "cell_type": "code",
   "execution_count": null,
   "metadata": {},
   "outputs": [],
   "source": [
    "olx_table.drop(columns={'City'},inplace=True)"
   ]
  },
  {
   "cell_type": "code",
   "execution_count": null,
   "metadata": {},
   "outputs": [],
   "source": [
    "olx_table.rename(columns={'City2':'City'},inplace=True)"
   ]
  },
  {
   "cell_type": "markdown",
   "metadata": {},
   "source": [
    "### Is there possibility to negotiate a price?"
   ]
  },
  {
   "cell_type": "code",
   "execution_count": null,
   "metadata": {},
   "outputs": [],
   "source": [
    "olx_table['Negotiating'] = np.where(olx_table.Price.str.contains('Do negocjacji'), 1, 0)"
   ]
  },
  {
   "cell_type": "code",
   "execution_count": null,
   "metadata": {
    "scrolled": true
   },
   "outputs": [],
   "source": [
    "olx_table.head()"
   ]
  },
  {
   "cell_type": "markdown",
   "metadata": {},
   "source": [
    "### Create a function which remove unnecessary text from chosen column and keep just the first value\n",
    "\n",
    "But first we need to remove null values from chosen columns"
   ]
  },
  {
   "cell_type": "code",
   "execution_count": null,
   "metadata": {},
   "outputs": [],
   "source": [
    "olx_table.isnull().sum()"
   ]
  },
  {
   "cell_type": "code",
   "execution_count": null,
   "metadata": {},
   "outputs": [],
   "source": [
    "olx_table['PriceSqM'] = olx_table['PriceSqM'].replace(np.nan, '0  zł/m²')"
   ]
  },
  {
   "cell_type": "code",
   "execution_count": null,
   "metadata": {},
   "outputs": [],
   "source": [
    "olx_table['MonthlyRent'] = olx_table['MonthlyRent'].replace(np.nan, '0  zł')"
   ]
  },
  {
   "cell_type": "code",
   "execution_count": null,
   "metadata": {},
   "outputs": [],
   "source": [
    "olx_table.head(2)"
   ]
  },
  {
   "cell_type": "code",
   "execution_count": null,
   "metadata": {},
   "outputs": [],
   "source": [
    "def remove_str(x):\n",
    "    token1 = x.split(' złDo negocjacji') # Price\n",
    "    token2 = x.split(' zł') # Price / MonthlyRent\n",
    "    token3 = x.split(' zł/m²') # PriceSqM\n",
    "    token4 = x.split(' m²') # SqM\n",
    "    if len(token1) == 2:\n",
    "        return (str(token1[0]))\n",
    "    elif len(token2) == 2:\n",
    "        return (str(token2[0]))\n",
    "    elif len(token3) == 2:\n",
    "        return (str(token3[0]))\n",
    "    elif len(token4) == 2:\n",
    "        return (str(token4[0]))\n",
    "    try:\n",
    "        return str(x)\n",
    "    except:\n",
    "        return False    "
   ]
  },
  {
   "cell_type": "code",
   "execution_count": null,
   "metadata": {},
   "outputs": [],
   "source": [
    "olx_table['Price'] = olx_table['Price'].apply(remove_str)"
   ]
  },
  {
   "cell_type": "code",
   "execution_count": null,
   "metadata": {},
   "outputs": [],
   "source": [
    "olx_table['PriceSqM'] = olx_table['PriceSqM'].apply(remove_str)"
   ]
  },
  {
   "cell_type": "code",
   "execution_count": null,
   "metadata": {},
   "outputs": [],
   "source": [
    "olx_table['SqM'] = olx_table['SqM'].apply(remove_str)"
   ]
  },
  {
   "cell_type": "code",
   "execution_count": null,
   "metadata": {},
   "outputs": [],
   "source": [
    "olx_table['MonthlyRent'] = olx_table['MonthlyRent'].apply(remove_str)"
   ]
  },
  {
   "cell_type": "code",
   "execution_count": null,
   "metadata": {},
   "outputs": [],
   "source": [
    "olx_table.head(2)"
   ]
  },
  {
   "cell_type": "markdown",
   "metadata": {},
   "source": [
    "### Remove empty spaces in the first two columns"
   ]
  },
  {
   "cell_type": "code",
   "execution_count": null,
   "metadata": {},
   "outputs": [],
   "source": [
    "olx_table.iloc[0,0]"
   ]
  },
  {
   "cell_type": "code",
   "execution_count": null,
   "metadata": {},
   "outputs": [],
   "source": [
    "olx_table['Price'] = olx_table['Price'].str.replace(' ', '')\n",
    "olx_table['PriceSqM'] = olx_table['PriceSqM'].str.replace(' ', '') \n",
    "olx_table.iloc[0,0]"
   ]
  },
  {
   "cell_type": "code",
   "execution_count": null,
   "metadata": {},
   "outputs": [],
   "source": [
    "olx_table.head(2)"
   ]
  },
  {
   "cell_type": "markdown",
   "metadata": {},
   "source": [
    "8.Change values in Bedrooms column"
   ]
  },
  {
   "cell_type": "code",
   "execution_count": null,
   "metadata": {},
   "outputs": [],
   "source": [
    "olx_table.Bedrooms.unique()"
   ]
  },
  {
   "cell_type": "code",
   "execution_count": null,
   "metadata": {},
   "outputs": [],
   "source": [
    "olx_table.groupby('Bedrooms')['Bedrooms'].count()"
   ]
  },
  {
   "cell_type": "code",
   "execution_count": null,
   "metadata": {},
   "outputs": [],
   "source": [
    "def rooms_number(x):\n",
    "    if x == 'Kawalerka' or x == '1 pokój':\n",
    "        return 1\n",
    "    elif x == '2 pokoje':\n",
    "        return 2\n",
    "    elif x == '3 pokoje':\n",
    "        return 3\n",
    "    else:\n",
    "        return 4"
   ]
  },
  {
   "cell_type": "code",
   "execution_count": null,
   "metadata": {},
   "outputs": [],
   "source": [
    "olx_table['Bedrooms'] = olx_table['Bedrooms'].apply(rooms_number)"
   ]
  },
  {
   "cell_type": "code",
   "execution_count": null,
   "metadata": {},
   "outputs": [],
   "source": [
    "olx_table.groupby('Bedrooms')['Bedrooms'].count()"
   ]
  },
  {
   "cell_type": "markdown",
   "metadata": {},
   "source": [
    "### Keep integer values in the \"Floor\" and \"Furnishings\" columns"
   ]
  },
  {
   "cell_type": "code",
   "execution_count": null,
   "metadata": {},
   "outputs": [],
   "source": [
    "olx_table.Floor.unique() # we have some object in here"
   ]
  },
  {
   "cell_type": "code",
   "execution_count": null,
   "metadata": {},
   "outputs": [],
   "source": [
    "olx_table.groupby('Floor')['Floor'].count()"
   ]
  },
  {
   "cell_type": "markdown",
   "metadata": {},
   "source": [
    "I am not interested in: Attic (Poddasze), floor > 10. So I removed records with these floors and with null. Ground Floor  (Parter) I renamed to 0 "
   ]
  },
  {
   "cell_type": "code",
   "execution_count": null,
   "metadata": {},
   "outputs": [],
   "source": [
    "olx_table.drop(olx_table[(olx_table.Floor=='Poddasze')|(olx_table.Floor=='Powyżej 10')].index, axis=0, inplace=True)"
   ]
  },
  {
   "cell_type": "code",
   "execution_count": null,
   "metadata": {},
   "outputs": [],
   "source": [
    "olx_table.dropna(subset=['Floor'],inplace=True)"
   ]
  },
  {
   "cell_type": "code",
   "execution_count": null,
   "metadata": {},
   "outputs": [],
   "source": [
    "olx_table['Floor'] = olx_table.Floor.replace('Parter','0')"
   ]
  },
  {
   "cell_type": "code",
   "execution_count": null,
   "metadata": {},
   "outputs": [],
   "source": [
    "olx_table['Floor'] = olx_table['Floor'].astype(int)"
   ]
  },
  {
   "cell_type": "code",
   "execution_count": null,
   "metadata": {},
   "outputs": [],
   "source": [
    "olx_table.groupby('Floor')['Floor'].count()"
   ]
  },
  {
   "cell_type": "code",
   "execution_count": null,
   "metadata": {},
   "outputs": [],
   "source": [
    "olx_table['Furnishings'] = np.where(olx_table.Furnishings=='Tak',1,0)"
   ]
  },
  {
   "cell_type": "code",
   "execution_count": null,
   "metadata": {},
   "outputs": [],
   "source": [
    "olx_table.head()"
   ]
  },
  {
   "cell_type": "markdown",
   "metadata": {},
   "source": [
    "## Divide the olx table to 2 separate tables:\n",
    "\n",
    "- For Rent\n",
    "- For Sale"
   ]
  },
  {
   "cell_type": "code",
   "execution_count": null,
   "metadata": {},
   "outputs": [],
   "source": [
    "df_rent = olx_table[olx_table.OfferType=='For_Rent'].copy()\n",
    "df_sale = olx_table[olx_table.OfferType=='For_Sale'].copy()"
   ]
  },
  {
   "cell_type": "markdown",
   "metadata": {},
   "source": [
    "### Remove unnecessary columns"
   ]
  },
  {
   "cell_type": "code",
   "execution_count": null,
   "metadata": {},
   "outputs": [],
   "source": [
    "df_sale.head(2)"
   ]
  },
  {
   "cell_type": "code",
   "execution_count": null,
   "metadata": {},
   "outputs": [],
   "source": [
    "df_rent.head(2)"
   ]
  },
  {
   "cell_type": "code",
   "execution_count": null,
   "metadata": {},
   "outputs": [],
   "source": [
    "df_sale.drop(columns={'MonthlyRent','OfferType'}, axis='columns', inplace=True) "
   ]
  },
  {
   "cell_type": "code",
   "execution_count": null,
   "metadata": {},
   "outputs": [],
   "source": [
    "df_rent.drop(columns={'PriceSqM','Market','OfferType'}, axis='columns', inplace=True)"
   ]
  },
  {
   "cell_type": "markdown",
   "metadata": {},
   "source": [
    "### Change data types - 'object' to 'float' - for columns with numbers."
   ]
  },
  {
   "cell_type": "code",
   "execution_count": null,
   "metadata": {},
   "outputs": [],
   "source": [
    "def is_float(x):\n",
    "    try:\n",
    "        return float(x)\n",
    "    except:\n",
    "        return False"
   ]
  },
  {
   "cell_type": "code",
   "execution_count": null,
   "metadata": {},
   "outputs": [],
   "source": [
    "def RemoveFalse(df,col):\n",
    "    return df.drop(df[df[col]==False].index,inplace=True)"
   ]
  },
  {
   "cell_type": "markdown",
   "metadata": {},
   "source": [
    "**For Sale**"
   ]
  },
  {
   "cell_type": "code",
   "execution_count": null,
   "metadata": {},
   "outputs": [],
   "source": [
    "df_sale.dtypes"
   ]
  },
  {
   "cell_type": "code",
   "execution_count": null,
   "metadata": {},
   "outputs": [],
   "source": [
    "df_sale.shape"
   ]
  },
  {
   "cell_type": "code",
   "execution_count": null,
   "metadata": {},
   "outputs": [],
   "source": [
    "df_sale['Price'] = df_sale['Price'].apply(lambda x: x.replace(',','.')).apply(is_float)\n",
    "print(f'{len(df_sale[df_sale.Price==False])} \"False\" records before remove them \\n')\n",
    "RemoveFalse(df_sale,'Price')\n",
    "df_sale['Price'] = df_sale['Price'].apply(is_float)\n",
    "print(f'{len(df_sale[df_sale.Price==False])} \"False\" records now')"
   ]
  },
  {
   "cell_type": "code",
   "execution_count": null,
   "metadata": {},
   "outputs": [],
   "source": [
    "df_sale['PriceSqM'] = df_sale['PriceSqM'].apply(lambda x: x.replace(',','.')).apply(is_float)\n",
    "print(f'{len(df_sale[df_sale.PriceSqM==False])} \"False\" records before remove them \\n')\n",
    "RemoveFalse(df_sale,'PriceSqM')\n",
    "df_sale['PriceSqM'] = df_sale['PriceSqM'].apply(is_float)\n",
    "print(f'{len(df_sale[df_sale.PriceSqM==False])} \"False\" records now')"
   ]
  },
  {
   "cell_type": "code",
   "execution_count": null,
   "metadata": {},
   "outputs": [],
   "source": [
    "df_sale['SqM'] = df_sale['SqM'].apply(lambda x: x.replace(',','.')).apply(is_float)\n",
    "print(f'{len(df_sale[df_sale.SqM==False])} \"False\" records before remove them \\n')\n",
    "RemoveFalse(df_sale,'SqM')\n",
    "df_sale['SqM'] = df_sale['SqM'].apply(is_float)\n",
    "print(f'{len(df_sale[df_sale.SqM==False])} \"False\" records now')"
   ]
  },
  {
   "cell_type": "code",
   "execution_count": null,
   "metadata": {
    "scrolled": true
   },
   "outputs": [],
   "source": [
    "df_sale.dtypes"
   ]
  },
  {
   "cell_type": "code",
   "execution_count": null,
   "metadata": {},
   "outputs": [],
   "source": [
    "df_sale.shape"
   ]
  },
  {
   "cell_type": "code",
   "execution_count": null,
   "metadata": {},
   "outputs": [],
   "source": [
    "df_sale.head()"
   ]
  },
  {
   "cell_type": "code",
   "execution_count": null,
   "metadata": {},
   "outputs": [],
   "source": [
    "df_sale.describe()"
   ]
  },
  {
   "cell_type": "markdown",
   "metadata": {},
   "source": [
    "**For Rent**"
   ]
  },
  {
   "cell_type": "code",
   "execution_count": null,
   "metadata": {},
   "outputs": [],
   "source": [
    "df_rent.dtypes"
   ]
  },
  {
   "cell_type": "code",
   "execution_count": null,
   "metadata": {},
   "outputs": [],
   "source": [
    "df_rent.shape"
   ]
  },
  {
   "cell_type": "code",
   "execution_count": null,
   "metadata": {},
   "outputs": [],
   "source": [
    "df_rent['Price'] = df_rent['Price'].apply(lambda x: x.replace(',','.')).apply(is_float)\n",
    "print(f'{len(df_rent[df_rent.Price==False])} \"False\" records before remove them \\n')\n",
    "RemoveFalse(df_rent,'Price')\n",
    "df_rent['Price'] = df_rent['Price'].apply(is_float)\n",
    "print(f'{len(df_rent[df_rent.Price==False])} \"False\" records now')"
   ]
  },
  {
   "cell_type": "code",
   "execution_count": null,
   "metadata": {},
   "outputs": [],
   "source": [
    "df_rent['MonthlyRent'] = df_rent['MonthlyRent'].apply(lambda x: x.replace(',','.')).apply(is_float)\n",
    "print(f'{len(df_rent[df_rent.MonthlyRent==False])} \"False\" records before remove them \\n')\n",
    "RemoveFalse(df_rent,'MonthlyRent')\n",
    "df_rent['MonthlyRent'] = df_rent['MonthlyRent'].apply(is_float)\n",
    "print(f'{len(df_rent[df_rent.MonthlyRent==False])} \"False\" records now')"
   ]
  },
  {
   "cell_type": "code",
   "execution_count": null,
   "metadata": {},
   "outputs": [],
   "source": [
    "df_rent['SqM'] = df_rent['SqM'].apply(lambda x: x.replace(',','.')).apply(is_float)\n",
    "print(f'{len(df_rent[df_rent.SqM==False])} \"False\" records before remove them \\n')\n",
    "RemoveFalse(df_rent,'SqM')\n",
    "df_rent['SqM'] = df_rent['SqM'].apply(is_float)\n",
    "print(f'{len(df_rent[df_rent.SqM==False])} \"False\" records now')"
   ]
  },
  {
   "cell_type": "code",
   "execution_count": null,
   "metadata": {
    "scrolled": true
   },
   "outputs": [],
   "source": [
    "df_rent.dtypes"
   ]
  },
  {
   "cell_type": "code",
   "execution_count": null,
   "metadata": {},
   "outputs": [],
   "source": [
    "df_rent.shape"
   ]
  },
  {
   "cell_type": "markdown",
   "metadata": {},
   "source": [
    "### Create final price for properties "
   ]
  },
  {
   "cell_type": "code",
   "execution_count": null,
   "metadata": {},
   "outputs": [],
   "source": [
    "df_rent['MonthlyPrice'] = np.where(df_rent.MonthlyRent>1,df_rent.MonthlyRent+df_rent.Price,df_rent.Price)"
   ]
  },
  {
   "cell_type": "code",
   "execution_count": null,
   "metadata": {},
   "outputs": [],
   "source": [
    "df_rent['PriceSqM'] = df_rent.MonthlyPrice/df_rent.SqM"
   ]
  },
  {
   "cell_type": "code",
   "execution_count": null,
   "metadata": {},
   "outputs": [],
   "source": [
    "df_rent.drop(columns={'Price','MonthlyRent'},inplace=True)"
   ]
  },
  {
   "cell_type": "code",
   "execution_count": null,
   "metadata": {},
   "outputs": [],
   "source": [
    "df_rent.head()"
   ]
  },
  {
   "cell_type": "code",
   "execution_count": null,
   "metadata": {},
   "outputs": [],
   "source": [
    "df_rent.describe()"
   ]
  },
  {
   "cell_type": "markdown",
   "metadata": {},
   "source": [
    "# Next Steps\n",
    "\n",
    "**Remove too small and too high numbers. Check whish should I drop based on a chart**\n",
    "\n",
    "1.Histogram (each City)\n",
    "\n",
    "* SqM: maybe remove small SQM values\n",
    "* advert per city\n",
    "* sqm per flat/house\n",
    "* price for smq per floor\n",
    "\n",
    "2.plot\n",
    "\n",
    "* dev/priv\n"
   ]
  },
  {
   "cell_type": "code",
   "execution_count": null,
   "metadata": {},
   "outputs": [],
   "source": [
    "df_sale.groupby('City')['City'].count().sort_values()"
   ]
  },
  {
   "cell_type": "code",
   "execution_count": null,
   "metadata": {},
   "outputs": [],
   "source": [
    "df_sale.describe()"
   ]
  },
  {
   "cell_type": "code",
   "execution_count": null,
   "metadata": {
    "scrolled": true
   },
   "outputs": [],
   "source": [
    "df_rent.groupby('City')['City'].count().sort_values()"
   ]
  },
  {
   "cell_type": "code",
   "execution_count": null,
   "metadata": {},
   "outputs": [],
   "source": [
    "df_rent.describe()"
   ]
  },
  {
   "cell_type": "markdown",
   "metadata": {},
   "source": [
    "# Visualisation\n",
    "* Where are located our cities\n",
    "* Where is bigger population"
   ]
  },
  {
   "cell_type": "markdown",
   "metadata": {},
   "source": [
    "?.Create a list with cities from dataframe with properties for sale"
   ]
  },
  {
   "cell_type": "code",
   "execution_count": null,
   "metadata": {},
   "outputs": [],
   "source": [
    "location = pd.read_csv(location_list,sep=';',encoding='windows-1250')"
   ]
  },
  {
   "cell_type": "code",
   "execution_count": null,
   "metadata": {},
   "outputs": [],
   "source": [
    "location.head(2)"
   ]
  },
  {
   "cell_type": "code",
   "execution_count": null,
   "metadata": {},
   "outputs": [],
   "source": [
    "df_cities = df_sale[['City']].drop_duplicates().reset_index()"
   ]
  },
  {
   "cell_type": "code",
   "execution_count": null,
   "metadata": {},
   "outputs": [],
   "source": [
    "df_cities = df_cities.merge(location,on='City',how='inner')"
   ]
  },
  {
   "cell_type": "code",
   "execution_count": null,
   "metadata": {},
   "outputs": [],
   "source": [
    "city_list =[]\n",
    "for city in range (len(df_cities)):\n",
    "    city_list.append(df_cities.iloc[city,1])\n",
    "    city_list.append(df_cities.iloc[city,2])"
   ]
  },
  {
   "cell_type": "code",
   "execution_count": null,
   "metadata": {},
   "outputs": [],
   "source": [
    "import folium"
   ]
  },
  {
   "cell_type": "code",
   "execution_count": null,
   "metadata": {},
   "outputs": [],
   "source": [
    "map = folium.Map(location=[50.226329, 19.019543],zoom_start=9)"
   ]
  },
  {
   "cell_type": "code",
   "execution_count": null,
   "metadata": {},
   "outputs": [],
   "source": [
    "def add_location(city,lat,lon):\n",
    "    tooltip = 'Click for more info'\n",
    "    folium.Marker([lat,lon],\n",
    "                  popup='<strong>'+city+'</strong>',\n",
    "                 tooltip=tooltip).add_to(map)"
   ]
  },
  {
   "cell_type": "code",
   "execution_count": null,
   "metadata": {},
   "outputs": [],
   "source": [
    "for x in range(len(city_list)):\n",
    "    if (x % 2 == 0):\n",
    "        city = city_list[x]\n",
    "        loc = city_list[x+1]\n",
    "        lat = float(loc.strip(',')[1:10])\n",
    "        lon = float(loc.strip(',')[12:21])\n",
    "    add_location(city,lat,lon)"
   ]
  },
  {
   "cell_type": "code",
   "execution_count": null,
   "metadata": {},
   "outputs": [],
   "source": [
    "map"
   ]
  },
  {
   "cell_type": "markdown",
   "metadata": {},
   "source": [
    "### Others"
   ]
  },
  {
   "cell_type": "code",
   "execution_count": null,
   "metadata": {},
   "outputs": [],
   "source": [
    "def plot_bar_x(label1, label2):\n",
    "    index = np.arange(len(label1))\n",
    "    plt.bar(index, label2)\n",
    "    plt.xlabel('', fontsize=10)\n",
    "    plt.ylabel('Number of offers', fontsize=10)\n",
    "    plt.xticks(index, label1, fontsize=10, rotation=30)\n",
    "    plt.title('Amount of offers')\n",
    "    plt.show()"
   ]
  },
  {
   "cell_type": "code",
   "execution_count": null,
   "metadata": {},
   "outputs": [],
   "source": [
    "a = olx_r.groupby('Owner').agg({'Price': 'count'}).reset_index()\n",
    "a"
   ]
  },
  {
   "cell_type": "code",
   "execution_count": null,
   "metadata": {},
   "outputs": [],
   "source": [
    "# Create an empty list \n",
    "owners_label =[]\n",
    "amount_label =[]\n",
    "  \n",
    "# Iterate over each row \n",
    "for index, rows in a.iterrows(): \n",
    "    owners_label.append(rows.Owner)\n",
    "    amount_label.append(rows.Price)\n",
    "  \n",
    "print(owners_label,amount_label) "
   ]
  },
  {
   "cell_type": "code",
   "execution_count": null,
   "metadata": {
    "scrolled": true
   },
   "outputs": [],
   "source": [
    "plot_bar_x(owners_label, amount_label)"
   ]
  },
  {
   "cell_type": "markdown",
   "metadata": {},
   "source": [
    "What type of buildings do we have"
   ]
  },
  {
   "cell_type": "code",
   "execution_count": null,
   "metadata": {},
   "outputs": [],
   "source": [
    "building_types = olx_r[olx_r.City=='wodzislaw-slaski'].groupby('Buildings_Type')['Price'].count().reset_index()\n",
    "\n",
    "building_types_label = []\n",
    "building_types_amount = []\n",
    "\n",
    "for index, rows in building_types.iterrows():\n",
    "    building_types_label.append(rows.Buildings_Type)\n",
    "    building_types_amount.append(rows.Price)\n",
    "print(building_types_label,building_types_amount)"
   ]
  },
  {
   "cell_type": "code",
   "execution_count": null,
   "metadata": {},
   "outputs": [],
   "source": [
    "plot_bar_x(building_types_label, building_types_amount)"
   ]
  },
  {
   "cell_type": "markdown",
   "metadata": {},
   "source": [
    "# Charts... in progress"
   ]
  },
  {
   "cell_type": "code",
   "execution_count": null,
   "metadata": {},
   "outputs": [],
   "source": [
    "wodzislaw = olx_table[olx_table.City=='Wodzislaw-Slaski']"
   ]
  },
  {
   "cell_type": "code",
   "execution_count": null,
   "metadata": {},
   "outputs": [],
   "source": [
    "rybnik = olx_table[olx_table.City=='Rybnik']"
   ]
  },
  {
   "cell_type": "code",
   "execution_count": null,
   "metadata": {
    "scrolled": true
   },
   "outputs": [],
   "source": [
    "plt.style.use('fivethirtyeight')\n",
    "\n",
    "x = len(rybnik[rybnik.Offer_Type=='for_sale'])\n",
    "y = len(rybnik[rybnik.Offer_Type=='for_rent'])\n",
    "values_a = [x,y]\n",
    "labels_a = ['For Sale', 'For Rent']\n",
    "colors_a = ['#174F5F', '#3CAEA3']\n",
    "explode_a = [0, 0.05]\n",
    "\n",
    "i = len(wodzislaw[wodzislaw.Offer_Type=='for_sale'])\n",
    "j = len(wodzislaw[wodzislaw.Offer_Type=='for_rent'])\n",
    "values_b = [i,j]\n",
    "labels_b = ['For Sale', 'For Rent']\n",
    "colors_b = ['#174F5F', '#3CAEA3']\n",
    "explode_b = [0, 0.05]\n",
    "\n",
    "# create a figure with two subplots\n",
    "fig, (ax1, ax2) = plt.subplots(1, 2)\n",
    "\n",
    "# plot each pie chart in a separate subplot\n",
    "ax1.pie(values_a, labels=labels_a, colors=colors_a, explode=explode_a, startangle=0, autopct='%1.1f%%', wedgeprops={'edgecolor': 'black'})\n",
    "ax2.pie(values_b, labels=labels_b, colors=colors_b, explode=explode_b, startangle=0, autopct='%1.1f%%', wedgeprops={'edgecolor': 'black'})\n",
    "\n",
    "ax1.set_title('Rybnik')\n",
    "ax2.set_title('Wodzislaw')\n",
    "fig.suptitle('Offert Type Ratio')\n",
    "\n",
    "#fig.legend(loc='upper center')\n",
    "plt.tight_layout()\n",
    "plt.show()"
   ]
  }
 ],
 "metadata": {
  "kernelspec": {
   "display_name": "Python 3",
   "language": "python",
   "name": "python3"
  },
  "language_info": {
   "codemirror_mode": {
    "name": "ipython",
    "version": 3
   },
   "file_extension": ".py",
   "mimetype": "text/x-python",
   "name": "python",
   "nbconvert_exporter": "python",
   "pygments_lexer": "ipython3",
   "version": "3.7.6"
  }
 },
 "nbformat": 4,
 "nbformat_minor": 2
}
