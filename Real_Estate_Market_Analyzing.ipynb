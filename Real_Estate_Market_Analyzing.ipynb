{
 "cells": [
  {
   "cell_type": "markdown",
   "metadata": {
    "toc": true
   },
   "source": [
    "<h1>Table of Contents<span class=\"tocSkip\"></span></h1>\n",
    "<div class=\"toc\"><ul class=\"toc-item\"><li><span><a href=\"#Data-Cleaning-and-Transformation:\" data-toc-modified-id=\"Data-Cleaning-and-Transformation:-1\"><span class=\"toc-item-num\">1&nbsp;&nbsp;</span>Data Cleaning and Transformation:</a></span><ul class=\"toc-item\"><li><span><a href=\"#Translate-column-names-to-English:\" data-toc-modified-id=\"Translate-column-names-to-English:-1.1\"><span class=\"toc-item-num\">1.1&nbsp;&nbsp;</span>Translate column names to English:</a></span></li><li><span><a href=\"#Create-a-column-specifying-type-of-offer:-For-Sale-or-For-Rent:\" data-toc-modified-id=\"Create-a-column-specifying-type-of-offer:-For-Sale-or-For-Rent:-1.2\"><span class=\"toc-item-num\">1.2&nbsp;&nbsp;</span>Create a column specifying type of offer: For Sale or For Rent:</a></span></li><li><span><a href=\"#Create-a-new-dataframe-before-I-start-to-do-more-changes\" data-toc-modified-id=\"Create-a-new-dataframe-before-I-start-to-do-more-changes-1.3\"><span class=\"toc-item-num\">1.3&nbsp;&nbsp;</span>Create a new dataframe before I start to do more changes</a></span></li><li><span><a href=\"#Remove-unnecessary-columns-with-website-link-and-information-about-loans\" data-toc-modified-id=\"Remove-unnecessary-columns-with-website-link-and-information-about-loans-1.4\"><span class=\"toc-item-num\">1.4&nbsp;&nbsp;</span>Remove unnecessary columns with website link and information about loans</a></span></li><li><span><a href=\"#Create-a-column-with-city-names-using-polish-characters\" data-toc-modified-id=\"Create-a-column-with-city-names-using-polish-characters-1.5\"><span class=\"toc-item-num\">1.5&nbsp;&nbsp;</span>Create a column with city names using polish characters</a></span></li><li><span><a href=\"#Add-districts\" data-toc-modified-id=\"Add-districts-1.6\"><span class=\"toc-item-num\">1.6&nbsp;&nbsp;</span>Add districts</a></span></li><li><span><a href=\"#Is-there-possibility-to-negotiate-a-price?\" data-toc-modified-id=\"Is-there-possibility-to-negotiate-a-price?-1.7\"><span class=\"toc-item-num\">1.7&nbsp;&nbsp;</span>Is there possibility to negotiate a price?</a></span></li><li><span><a href=\"#Create-a-function-which-remove-unnecessary-text-from-chosen-column-and-keep-just-the-first-value\" data-toc-modified-id=\"Create-a-function-which-remove-unnecessary-text-from-chosen-column-and-keep-just-the-first-value-1.8\"><span class=\"toc-item-num\">1.8&nbsp;&nbsp;</span>Create a function which remove unnecessary text from chosen column and keep just the first value</a></span></li><li><span><a href=\"#Remove-empty-spaces-in-the-first-two-columns\" data-toc-modified-id=\"Remove-empty-spaces-in-the-first-two-columns-1.9\"><span class=\"toc-item-num\">1.9&nbsp;&nbsp;</span>Remove empty spaces in the first two columns</a></span></li><li><span><a href=\"#Rename-values-in-a-chosen-columns---from-object-to-integer\" data-toc-modified-id=\"Rename-values-in-a-chosen-columns---from-object-to-integer-1.10\"><span class=\"toc-item-num\">1.10&nbsp;&nbsp;</span>Rename values in a chosen columns - from object to integer</a></span></li></ul></li><li><span><a href=\"#Data-Preparation:\" data-toc-modified-id=\"Data-Preparation:-2\"><span class=\"toc-item-num\">2&nbsp;&nbsp;</span>Data Preparation:</a></span><ul class=\"toc-item\"><li><span><a href=\"#Create-two-separate-tables-(for-rent-/-for-sale):\" data-toc-modified-id=\"Create-two-separate-tables-(for-rent-/-for-sale):-2.1\"><span class=\"toc-item-num\">2.1&nbsp;&nbsp;</span>Create two separate tables (for rent / for sale):</a></span></li><li><span><a href=\"#Remove-unnecessary-columns\" data-toc-modified-id=\"Remove-unnecessary-columns-2.2\"><span class=\"toc-item-num\">2.2&nbsp;&nbsp;</span>Remove unnecessary columns</a></span></li><li><span><a href=\"#Change-data-types---'object'-to-'float'---for-columns-with-numbers.\" data-toc-modified-id=\"Change-data-types---'object'-to-'float'---for-columns-with-numbers.-2.3\"><span class=\"toc-item-num\">2.3&nbsp;&nbsp;</span>Change data types - 'object' to 'float' - for columns with numbers.</a></span></li><li><span><a href=\"#Create-final-price-for-rent-properties\" data-toc-modified-id=\"Create-final-price-for-rent-properties-2.4\"><span class=\"toc-item-num\">2.4&nbsp;&nbsp;</span>Create final price for rent properties</a></span></li><li><span><a href=\"#Choosing-types-of-building-we-use-in-the-analysis\" data-toc-modified-id=\"Choosing-types-of-building-we-use-in-the-analysis-2.5\"><span class=\"toc-item-num\">2.5&nbsp;&nbsp;</span>Choosing types of building we use in the analysis</a></span></li><li><span><a href=\"#Price-checking:\" data-toc-modified-id=\"Price-checking:-2.6\"><span class=\"toc-item-num\">2.6&nbsp;&nbsp;</span>Price checking:</a></span></li></ul></li><li><span><a href=\"#Analysis\" data-toc-modified-id=\"Analysis-3\"><span class=\"toc-item-num\">3&nbsp;&nbsp;</span>Analysis</a></span><ul class=\"toc-item\"><li><span><a href=\"#Map-with-our-cities-(folium-library)\" data-toc-modified-id=\"Map-with-our-cities-(folium-library)-3.1\"><span class=\"toc-item-num\">3.1&nbsp;&nbsp;</span>Map with our cities (folium library)</a></span></li><li><span><a href=\"#Distance-between-cities\" data-toc-modified-id=\"Distance-between-cities-3.2\"><span class=\"toc-item-num\">3.2&nbsp;&nbsp;</span>Distance between cities</a></span></li><li><span><a href=\"#Profitability-calculation\" data-toc-modified-id=\"Profitability-calculation-3.3\"><span class=\"toc-item-num\">3.3&nbsp;&nbsp;</span>Profitability calculation</a></span></li><li><span><a href=\"#Summary:\" data-toc-modified-id=\"Summary:-3.4\"><span class=\"toc-item-num\">3.4&nbsp;&nbsp;</span>Summary:</a></span></li></ul></li></ul></div>"
   ]
  },
  {
   "cell_type": "code",
   "execution_count": 1,
   "metadata": {},
   "outputs": [],
   "source": [
    "import pandas as pd\n",
    "import numpy as np\n",
    "from matplotlib import pyplot as plt"
   ]
  },
  {
   "cell_type": "code",
   "execution_count": 2,
   "metadata": {},
   "outputs": [],
   "source": [
    "url = 'https://raw.githubusercontent.com/mborycki/Silesian_Real_Estate_Market/master'\n",
    "olx_link = f'{url}/OLX_Offers.csv'\n",
    "location_list = f'{url}/locations.txt'"
   ]
  },
  {
   "cell_type": "code",
   "execution_count": 3,
   "metadata": {},
   "outputs": [],
   "source": [
    "olx_df = pd.read_csv(olx_link)"
   ]
  },
  {
   "cell_type": "code",
   "execution_count": 4,
   "metadata": {},
   "outputs": [
    {
     "data": {
      "text/plain": [
       "Index(['Cena', 'Cena za m²', 'Czynsz (dodatkowo)', 'Finanse', 'Liczba pokoi',\n",
       "       'Miejsce', 'Oferta od', 'Powierzchnia', 'Poziom', 'Rodzaj zabudowy',\n",
       "       'Rynek', 'Umeblowane', 'Miasto'],\n",
       "      dtype='object')"
      ]
     },
     "execution_count": 4,
     "metadata": {},
     "output_type": "execute_result"
    }
   ],
   "source": [
    "olx_df.columns"
   ]
  },
  {
   "cell_type": "code",
   "execution_count": 5,
   "metadata": {},
   "outputs": [
    {
     "data": {
      "text/plain": [
       "(2121, 13)"
      ]
     },
     "execution_count": 5,
     "metadata": {},
     "output_type": "execute_result"
    }
   ],
   "source": [
    "olx_df.shape"
   ]
  },
  {
   "cell_type": "code",
   "execution_count": 6,
   "metadata": {
    "scrolled": true
   },
   "outputs": [
    {
     "data": {
      "text/html": [
       "<div>\n",
       "<style scoped>\n",
       "    .dataframe tbody tr th:only-of-type {\n",
       "        vertical-align: middle;\n",
       "    }\n",
       "\n",
       "    .dataframe tbody tr th {\n",
       "        vertical-align: top;\n",
       "    }\n",
       "\n",
       "    .dataframe thead th {\n",
       "        text-align: right;\n",
       "    }\n",
       "</style>\n",
       "<table border=\"1\" class=\"dataframe\">\n",
       "  <thead>\n",
       "    <tr style=\"text-align: right;\">\n",
       "      <th></th>\n",
       "      <th>Cena</th>\n",
       "      <th>Cena za m²</th>\n",
       "      <th>Czynsz (dodatkowo)</th>\n",
       "      <th>Finanse</th>\n",
       "      <th>Liczba pokoi</th>\n",
       "      <th>Miejsce</th>\n",
       "      <th>Oferta od</th>\n",
       "      <th>Powierzchnia</th>\n",
       "      <th>Poziom</th>\n",
       "      <th>Rodzaj zabudowy</th>\n",
       "      <th>Rynek</th>\n",
       "      <th>Umeblowane</th>\n",
       "      <th>Miasto</th>\n",
       "    </tr>\n",
       "  </thead>\n",
       "  <tbody>\n",
       "    <tr>\n",
       "      <th>0</th>\n",
       "      <td>2 000 zł</td>\n",
       "      <td>NaN</td>\n",
       "      <td>1 zł</td>\n",
       "      <td>NaN</td>\n",
       "      <td>3 pokoje</td>\n",
       "      <td>Rybnik, Śląskie</td>\n",
       "      <td>Osoby prywatnej</td>\n",
       "      <td>69 m²</td>\n",
       "      <td>1</td>\n",
       "      <td>Apartamentowiec</td>\n",
       "      <td>NaN</td>\n",
       "      <td>Nie</td>\n",
       "      <td>rybnik</td>\n",
       "    </tr>\n",
       "    <tr>\n",
       "      <th>1</th>\n",
       "      <td>280 000 złDo negocjacji</td>\n",
       "      <td>3684.21 zł/m²</td>\n",
       "      <td>NaN</td>\n",
       "      <td>Otwórz konto w promocji &gt;&gt;</td>\n",
       "      <td>4 i więcej</td>\n",
       "      <td>Rybnik, Śląskie</td>\n",
       "      <td>Biuro / Deweloper</td>\n",
       "      <td>76 m²</td>\n",
       "      <td>1</td>\n",
       "      <td>Blok</td>\n",
       "      <td>Wtórny</td>\n",
       "      <td>Nie</td>\n",
       "      <td>rybnik</td>\n",
       "    </tr>\n",
       "    <tr>\n",
       "      <th>2</th>\n",
       "      <td>1 800 złDo negocjacji</td>\n",
       "      <td>NaN</td>\n",
       "      <td>100 zł</td>\n",
       "      <td>NaN</td>\n",
       "      <td>3 pokoje</td>\n",
       "      <td>Rybnik, Śląskie</td>\n",
       "      <td>Biuro / Deweloper</td>\n",
       "      <td>100 m²</td>\n",
       "      <td>Parter</td>\n",
       "      <td>Dom wolnostojący</td>\n",
       "      <td>NaN</td>\n",
       "      <td>Tak</td>\n",
       "      <td>rybnik</td>\n",
       "    </tr>\n",
       "    <tr>\n",
       "      <th>3</th>\n",
       "      <td>1 300 złDo negocjacji</td>\n",
       "      <td>NaN</td>\n",
       "      <td>600 zł</td>\n",
       "      <td>NaN</td>\n",
       "      <td>2 pokoje</td>\n",
       "      <td>Rybnik, Śląskie</td>\n",
       "      <td>Osoby prywatnej</td>\n",
       "      <td>50 m²</td>\n",
       "      <td>1</td>\n",
       "      <td>Blok</td>\n",
       "      <td>NaN</td>\n",
       "      <td>Tak</td>\n",
       "      <td>rybnik</td>\n",
       "    </tr>\n",
       "    <tr>\n",
       "      <th>4</th>\n",
       "      <td>2 200 zł</td>\n",
       "      <td>NaN</td>\n",
       "      <td>1 zł</td>\n",
       "      <td>NaN</td>\n",
       "      <td>2 pokoje</td>\n",
       "      <td>Rybnik, Śląskie</td>\n",
       "      <td>Osoby prywatnej</td>\n",
       "      <td>66 m²</td>\n",
       "      <td>4</td>\n",
       "      <td>Blok</td>\n",
       "      <td>NaN</td>\n",
       "      <td>Tak</td>\n",
       "      <td>rybnik</td>\n",
       "    </tr>\n",
       "  </tbody>\n",
       "</table>\n",
       "</div>"
      ],
      "text/plain": [
       "                      Cena     Cena za m² Czynsz (dodatkowo)  \\\n",
       "0                 2 000 zł            NaN               1 zł   \n",
       "1  280 000 złDo negocjacji  3684.21 zł/m²                NaN   \n",
       "2    1 800 złDo negocjacji            NaN             100 zł   \n",
       "3    1 300 złDo negocjacji            NaN             600 zł   \n",
       "4                 2 200 zł            NaN               1 zł   \n",
       "\n",
       "                      Finanse Liczba pokoi          Miejsce  \\\n",
       "0                         NaN     3 pokoje  Rybnik, Śląskie   \n",
       "1  Otwórz konto w promocji >>   4 i więcej  Rybnik, Śląskie   \n",
       "2                         NaN     3 pokoje  Rybnik, Śląskie   \n",
       "3                         NaN     2 pokoje  Rybnik, Śląskie   \n",
       "4                         NaN     2 pokoje  Rybnik, Śląskie   \n",
       "\n",
       "           Oferta od Powierzchnia  Poziom   Rodzaj zabudowy   Rynek  \\\n",
       "0    Osoby prywatnej        69 m²       1   Apartamentowiec     NaN   \n",
       "1  Biuro / Deweloper        76 m²       1              Blok  Wtórny   \n",
       "2  Biuro / Deweloper       100 m²  Parter  Dom wolnostojący     NaN   \n",
       "3    Osoby prywatnej        50 m²       1              Blok     NaN   \n",
       "4    Osoby prywatnej        66 m²       4              Blok     NaN   \n",
       "\n",
       "  Umeblowane  Miasto  \n",
       "0        Nie  rybnik  \n",
       "1        Nie  rybnik  \n",
       "2        Tak  rybnik  \n",
       "3        Tak  rybnik  \n",
       "4        Tak  rybnik  "
      ]
     },
     "execution_count": 6,
     "metadata": {},
     "output_type": "execute_result"
    }
   ],
   "source": [
    "olx_df.head()"
   ]
  },
  {
   "cell_type": "markdown",
   "metadata": {},
   "source": [
    "## Data Cleaning and Transformation:"
   ]
  },
  {
   "cell_type": "markdown",
   "metadata": {},
   "source": [
    "### Translate column names to English:"
   ]
  },
  {
   "cell_type": "code",
   "execution_count": 7,
   "metadata": {},
   "outputs": [],
   "source": [
    "olx_df.rename(columns={\n",
    "    'Cena': 'Price',\n",
    "    'Cena za m²': 'PriceSqM',\n",
    "    'Czynsz (dodatkowo)': 'MonthlyRent',\n",
    "    'Finanse': 'Finances',\n",
    "    'Liczba pokoi': 'Bedrooms',\n",
    "    'Miejsce': 'Place',\n",
    "    'Oferta od': 'Advert_Owner',\n",
    "    'Powierzchnia': 'SqM',\n",
    "    'Poziom': 'Floor',\n",
    "    'Rodzaj zabudowy': 'BuildingType',\n",
    "    'Rynek': 'Market',\n",
    "    'Umeblowane': 'Furnishings',\n",
    "    'Miasto': 'City'\n",
    "},\n",
    "              inplace=True)"
   ]
  },
  {
   "cell_type": "code",
   "execution_count": 8,
   "metadata": {},
   "outputs": [
    {
     "data": {
      "text/html": [
       "<div>\n",
       "<style scoped>\n",
       "    .dataframe tbody tr th:only-of-type {\n",
       "        vertical-align: middle;\n",
       "    }\n",
       "\n",
       "    .dataframe tbody tr th {\n",
       "        vertical-align: top;\n",
       "    }\n",
       "\n",
       "    .dataframe thead th {\n",
       "        text-align: right;\n",
       "    }\n",
       "</style>\n",
       "<table border=\"1\" class=\"dataframe\">\n",
       "  <thead>\n",
       "    <tr style=\"text-align: right;\">\n",
       "      <th></th>\n",
       "      <th>Price</th>\n",
       "      <th>PriceSqM</th>\n",
       "      <th>MonthlyRent</th>\n",
       "      <th>Finances</th>\n",
       "      <th>Bedrooms</th>\n",
       "      <th>Place</th>\n",
       "      <th>Advert_Owner</th>\n",
       "      <th>SqM</th>\n",
       "      <th>Floor</th>\n",
       "      <th>BuildingType</th>\n",
       "      <th>Market</th>\n",
       "      <th>Furnishings</th>\n",
       "      <th>City</th>\n",
       "    </tr>\n",
       "  </thead>\n",
       "  <tbody>\n",
       "    <tr>\n",
       "      <th>0</th>\n",
       "      <td>2 000 zł</td>\n",
       "      <td>NaN</td>\n",
       "      <td>1 zł</td>\n",
       "      <td>NaN</td>\n",
       "      <td>3 pokoje</td>\n",
       "      <td>Rybnik, Śląskie</td>\n",
       "      <td>Osoby prywatnej</td>\n",
       "      <td>69 m²</td>\n",
       "      <td>1</td>\n",
       "      <td>Apartamentowiec</td>\n",
       "      <td>NaN</td>\n",
       "      <td>Nie</td>\n",
       "      <td>rybnik</td>\n",
       "    </tr>\n",
       "    <tr>\n",
       "      <th>1</th>\n",
       "      <td>280 000 złDo negocjacji</td>\n",
       "      <td>3684.21 zł/m²</td>\n",
       "      <td>NaN</td>\n",
       "      <td>Otwórz konto w promocji &gt;&gt;</td>\n",
       "      <td>4 i więcej</td>\n",
       "      <td>Rybnik, Śląskie</td>\n",
       "      <td>Biuro / Deweloper</td>\n",
       "      <td>76 m²</td>\n",
       "      <td>1</td>\n",
       "      <td>Blok</td>\n",
       "      <td>Wtórny</td>\n",
       "      <td>Nie</td>\n",
       "      <td>rybnik</td>\n",
       "    </tr>\n",
       "  </tbody>\n",
       "</table>\n",
       "</div>"
      ],
      "text/plain": [
       "                     Price       PriceSqM MonthlyRent  \\\n",
       "0                 2 000 zł            NaN        1 zł   \n",
       "1  280 000 złDo negocjacji  3684.21 zł/m²         NaN   \n",
       "\n",
       "                     Finances    Bedrooms            Place       Advert_Owner  \\\n",
       "0                         NaN    3 pokoje  Rybnik, Śląskie    Osoby prywatnej   \n",
       "1  Otwórz konto w promocji >>  4 i więcej  Rybnik, Śląskie  Biuro / Deweloper   \n",
       "\n",
       "     SqM Floor     BuildingType  Market Furnishings    City  \n",
       "0  69 m²     1  Apartamentowiec     NaN         Nie  rybnik  \n",
       "1  76 m²     1             Blok  Wtórny         Nie  rybnik  "
      ]
     },
     "execution_count": 8,
     "metadata": {},
     "output_type": "execute_result"
    }
   ],
   "source": [
    "olx_df.head(2)"
   ]
  },
  {
   "cell_type": "code",
   "execution_count": 9,
   "metadata": {},
   "outputs": [
    {
     "data": {
      "text/plain": [
       "array(['Developer', 'Private'], dtype=object)"
      ]
     },
     "execution_count": 9,
     "metadata": {},
     "output_type": "execute_result"
    }
   ],
   "source": [
    "olx_df.Advert_Owner.replace(['Osoby prywatnej', 'Biuro / Deweloper'],\n",
    "                            ['Developer', 'Private'],\n",
    "                            inplace=True)\n",
    "olx_df.Advert_Owner.unique()"
   ]
  },
  {
   "cell_type": "code",
   "execution_count": 10,
   "metadata": {},
   "outputs": [
    {
     "data": {
      "text/plain": [
       "array(['Apartment', 'Flat', 'House', 'Tenement', 'Other', 'Loft',\n",
       "       'Townhouse'], dtype=object)"
      ]
     },
     "execution_count": 10,
     "metadata": {},
     "output_type": "execute_result"
    }
   ],
   "source": [
    "olx_df.BuildingType.replace([\n",
    "    'Apartamentowiec', 'Blok', 'Dom wolnostojący', 'Kamienica', 'Pozostałe',\n",
    "    'Loft', 'Szeregowiec'\n",
    "], ['Apartment', 'Flat', 'House', 'Tenement', 'Other', 'Loft', 'Townhouse'],\n",
    "                            inplace=True)\n",
    "olx_df.BuildingType.unique()"
   ]
  },
  {
   "cell_type": "code",
   "execution_count": 11,
   "metadata": {},
   "outputs": [
    {
     "data": {
      "text/plain": [
       "array([nan, 'After', 'Primary'], dtype=object)"
      ]
     },
     "execution_count": 11,
     "metadata": {},
     "output_type": "execute_result"
    }
   ],
   "source": [
    "olx_df.Market.replace(['Wtórny', 'Pierwotny'], ['After', 'Primary'],\n",
    "                      inplace=True)\n",
    "olx_df.Market.unique()"
   ]
  },
  {
   "cell_type": "code",
   "execution_count": 12,
   "metadata": {},
   "outputs": [
    {
     "data": {
      "text/html": [
       "<div>\n",
       "<style scoped>\n",
       "    .dataframe tbody tr th:only-of-type {\n",
       "        vertical-align: middle;\n",
       "    }\n",
       "\n",
       "    .dataframe tbody tr th {\n",
       "        vertical-align: top;\n",
       "    }\n",
       "\n",
       "    .dataframe thead th {\n",
       "        text-align: right;\n",
       "    }\n",
       "</style>\n",
       "<table border=\"1\" class=\"dataframe\">\n",
       "  <thead>\n",
       "    <tr style=\"text-align: right;\">\n",
       "      <th></th>\n",
       "      <th>Price</th>\n",
       "      <th>PriceSqM</th>\n",
       "      <th>MonthlyRent</th>\n",
       "      <th>Finances</th>\n",
       "      <th>Bedrooms</th>\n",
       "      <th>Place</th>\n",
       "      <th>Advert_Owner</th>\n",
       "      <th>SqM</th>\n",
       "      <th>Floor</th>\n",
       "      <th>BuildingType</th>\n",
       "      <th>Market</th>\n",
       "      <th>Furnishings</th>\n",
       "      <th>City</th>\n",
       "    </tr>\n",
       "  </thead>\n",
       "  <tbody>\n",
       "    <tr>\n",
       "      <th>0</th>\n",
       "      <td>2 000 zł</td>\n",
       "      <td>NaN</td>\n",
       "      <td>1 zł</td>\n",
       "      <td>NaN</td>\n",
       "      <td>3 pokoje</td>\n",
       "      <td>Rybnik, Śląskie</td>\n",
       "      <td>Developer</td>\n",
       "      <td>69 m²</td>\n",
       "      <td>1</td>\n",
       "      <td>Apartment</td>\n",
       "      <td>NaN</td>\n",
       "      <td>Nie</td>\n",
       "      <td>rybnik</td>\n",
       "    </tr>\n",
       "    <tr>\n",
       "      <th>1</th>\n",
       "      <td>280 000 złDo negocjacji</td>\n",
       "      <td>3684.21 zł/m²</td>\n",
       "      <td>NaN</td>\n",
       "      <td>Otwórz konto w promocji &gt;&gt;</td>\n",
       "      <td>4 i więcej</td>\n",
       "      <td>Rybnik, Śląskie</td>\n",
       "      <td>Private</td>\n",
       "      <td>76 m²</td>\n",
       "      <td>1</td>\n",
       "      <td>Flat</td>\n",
       "      <td>After</td>\n",
       "      <td>Nie</td>\n",
       "      <td>rybnik</td>\n",
       "    </tr>\n",
       "  </tbody>\n",
       "</table>\n",
       "</div>"
      ],
      "text/plain": [
       "                     Price       PriceSqM MonthlyRent  \\\n",
       "0                 2 000 zł            NaN        1 zł   \n",
       "1  280 000 złDo negocjacji  3684.21 zł/m²         NaN   \n",
       "\n",
       "                     Finances    Bedrooms            Place Advert_Owner  \\\n",
       "0                         NaN    3 pokoje  Rybnik, Śląskie    Developer   \n",
       "1  Otwórz konto w promocji >>  4 i więcej  Rybnik, Śląskie      Private   \n",
       "\n",
       "     SqM Floor BuildingType Market Furnishings    City  \n",
       "0  69 m²     1    Apartment    NaN         Nie  rybnik  \n",
       "1  76 m²     1         Flat  After         Nie  rybnik  "
      ]
     },
     "execution_count": 12,
     "metadata": {},
     "output_type": "execute_result"
    }
   ],
   "source": [
    "olx_df.head(2)"
   ]
  },
  {
   "cell_type": "markdown",
   "metadata": {},
   "source": [
    "### Create a column specifying type of offer: For Sale or For Rent:"
   ]
  },
  {
   "cell_type": "code",
   "execution_count": 13,
   "metadata": {},
   "outputs": [],
   "source": [
    "olx_df['OfferType'] = np.where(olx_df['MonthlyRent'].isnull(), 'For_Sale',\n",
    "                               'For_Rent')"
   ]
  },
  {
   "cell_type": "markdown",
   "metadata": {},
   "source": [
    "### Create a new dataframe before I start to do more changes"
   ]
  },
  {
   "cell_type": "code",
   "execution_count": 14,
   "metadata": {},
   "outputs": [],
   "source": [
    "olx_table = olx_df.copy()"
   ]
  },
  {
   "cell_type": "markdown",
   "metadata": {},
   "source": [
    "### Remove unnecessary columns with website link and information about loans "
   ]
  },
  {
   "cell_type": "code",
   "execution_count": 15,
   "metadata": {},
   "outputs": [],
   "source": [
    "olx_table.drop(columns={'Finances'}, axis=1, inplace=True)"
   ]
  },
  {
   "cell_type": "code",
   "execution_count": 16,
   "metadata": {
    "scrolled": true
   },
   "outputs": [
    {
     "data": {
      "text/html": [
       "<div>\n",
       "<style scoped>\n",
       "    .dataframe tbody tr th:only-of-type {\n",
       "        vertical-align: middle;\n",
       "    }\n",
       "\n",
       "    .dataframe tbody tr th {\n",
       "        vertical-align: top;\n",
       "    }\n",
       "\n",
       "    .dataframe thead th {\n",
       "        text-align: right;\n",
       "    }\n",
       "</style>\n",
       "<table border=\"1\" class=\"dataframe\">\n",
       "  <thead>\n",
       "    <tr style=\"text-align: right;\">\n",
       "      <th></th>\n",
       "      <th>Price</th>\n",
       "      <th>PriceSqM</th>\n",
       "      <th>MonthlyRent</th>\n",
       "      <th>Bedrooms</th>\n",
       "      <th>Place</th>\n",
       "      <th>Advert_Owner</th>\n",
       "      <th>SqM</th>\n",
       "      <th>Floor</th>\n",
       "      <th>BuildingType</th>\n",
       "      <th>Market</th>\n",
       "      <th>Furnishings</th>\n",
       "      <th>City</th>\n",
       "      <th>OfferType</th>\n",
       "    </tr>\n",
       "  </thead>\n",
       "  <tbody>\n",
       "    <tr>\n",
       "      <th>0</th>\n",
       "      <td>2 000 zł</td>\n",
       "      <td>NaN</td>\n",
       "      <td>1 zł</td>\n",
       "      <td>3 pokoje</td>\n",
       "      <td>Rybnik, Śląskie</td>\n",
       "      <td>Developer</td>\n",
       "      <td>69 m²</td>\n",
       "      <td>1</td>\n",
       "      <td>Apartment</td>\n",
       "      <td>NaN</td>\n",
       "      <td>Nie</td>\n",
       "      <td>rybnik</td>\n",
       "      <td>For_Rent</td>\n",
       "    </tr>\n",
       "    <tr>\n",
       "      <th>1</th>\n",
       "      <td>280 000 złDo negocjacji</td>\n",
       "      <td>3684.21 zł/m²</td>\n",
       "      <td>NaN</td>\n",
       "      <td>4 i więcej</td>\n",
       "      <td>Rybnik, Śląskie</td>\n",
       "      <td>Private</td>\n",
       "      <td>76 m²</td>\n",
       "      <td>1</td>\n",
       "      <td>Flat</td>\n",
       "      <td>After</td>\n",
       "      <td>Nie</td>\n",
       "      <td>rybnik</td>\n",
       "      <td>For_Sale</td>\n",
       "    </tr>\n",
       "  </tbody>\n",
       "</table>\n",
       "</div>"
      ],
      "text/plain": [
       "                     Price       PriceSqM MonthlyRent    Bedrooms  \\\n",
       "0                 2 000 zł            NaN        1 zł    3 pokoje   \n",
       "1  280 000 złDo negocjacji  3684.21 zł/m²         NaN  4 i więcej   \n",
       "\n",
       "             Place Advert_Owner    SqM Floor BuildingType Market Furnishings  \\\n",
       "0  Rybnik, Śląskie    Developer  69 m²     1    Apartment    NaN         Nie   \n",
       "1  Rybnik, Śląskie      Private  76 m²     1         Flat  After         Nie   \n",
       "\n",
       "     City OfferType  \n",
       "0  rybnik  For_Rent  \n",
       "1  rybnik  For_Sale  "
      ]
     },
     "execution_count": 16,
     "metadata": {},
     "output_type": "execute_result"
    }
   ],
   "source": [
    "olx_table.head(2)"
   ]
  },
  {
   "cell_type": "markdown",
   "metadata": {},
   "source": [
    "### Create a column with city names using polish characters "
   ]
  },
  {
   "cell_type": "code",
   "execution_count": 17,
   "metadata": {},
   "outputs": [],
   "source": [
    "olx_table['City2'] = olx_table['Place'].str.split(',').str[0]"
   ]
  },
  {
   "cell_type": "code",
   "execution_count": 18,
   "metadata": {},
   "outputs": [
    {
     "data": {
      "text/html": [
       "<div>\n",
       "<style scoped>\n",
       "    .dataframe tbody tr th:only-of-type {\n",
       "        vertical-align: middle;\n",
       "    }\n",
       "\n",
       "    .dataframe tbody tr th {\n",
       "        vertical-align: top;\n",
       "    }\n",
       "\n",
       "    .dataframe thead th {\n",
       "        text-align: right;\n",
       "    }\n",
       "</style>\n",
       "<table border=\"1\" class=\"dataframe\">\n",
       "  <thead>\n",
       "    <tr style=\"text-align: right;\">\n",
       "      <th></th>\n",
       "      <th>Price</th>\n",
       "      <th>PriceSqM</th>\n",
       "      <th>MonthlyRent</th>\n",
       "      <th>Bedrooms</th>\n",
       "      <th>Place</th>\n",
       "      <th>Advert_Owner</th>\n",
       "      <th>SqM</th>\n",
       "      <th>Floor</th>\n",
       "      <th>BuildingType</th>\n",
       "      <th>Market</th>\n",
       "      <th>Furnishings</th>\n",
       "      <th>City</th>\n",
       "      <th>OfferType</th>\n",
       "      <th>City2</th>\n",
       "    </tr>\n",
       "  </thead>\n",
       "  <tbody>\n",
       "    <tr>\n",
       "      <th>0</th>\n",
       "      <td>2 000 zł</td>\n",
       "      <td>NaN</td>\n",
       "      <td>1 zł</td>\n",
       "      <td>3 pokoje</td>\n",
       "      <td>Rybnik, Śląskie</td>\n",
       "      <td>Developer</td>\n",
       "      <td>69 m²</td>\n",
       "      <td>1</td>\n",
       "      <td>Apartment</td>\n",
       "      <td>NaN</td>\n",
       "      <td>Nie</td>\n",
       "      <td>rybnik</td>\n",
       "      <td>For_Rent</td>\n",
       "      <td>Rybnik</td>\n",
       "    </tr>\n",
       "    <tr>\n",
       "      <th>1</th>\n",
       "      <td>280 000 złDo negocjacji</td>\n",
       "      <td>3684.21 zł/m²</td>\n",
       "      <td>NaN</td>\n",
       "      <td>4 i więcej</td>\n",
       "      <td>Rybnik, Śląskie</td>\n",
       "      <td>Private</td>\n",
       "      <td>76 m²</td>\n",
       "      <td>1</td>\n",
       "      <td>Flat</td>\n",
       "      <td>After</td>\n",
       "      <td>Nie</td>\n",
       "      <td>rybnik</td>\n",
       "      <td>For_Sale</td>\n",
       "      <td>Rybnik</td>\n",
       "    </tr>\n",
       "  </tbody>\n",
       "</table>\n",
       "</div>"
      ],
      "text/plain": [
       "                     Price       PriceSqM MonthlyRent    Bedrooms  \\\n",
       "0                 2 000 zł            NaN        1 zł    3 pokoje   \n",
       "1  280 000 złDo negocjacji  3684.21 zł/m²         NaN  4 i więcej   \n",
       "\n",
       "             Place Advert_Owner    SqM Floor BuildingType Market Furnishings  \\\n",
       "0  Rybnik, Śląskie    Developer  69 m²     1    Apartment    NaN         Nie   \n",
       "1  Rybnik, Śląskie      Private  76 m²     1         Flat  After         Nie   \n",
       "\n",
       "     City OfferType   City2  \n",
       "0  rybnik  For_Rent  Rybnik  \n",
       "1  rybnik  For_Sale  Rybnik  "
      ]
     },
     "execution_count": 18,
     "metadata": {},
     "output_type": "execute_result"
    }
   ],
   "source": [
    "olx_table.head(2)"
   ]
  },
  {
   "cell_type": "code",
   "execution_count": 19,
   "metadata": {},
   "outputs": [
    {
     "data": {
      "text/plain": [
       "array(['Rybnik', 'Chorzów', 'Tychy', 'no data', 'Mysłowice', 'Mikołów',\n",
       "       'Tarnowskie Góry', 'Gliwice', 'Zabrze', 'Ruda Śląska', 'Knurów',\n",
       "       'Świętochłowice', 'Bytom', 'Żory', 'Wodzisław Śląski', 'Katowice'],\n",
       "      dtype=object)"
      ]
     },
     "execution_count": 19,
     "metadata": {},
     "output_type": "execute_result"
    }
   ],
   "source": [
    "olx_table.City2.unique()"
   ]
  },
  {
   "cell_type": "code",
   "execution_count": 20,
   "metadata": {},
   "outputs": [],
   "source": [
    "# We have some 'no data' records so in that cases let's use city names used in during scraping process (with capitalize func)\n",
    "olx_table['City2'] = np.where(olx_table['City2'] == 'no data',\n",
    "                              olx_table['City'].str.capitalize(),\n",
    "                              olx_table['City2'])"
   ]
  },
  {
   "cell_type": "code",
   "execution_count": 21,
   "metadata": {},
   "outputs": [
    {
     "data": {
      "text/plain": [
       "array(['Rybnik', 'Chorzów', 'Tychy', 'Mysłowice', 'Mikołów',\n",
       "       'Tarnowskie Góry', 'Gliwice', 'Zabrze', 'Ruda Śląska', 'Knurów',\n",
       "       'Świętochłowice', 'Bytom', 'Żory', 'Wodzisław Śląski', 'Katowice'],\n",
       "      dtype=object)"
      ]
     },
     "execution_count": 21,
     "metadata": {},
     "output_type": "execute_result"
    }
   ],
   "source": [
    "olx_table.City2.unique()"
   ]
  },
  {
   "cell_type": "code",
   "execution_count": 22,
   "metadata": {},
   "outputs": [],
   "source": [
    "olx_table.drop(columns={'City'}, inplace=True)"
   ]
  },
  {
   "cell_type": "code",
   "execution_count": 23,
   "metadata": {},
   "outputs": [],
   "source": [
    "olx_table.rename(columns={'City2': 'City'}, inplace=True)"
   ]
  },
  {
   "cell_type": "markdown",
   "metadata": {},
   "source": [
    "### Add districts\n",
    "\n",
    "As it is one of the biggest reason of having different price in the same city  "
   ]
  },
  {
   "cell_type": "code",
   "execution_count": 24,
   "metadata": {},
   "outputs": [],
   "source": [
    "def DistrictA(tbl):\n",
    "    return tbl['Place'].str.split().str[-1]"
   ]
  },
  {
   "cell_type": "code",
   "execution_count": 25,
   "metadata": {},
   "outputs": [],
   "source": [
    "def DistrictB(tbl):\n",
    "    return tbl['Place'].str.split(\n",
    "        ',').str[0] + ', ' + tbl['Place'].str.split().str[-1]"
   ]
  },
  {
   "cell_type": "code",
   "execution_count": 26,
   "metadata": {},
   "outputs": [],
   "source": [
    "olx_table['District'] = DistrictA(olx_table)"
   ]
  },
  {
   "cell_type": "code",
   "execution_count": 27,
   "metadata": {},
   "outputs": [],
   "source": [
    "olx_table['District'] = np.where(olx_table['District'] == 'Śląskie',\n",
    "                                 olx_table.City, olx_table.District)"
   ]
  },
  {
   "cell_type": "code",
   "execution_count": 28,
   "metadata": {},
   "outputs": [],
   "source": [
    "olx_table['District'] = np.where(olx_table['District'] == olx_table.City,\n",
    "                                 olx_table.City, DistrictB(olx_table))\n",
    "olx_table['District'] = np.where(olx_table['District'] == 'no data, data',\n",
    "                                 olx_table['City'], olx_table['District'])"
   ]
  },
  {
   "cell_type": "code",
   "execution_count": 29,
   "metadata": {},
   "outputs": [
    {
     "data": {
      "text/plain": [
       "array(['Bytom', 'Chorzów', 'Gliwice', 'Gliwice, Bojków',\n",
       "       'Gliwice, Kopernika', 'Gliwice, Ostropa', 'Gliwice, Pokoju',\n",
       "       'Gliwice, Politechnika', 'Gliwice, Polskiego', 'Gliwice, Sikornik',\n",
       "       'Gliwice, Sośnica', 'Gliwice, Szobiszowice', 'Gliwice, Trynek',\n",
       "       'Gliwice, Wieś', 'Gliwice, Zabrska', 'Gliwice, Zatorze',\n",
       "       'Gliwice, Łabędy', 'Gliwice, Śródmieście', 'Katowice, Bogucice',\n",
       "       'Katowice, Dąb', 'Katowice, Giszowiec',\n",
       "       'Katowice, Janów-Nikiszowiec', 'Katowice, Kostuchna',\n",
       "       'Katowice, Koszutka', 'Katowice, Ligota-Panewniki',\n",
       "       'Katowice, Mała', 'Katowice, Murcki',\n",
       "       'Katowice, Paderewskiego-Muchowiec',\n",
       "       'Katowice, Piotrowice-Ochojec', 'Katowice, Podlesie',\n",
       "       'Katowice, Szopienice-Burowiec', 'Katowice, Tysiąclecia',\n",
       "       'Katowice, Wełnowiec-Józefowiec', 'Katowice, Witosa',\n",
       "       'Katowice, Zach.', 'Katowice, Zawodzie', 'Katowice, Załęże',\n",
       "       'Katowice, Zgrzebioka', 'Katowice, Śródmieście', 'Knurów',\n",
       "       'Mikołów, Centrum', 'Mikołów, Goj', 'Mikołów, Reta',\n",
       "       'Mikołów, Wieś', 'Mikołów, Świat', 'Mysłowice', 'Ruda Śląska',\n",
       "       'Rybnik', 'Tarnowskie Góry', 'Tychy', 'Wodzisław Śląski', 'Zabrze',\n",
       "       'Świętochłowice', 'Żory'], dtype=object)"
      ]
     },
     "execution_count": 29,
     "metadata": {},
     "output_type": "execute_result"
    }
   ],
   "source": [
    "olx_table.District.sort_values().unique()"
   ]
  },
  {
   "cell_type": "markdown",
   "metadata": {},
   "source": [
    "### Is there possibility to negotiate a price?"
   ]
  },
  {
   "cell_type": "code",
   "execution_count": 30,
   "metadata": {},
   "outputs": [],
   "source": [
    "olx_table['Negotiating'] = np.where(\n",
    "    olx_table.Price.str.contains('Do negocjacji'), 1, 0)"
   ]
  },
  {
   "cell_type": "code",
   "execution_count": 31,
   "metadata": {
    "scrolled": true
   },
   "outputs": [
    {
     "data": {
      "text/html": [
       "<div>\n",
       "<style scoped>\n",
       "    .dataframe tbody tr th:only-of-type {\n",
       "        vertical-align: middle;\n",
       "    }\n",
       "\n",
       "    .dataframe tbody tr th {\n",
       "        vertical-align: top;\n",
       "    }\n",
       "\n",
       "    .dataframe thead th {\n",
       "        text-align: right;\n",
       "    }\n",
       "</style>\n",
       "<table border=\"1\" class=\"dataframe\">\n",
       "  <thead>\n",
       "    <tr style=\"text-align: right;\">\n",
       "      <th></th>\n",
       "      <th>Price</th>\n",
       "      <th>PriceSqM</th>\n",
       "      <th>MonthlyRent</th>\n",
       "      <th>Bedrooms</th>\n",
       "      <th>Place</th>\n",
       "      <th>Advert_Owner</th>\n",
       "      <th>SqM</th>\n",
       "      <th>Floor</th>\n",
       "      <th>BuildingType</th>\n",
       "      <th>Market</th>\n",
       "      <th>Furnishings</th>\n",
       "      <th>OfferType</th>\n",
       "      <th>City</th>\n",
       "      <th>District</th>\n",
       "      <th>Negotiating</th>\n",
       "    </tr>\n",
       "  </thead>\n",
       "  <tbody>\n",
       "    <tr>\n",
       "      <th>0</th>\n",
       "      <td>2 000 zł</td>\n",
       "      <td>NaN</td>\n",
       "      <td>1 zł</td>\n",
       "      <td>3 pokoje</td>\n",
       "      <td>Rybnik, Śląskie</td>\n",
       "      <td>Developer</td>\n",
       "      <td>69 m²</td>\n",
       "      <td>1</td>\n",
       "      <td>Apartment</td>\n",
       "      <td>NaN</td>\n",
       "      <td>Nie</td>\n",
       "      <td>For_Rent</td>\n",
       "      <td>Rybnik</td>\n",
       "      <td>Rybnik</td>\n",
       "      <td>0</td>\n",
       "    </tr>\n",
       "    <tr>\n",
       "      <th>1</th>\n",
       "      <td>280 000 złDo negocjacji</td>\n",
       "      <td>3684.21 zł/m²</td>\n",
       "      <td>NaN</td>\n",
       "      <td>4 i więcej</td>\n",
       "      <td>Rybnik, Śląskie</td>\n",
       "      <td>Private</td>\n",
       "      <td>76 m²</td>\n",
       "      <td>1</td>\n",
       "      <td>Flat</td>\n",
       "      <td>After</td>\n",
       "      <td>Nie</td>\n",
       "      <td>For_Sale</td>\n",
       "      <td>Rybnik</td>\n",
       "      <td>Rybnik</td>\n",
       "      <td>1</td>\n",
       "    </tr>\n",
       "    <tr>\n",
       "      <th>2</th>\n",
       "      <td>1 800 złDo negocjacji</td>\n",
       "      <td>NaN</td>\n",
       "      <td>100 zł</td>\n",
       "      <td>3 pokoje</td>\n",
       "      <td>Rybnik, Śląskie</td>\n",
       "      <td>Private</td>\n",
       "      <td>100 m²</td>\n",
       "      <td>Parter</td>\n",
       "      <td>House</td>\n",
       "      <td>NaN</td>\n",
       "      <td>Tak</td>\n",
       "      <td>For_Rent</td>\n",
       "      <td>Rybnik</td>\n",
       "      <td>Rybnik</td>\n",
       "      <td>1</td>\n",
       "    </tr>\n",
       "    <tr>\n",
       "      <th>3</th>\n",
       "      <td>1 300 złDo negocjacji</td>\n",
       "      <td>NaN</td>\n",
       "      <td>600 zł</td>\n",
       "      <td>2 pokoje</td>\n",
       "      <td>Rybnik, Śląskie</td>\n",
       "      <td>Developer</td>\n",
       "      <td>50 m²</td>\n",
       "      <td>1</td>\n",
       "      <td>Flat</td>\n",
       "      <td>NaN</td>\n",
       "      <td>Tak</td>\n",
       "      <td>For_Rent</td>\n",
       "      <td>Rybnik</td>\n",
       "      <td>Rybnik</td>\n",
       "      <td>1</td>\n",
       "    </tr>\n",
       "    <tr>\n",
       "      <th>4</th>\n",
       "      <td>2 200 zł</td>\n",
       "      <td>NaN</td>\n",
       "      <td>1 zł</td>\n",
       "      <td>2 pokoje</td>\n",
       "      <td>Rybnik, Śląskie</td>\n",
       "      <td>Developer</td>\n",
       "      <td>66 m²</td>\n",
       "      <td>4</td>\n",
       "      <td>Flat</td>\n",
       "      <td>NaN</td>\n",
       "      <td>Tak</td>\n",
       "      <td>For_Rent</td>\n",
       "      <td>Rybnik</td>\n",
       "      <td>Rybnik</td>\n",
       "      <td>0</td>\n",
       "    </tr>\n",
       "  </tbody>\n",
       "</table>\n",
       "</div>"
      ],
      "text/plain": [
       "                     Price       PriceSqM MonthlyRent    Bedrooms  \\\n",
       "0                 2 000 zł            NaN        1 zł    3 pokoje   \n",
       "1  280 000 złDo negocjacji  3684.21 zł/m²         NaN  4 i więcej   \n",
       "2    1 800 złDo negocjacji            NaN      100 zł    3 pokoje   \n",
       "3    1 300 złDo negocjacji            NaN      600 zł    2 pokoje   \n",
       "4                 2 200 zł            NaN        1 zł    2 pokoje   \n",
       "\n",
       "             Place Advert_Owner     SqM   Floor BuildingType Market  \\\n",
       "0  Rybnik, Śląskie    Developer   69 m²       1    Apartment    NaN   \n",
       "1  Rybnik, Śląskie      Private   76 m²       1         Flat  After   \n",
       "2  Rybnik, Śląskie      Private  100 m²  Parter        House    NaN   \n",
       "3  Rybnik, Śląskie    Developer   50 m²       1         Flat    NaN   \n",
       "4  Rybnik, Śląskie    Developer   66 m²       4         Flat    NaN   \n",
       "\n",
       "  Furnishings OfferType    City District  Negotiating  \n",
       "0         Nie  For_Rent  Rybnik   Rybnik            0  \n",
       "1         Nie  For_Sale  Rybnik   Rybnik            1  \n",
       "2         Tak  For_Rent  Rybnik   Rybnik            1  \n",
       "3         Tak  For_Rent  Rybnik   Rybnik            1  \n",
       "4         Tak  For_Rent  Rybnik   Rybnik            0  "
      ]
     },
     "execution_count": 31,
     "metadata": {},
     "output_type": "execute_result"
    }
   ],
   "source": [
    "olx_table.head()"
   ]
  },
  {
   "cell_type": "markdown",
   "metadata": {},
   "source": [
    "### Create a function which remove unnecessary text from chosen column and keep just the first value\n",
    "\n",
    "But first we need to remove null values from chosen columns"
   ]
  },
  {
   "cell_type": "code",
   "execution_count": 32,
   "metadata": {},
   "outputs": [
    {
     "data": {
      "text/plain": [
       "Price              0\n",
       "PriceSqM        1380\n",
       "MonthlyRent      831\n",
       "Bedrooms           0\n",
       "Place              0\n",
       "Advert_Owner       0\n",
       "SqM                0\n",
       "Floor             51\n",
       "BuildingType       0\n",
       "Market          1380\n",
       "Furnishings        0\n",
       "OfferType          0\n",
       "City               0\n",
       "District           0\n",
       "Negotiating        0\n",
       "dtype: int64"
      ]
     },
     "execution_count": 32,
     "metadata": {},
     "output_type": "execute_result"
    }
   ],
   "source": [
    "olx_table.isnull().sum()"
   ]
  },
  {
   "cell_type": "code",
   "execution_count": 33,
   "metadata": {},
   "outputs": [],
   "source": [
    "olx_table['PriceSqM'] = olx_table['PriceSqM'].replace(np.nan, '0  zł/m²')"
   ]
  },
  {
   "cell_type": "code",
   "execution_count": 34,
   "metadata": {},
   "outputs": [],
   "source": [
    "olx_table['MonthlyRent'] = olx_table['MonthlyRent'].replace(np.nan, '0  zł')"
   ]
  },
  {
   "cell_type": "code",
   "execution_count": 35,
   "metadata": {},
   "outputs": [
    {
     "data": {
      "text/html": [
       "<div>\n",
       "<style scoped>\n",
       "    .dataframe tbody tr th:only-of-type {\n",
       "        vertical-align: middle;\n",
       "    }\n",
       "\n",
       "    .dataframe tbody tr th {\n",
       "        vertical-align: top;\n",
       "    }\n",
       "\n",
       "    .dataframe thead th {\n",
       "        text-align: right;\n",
       "    }\n",
       "</style>\n",
       "<table border=\"1\" class=\"dataframe\">\n",
       "  <thead>\n",
       "    <tr style=\"text-align: right;\">\n",
       "      <th></th>\n",
       "      <th>Price</th>\n",
       "      <th>PriceSqM</th>\n",
       "      <th>MonthlyRent</th>\n",
       "      <th>Bedrooms</th>\n",
       "      <th>Place</th>\n",
       "      <th>Advert_Owner</th>\n",
       "      <th>SqM</th>\n",
       "      <th>Floor</th>\n",
       "      <th>BuildingType</th>\n",
       "      <th>Market</th>\n",
       "      <th>Furnishings</th>\n",
       "      <th>OfferType</th>\n",
       "      <th>City</th>\n",
       "      <th>District</th>\n",
       "      <th>Negotiating</th>\n",
       "    </tr>\n",
       "  </thead>\n",
       "  <tbody>\n",
       "    <tr>\n",
       "      <th>0</th>\n",
       "      <td>2 000 zł</td>\n",
       "      <td>0  zł/m²</td>\n",
       "      <td>1 zł</td>\n",
       "      <td>3 pokoje</td>\n",
       "      <td>Rybnik, Śląskie</td>\n",
       "      <td>Developer</td>\n",
       "      <td>69 m²</td>\n",
       "      <td>1</td>\n",
       "      <td>Apartment</td>\n",
       "      <td>NaN</td>\n",
       "      <td>Nie</td>\n",
       "      <td>For_Rent</td>\n",
       "      <td>Rybnik</td>\n",
       "      <td>Rybnik</td>\n",
       "      <td>0</td>\n",
       "    </tr>\n",
       "    <tr>\n",
       "      <th>1</th>\n",
       "      <td>280 000 złDo negocjacji</td>\n",
       "      <td>3684.21 zł/m²</td>\n",
       "      <td>0  zł</td>\n",
       "      <td>4 i więcej</td>\n",
       "      <td>Rybnik, Śląskie</td>\n",
       "      <td>Private</td>\n",
       "      <td>76 m²</td>\n",
       "      <td>1</td>\n",
       "      <td>Flat</td>\n",
       "      <td>After</td>\n",
       "      <td>Nie</td>\n",
       "      <td>For_Sale</td>\n",
       "      <td>Rybnik</td>\n",
       "      <td>Rybnik</td>\n",
       "      <td>1</td>\n",
       "    </tr>\n",
       "  </tbody>\n",
       "</table>\n",
       "</div>"
      ],
      "text/plain": [
       "                     Price       PriceSqM MonthlyRent    Bedrooms  \\\n",
       "0                 2 000 zł       0  zł/m²        1 zł    3 pokoje   \n",
       "1  280 000 złDo negocjacji  3684.21 zł/m²       0  zł  4 i więcej   \n",
       "\n",
       "             Place Advert_Owner    SqM Floor BuildingType Market Furnishings  \\\n",
       "0  Rybnik, Śląskie    Developer  69 m²     1    Apartment    NaN         Nie   \n",
       "1  Rybnik, Śląskie      Private  76 m²     1         Flat  After         Nie   \n",
       "\n",
       "  OfferType    City District  Negotiating  \n",
       "0  For_Rent  Rybnik   Rybnik            0  \n",
       "1  For_Sale  Rybnik   Rybnik            1  "
      ]
     },
     "execution_count": 35,
     "metadata": {},
     "output_type": "execute_result"
    }
   ],
   "source": [
    "olx_table.head(2)"
   ]
  },
  {
   "cell_type": "code",
   "execution_count": 36,
   "metadata": {},
   "outputs": [],
   "source": [
    "def remove_str(x):\n",
    "    token1 = x.split(' złDo negocjacji')  # Price\n",
    "    token2 = x.split(' zł')  # Price / MonthlyRent\n",
    "    token3 = x.split(' zł/m²')  # PriceSqM\n",
    "    token4 = x.split(' m²')  # SqM\n",
    "    if len(token1) == 2:\n",
    "        return (str(token1[0]))\n",
    "    elif len(token2) == 2:\n",
    "        return (str(token2[0]))\n",
    "    elif len(token3) == 2:\n",
    "        return (str(token3[0]))\n",
    "    elif len(token4) == 2:\n",
    "        return (str(token4[0]))\n",
    "    try:\n",
    "        return str(x)\n",
    "    except:\n",
    "        return False"
   ]
  },
  {
   "cell_type": "code",
   "execution_count": 37,
   "metadata": {},
   "outputs": [],
   "source": [
    "olx_table['Price'] = olx_table['Price'].apply(remove_str)"
   ]
  },
  {
   "cell_type": "code",
   "execution_count": 38,
   "metadata": {},
   "outputs": [],
   "source": [
    "olx_table['PriceSqM'] = olx_table['PriceSqM'].apply(remove_str)"
   ]
  },
  {
   "cell_type": "code",
   "execution_count": 39,
   "metadata": {},
   "outputs": [],
   "source": [
    "olx_table['SqM'] = olx_table['SqM'].apply(remove_str)"
   ]
  },
  {
   "cell_type": "code",
   "execution_count": 40,
   "metadata": {},
   "outputs": [],
   "source": [
    "olx_table['MonthlyRent'] = olx_table['MonthlyRent'].apply(remove_str)"
   ]
  },
  {
   "cell_type": "code",
   "execution_count": 41,
   "metadata": {},
   "outputs": [
    {
     "data": {
      "text/html": [
       "<div>\n",
       "<style scoped>\n",
       "    .dataframe tbody tr th:only-of-type {\n",
       "        vertical-align: middle;\n",
       "    }\n",
       "\n",
       "    .dataframe tbody tr th {\n",
       "        vertical-align: top;\n",
       "    }\n",
       "\n",
       "    .dataframe thead th {\n",
       "        text-align: right;\n",
       "    }\n",
       "</style>\n",
       "<table border=\"1\" class=\"dataframe\">\n",
       "  <thead>\n",
       "    <tr style=\"text-align: right;\">\n",
       "      <th></th>\n",
       "      <th>Price</th>\n",
       "      <th>PriceSqM</th>\n",
       "      <th>MonthlyRent</th>\n",
       "      <th>Bedrooms</th>\n",
       "      <th>Place</th>\n",
       "      <th>Advert_Owner</th>\n",
       "      <th>SqM</th>\n",
       "      <th>Floor</th>\n",
       "      <th>BuildingType</th>\n",
       "      <th>Market</th>\n",
       "      <th>Furnishings</th>\n",
       "      <th>OfferType</th>\n",
       "      <th>City</th>\n",
       "      <th>District</th>\n",
       "      <th>Negotiating</th>\n",
       "    </tr>\n",
       "  </thead>\n",
       "  <tbody>\n",
       "    <tr>\n",
       "      <th>0</th>\n",
       "      <td>2 000</td>\n",
       "      <td>0</td>\n",
       "      <td>1</td>\n",
       "      <td>3 pokoje</td>\n",
       "      <td>Rybnik, Śląskie</td>\n",
       "      <td>Developer</td>\n",
       "      <td>69</td>\n",
       "      <td>1</td>\n",
       "      <td>Apartment</td>\n",
       "      <td>NaN</td>\n",
       "      <td>Nie</td>\n",
       "      <td>For_Rent</td>\n",
       "      <td>Rybnik</td>\n",
       "      <td>Rybnik</td>\n",
       "      <td>0</td>\n",
       "    </tr>\n",
       "    <tr>\n",
       "      <th>1</th>\n",
       "      <td>280 000</td>\n",
       "      <td>3684.21</td>\n",
       "      <td>0</td>\n",
       "      <td>4 i więcej</td>\n",
       "      <td>Rybnik, Śląskie</td>\n",
       "      <td>Private</td>\n",
       "      <td>76</td>\n",
       "      <td>1</td>\n",
       "      <td>Flat</td>\n",
       "      <td>After</td>\n",
       "      <td>Nie</td>\n",
       "      <td>For_Sale</td>\n",
       "      <td>Rybnik</td>\n",
       "      <td>Rybnik</td>\n",
       "      <td>1</td>\n",
       "    </tr>\n",
       "  </tbody>\n",
       "</table>\n",
       "</div>"
      ],
      "text/plain": [
       "     Price PriceSqM MonthlyRent    Bedrooms            Place Advert_Owner SqM  \\\n",
       "0    2 000       0            1    3 pokoje  Rybnik, Śląskie    Developer  69   \n",
       "1  280 000  3684.21          0   4 i więcej  Rybnik, Śląskie      Private  76   \n",
       "\n",
       "  Floor BuildingType Market Furnishings OfferType    City District  \\\n",
       "0     1    Apartment    NaN         Nie  For_Rent  Rybnik   Rybnik   \n",
       "1     1         Flat  After         Nie  For_Sale  Rybnik   Rybnik   \n",
       "\n",
       "   Negotiating  \n",
       "0            0  \n",
       "1            1  "
      ]
     },
     "execution_count": 41,
     "metadata": {},
     "output_type": "execute_result"
    }
   ],
   "source": [
    "olx_table.head(2)"
   ]
  },
  {
   "cell_type": "markdown",
   "metadata": {},
   "source": [
    "### Remove empty spaces in the first two columns"
   ]
  },
  {
   "cell_type": "code",
   "execution_count": 42,
   "metadata": {},
   "outputs": [
    {
     "data": {
      "text/plain": [
       "'2 000'"
      ]
     },
     "execution_count": 42,
     "metadata": {},
     "output_type": "execute_result"
    }
   ],
   "source": [
    "olx_table.iloc[0, 0]"
   ]
  },
  {
   "cell_type": "code",
   "execution_count": 43,
   "metadata": {},
   "outputs": [
    {
     "data": {
      "text/plain": [
       "'2000'"
      ]
     },
     "execution_count": 43,
     "metadata": {},
     "output_type": "execute_result"
    }
   ],
   "source": [
    "olx_table['Price'] = olx_table['Price'].str.replace(' ', '')\n",
    "olx_table['PriceSqM'] = olx_table['PriceSqM'].str.replace(' ', '')\n",
    "olx_table.iloc[0, 0]"
   ]
  },
  {
   "cell_type": "code",
   "execution_count": 44,
   "metadata": {},
   "outputs": [
    {
     "data": {
      "text/html": [
       "<div>\n",
       "<style scoped>\n",
       "    .dataframe tbody tr th:only-of-type {\n",
       "        vertical-align: middle;\n",
       "    }\n",
       "\n",
       "    .dataframe tbody tr th {\n",
       "        vertical-align: top;\n",
       "    }\n",
       "\n",
       "    .dataframe thead th {\n",
       "        text-align: right;\n",
       "    }\n",
       "</style>\n",
       "<table border=\"1\" class=\"dataframe\">\n",
       "  <thead>\n",
       "    <tr style=\"text-align: right;\">\n",
       "      <th></th>\n",
       "      <th>Price</th>\n",
       "      <th>PriceSqM</th>\n",
       "      <th>MonthlyRent</th>\n",
       "      <th>Bedrooms</th>\n",
       "      <th>Place</th>\n",
       "      <th>Advert_Owner</th>\n",
       "      <th>SqM</th>\n",
       "      <th>Floor</th>\n",
       "      <th>BuildingType</th>\n",
       "      <th>Market</th>\n",
       "      <th>Furnishings</th>\n",
       "      <th>OfferType</th>\n",
       "      <th>City</th>\n",
       "      <th>District</th>\n",
       "      <th>Negotiating</th>\n",
       "    </tr>\n",
       "  </thead>\n",
       "  <tbody>\n",
       "    <tr>\n",
       "      <th>0</th>\n",
       "      <td>2000</td>\n",
       "      <td>0</td>\n",
       "      <td>1</td>\n",
       "      <td>3 pokoje</td>\n",
       "      <td>Rybnik, Śląskie</td>\n",
       "      <td>Developer</td>\n",
       "      <td>69</td>\n",
       "      <td>1</td>\n",
       "      <td>Apartment</td>\n",
       "      <td>NaN</td>\n",
       "      <td>Nie</td>\n",
       "      <td>For_Rent</td>\n",
       "      <td>Rybnik</td>\n",
       "      <td>Rybnik</td>\n",
       "      <td>0</td>\n",
       "    </tr>\n",
       "    <tr>\n",
       "      <th>1</th>\n",
       "      <td>280000</td>\n",
       "      <td>3684.21</td>\n",
       "      <td>0</td>\n",
       "      <td>4 i więcej</td>\n",
       "      <td>Rybnik, Śląskie</td>\n",
       "      <td>Private</td>\n",
       "      <td>76</td>\n",
       "      <td>1</td>\n",
       "      <td>Flat</td>\n",
       "      <td>After</td>\n",
       "      <td>Nie</td>\n",
       "      <td>For_Sale</td>\n",
       "      <td>Rybnik</td>\n",
       "      <td>Rybnik</td>\n",
       "      <td>1</td>\n",
       "    </tr>\n",
       "  </tbody>\n",
       "</table>\n",
       "</div>"
      ],
      "text/plain": [
       "    Price PriceSqM MonthlyRent    Bedrooms            Place Advert_Owner SqM  \\\n",
       "0    2000        0           1    3 pokoje  Rybnik, Śląskie    Developer  69   \n",
       "1  280000  3684.21          0   4 i więcej  Rybnik, Śląskie      Private  76   \n",
       "\n",
       "  Floor BuildingType Market Furnishings OfferType    City District  \\\n",
       "0     1    Apartment    NaN         Nie  For_Rent  Rybnik   Rybnik   \n",
       "1     1         Flat  After         Nie  For_Sale  Rybnik   Rybnik   \n",
       "\n",
       "   Negotiating  \n",
       "0            0  \n",
       "1            1  "
      ]
     },
     "execution_count": 44,
     "metadata": {},
     "output_type": "execute_result"
    }
   ],
   "source": [
    "olx_table.head(2)"
   ]
  },
  {
   "cell_type": "markdown",
   "metadata": {},
   "source": [
    "### Rename values in a chosen columns - from object to integer"
   ]
  },
  {
   "cell_type": "code",
   "execution_count": 45,
   "metadata": {},
   "outputs": [
    {
     "data": {
      "text/plain": [
       "array(['3 pokoje', '4 i więcej', '2 pokoje', 'Kawalerka', '1 pokój'],\n",
       "      dtype=object)"
      ]
     },
     "execution_count": 45,
     "metadata": {},
     "output_type": "execute_result"
    }
   ],
   "source": [
    "olx_table.Bedrooms.unique()"
   ]
  },
  {
   "cell_type": "code",
   "execution_count": 46,
   "metadata": {},
   "outputs": [
    {
     "data": {
      "text/plain": [
       "Bedrooms\n",
       "1 pokój       100\n",
       "2 pokoje      950\n",
       "3 pokoje      548\n",
       "4 i więcej    115\n",
       "Kawalerka     408\n",
       "Name: Bedrooms, dtype: int64"
      ]
     },
     "execution_count": 46,
     "metadata": {},
     "output_type": "execute_result"
    }
   ],
   "source": [
    "olx_table.groupby('Bedrooms')['Bedrooms'].count()"
   ]
  },
  {
   "cell_type": "code",
   "execution_count": 47,
   "metadata": {},
   "outputs": [],
   "source": [
    "def rooms_number(x):\n",
    "    if x == 'Kawalerka' or x == '1 pokój':\n",
    "        return 1\n",
    "    elif x == '2 pokoje':\n",
    "        return 2\n",
    "    elif x == '3 pokoje':\n",
    "        return 3\n",
    "    else:\n",
    "        return 4"
   ]
  },
  {
   "cell_type": "code",
   "execution_count": 48,
   "metadata": {},
   "outputs": [],
   "source": [
    "olx_table['Bedrooms'] = olx_table['Bedrooms'].apply(rooms_number)"
   ]
  },
  {
   "cell_type": "code",
   "execution_count": 49,
   "metadata": {},
   "outputs": [
    {
     "data": {
      "text/plain": [
       "Bedrooms\n",
       "1    508\n",
       "2    950\n",
       "3    548\n",
       "4    115\n",
       "Name: Bedrooms, dtype: int64"
      ]
     },
     "execution_count": 49,
     "metadata": {},
     "output_type": "execute_result"
    }
   ],
   "source": [
    "olx_table.groupby('Bedrooms')['Bedrooms'].count()"
   ]
  },
  {
   "cell_type": "code",
   "execution_count": 50,
   "metadata": {},
   "outputs": [
    {
     "data": {
      "text/plain": [
       "array(['1', 'Parter', '4', '2', '7', nan, '3', '5', '8', '6', '10',\n",
       "       'Powyżej 10', '9', 'Poddasze'], dtype=object)"
      ]
     },
     "execution_count": 50,
     "metadata": {},
     "output_type": "execute_result"
    }
   ],
   "source": [
    "olx_table.Floor.unique()  # we have some object in here"
   ]
  },
  {
   "cell_type": "code",
   "execution_count": 51,
   "metadata": {},
   "outputs": [
    {
     "data": {
      "text/plain": [
       "Floor\n",
       "1             521\n",
       "10             42\n",
       "2             427\n",
       "3             309\n",
       "4             228\n",
       "5              36\n",
       "6              40\n",
       "7              31\n",
       "8              19\n",
       "9              32\n",
       "Parter        363\n",
       "Poddasze        4\n",
       "Powyżej 10     18\n",
       "Name: Floor, dtype: int64"
      ]
     },
     "execution_count": 51,
     "metadata": {},
     "output_type": "execute_result"
    }
   ],
   "source": [
    "olx_table.groupby('Floor')['Floor'].count()"
   ]
  },
  {
   "cell_type": "markdown",
   "metadata": {},
   "source": [
    "I am not interested in: Attic (Poddasze), floor > 10. So I removed records with those floors and with null. Ground Floor (Parter) has been renamed to 0 "
   ]
  },
  {
   "cell_type": "code",
   "execution_count": 52,
   "metadata": {},
   "outputs": [],
   "source": [
    "olx_table.drop(olx_table[(olx_table.Floor == 'Poddasze') |\n",
    "                         (olx_table.Floor == 'Powyżej 10')].index,\n",
    "               axis=0,\n",
    "               inplace=True)"
   ]
  },
  {
   "cell_type": "code",
   "execution_count": 53,
   "metadata": {},
   "outputs": [],
   "source": [
    "olx_table.dropna(subset=['Floor'], inplace=True)"
   ]
  },
  {
   "cell_type": "code",
   "execution_count": 54,
   "metadata": {},
   "outputs": [],
   "source": [
    "olx_table['Floor'] = olx_table.Floor.replace('Parter', '0')"
   ]
  },
  {
   "cell_type": "code",
   "execution_count": 55,
   "metadata": {},
   "outputs": [],
   "source": [
    "olx_table['Floor'] = olx_table['Floor'].astype(int)"
   ]
  },
  {
   "cell_type": "code",
   "execution_count": 56,
   "metadata": {},
   "outputs": [
    {
     "data": {
      "text/plain": [
       "Floor\n",
       "0     363\n",
       "1     521\n",
       "2     427\n",
       "3     309\n",
       "4     228\n",
       "5      36\n",
       "6      40\n",
       "7      31\n",
       "8      19\n",
       "9      32\n",
       "10     42\n",
       "Name: Floor, dtype: int64"
      ]
     },
     "execution_count": 56,
     "metadata": {},
     "output_type": "execute_result"
    }
   ],
   "source": [
    "olx_table.groupby('Floor')['Floor'].count()"
   ]
  },
  {
   "cell_type": "code",
   "execution_count": 57,
   "metadata": {},
   "outputs": [],
   "source": [
    "olx_table['Furnishings'] = np.where(olx_table.Furnishings == 'Tak', 1, 0)"
   ]
  },
  {
   "cell_type": "code",
   "execution_count": 58,
   "metadata": {},
   "outputs": [
    {
     "data": {
      "text/html": [
       "<div>\n",
       "<style scoped>\n",
       "    .dataframe tbody tr th:only-of-type {\n",
       "        vertical-align: middle;\n",
       "    }\n",
       "\n",
       "    .dataframe tbody tr th {\n",
       "        vertical-align: top;\n",
       "    }\n",
       "\n",
       "    .dataframe thead th {\n",
       "        text-align: right;\n",
       "    }\n",
       "</style>\n",
       "<table border=\"1\" class=\"dataframe\">\n",
       "  <thead>\n",
       "    <tr style=\"text-align: right;\">\n",
       "      <th></th>\n",
       "      <th>Price</th>\n",
       "      <th>PriceSqM</th>\n",
       "      <th>MonthlyRent</th>\n",
       "      <th>Bedrooms</th>\n",
       "      <th>Place</th>\n",
       "      <th>Advert_Owner</th>\n",
       "      <th>SqM</th>\n",
       "      <th>Floor</th>\n",
       "      <th>BuildingType</th>\n",
       "      <th>Market</th>\n",
       "      <th>Furnishings</th>\n",
       "      <th>OfferType</th>\n",
       "      <th>City</th>\n",
       "      <th>District</th>\n",
       "      <th>Negotiating</th>\n",
       "    </tr>\n",
       "  </thead>\n",
       "  <tbody>\n",
       "    <tr>\n",
       "      <th>0</th>\n",
       "      <td>2000</td>\n",
       "      <td>0</td>\n",
       "      <td>1</td>\n",
       "      <td>3</td>\n",
       "      <td>Rybnik, Śląskie</td>\n",
       "      <td>Developer</td>\n",
       "      <td>69</td>\n",
       "      <td>1</td>\n",
       "      <td>Apartment</td>\n",
       "      <td>NaN</td>\n",
       "      <td>0</td>\n",
       "      <td>For_Rent</td>\n",
       "      <td>Rybnik</td>\n",
       "      <td>Rybnik</td>\n",
       "      <td>0</td>\n",
       "    </tr>\n",
       "    <tr>\n",
       "      <th>1</th>\n",
       "      <td>280000</td>\n",
       "      <td>3684.21</td>\n",
       "      <td>0</td>\n",
       "      <td>4</td>\n",
       "      <td>Rybnik, Śląskie</td>\n",
       "      <td>Private</td>\n",
       "      <td>76</td>\n",
       "      <td>1</td>\n",
       "      <td>Flat</td>\n",
       "      <td>After</td>\n",
       "      <td>0</td>\n",
       "      <td>For_Sale</td>\n",
       "      <td>Rybnik</td>\n",
       "      <td>Rybnik</td>\n",
       "      <td>1</td>\n",
       "    </tr>\n",
       "    <tr>\n",
       "      <th>2</th>\n",
       "      <td>1800</td>\n",
       "      <td>0</td>\n",
       "      <td>100</td>\n",
       "      <td>3</td>\n",
       "      <td>Rybnik, Śląskie</td>\n",
       "      <td>Private</td>\n",
       "      <td>100</td>\n",
       "      <td>0</td>\n",
       "      <td>House</td>\n",
       "      <td>NaN</td>\n",
       "      <td>1</td>\n",
       "      <td>For_Rent</td>\n",
       "      <td>Rybnik</td>\n",
       "      <td>Rybnik</td>\n",
       "      <td>1</td>\n",
       "    </tr>\n",
       "    <tr>\n",
       "      <th>3</th>\n",
       "      <td>1300</td>\n",
       "      <td>0</td>\n",
       "      <td>600</td>\n",
       "      <td>2</td>\n",
       "      <td>Rybnik, Śląskie</td>\n",
       "      <td>Developer</td>\n",
       "      <td>50</td>\n",
       "      <td>1</td>\n",
       "      <td>Flat</td>\n",
       "      <td>NaN</td>\n",
       "      <td>1</td>\n",
       "      <td>For_Rent</td>\n",
       "      <td>Rybnik</td>\n",
       "      <td>Rybnik</td>\n",
       "      <td>1</td>\n",
       "    </tr>\n",
       "    <tr>\n",
       "      <th>4</th>\n",
       "      <td>2200</td>\n",
       "      <td>0</td>\n",
       "      <td>1</td>\n",
       "      <td>2</td>\n",
       "      <td>Rybnik, Śląskie</td>\n",
       "      <td>Developer</td>\n",
       "      <td>66</td>\n",
       "      <td>4</td>\n",
       "      <td>Flat</td>\n",
       "      <td>NaN</td>\n",
       "      <td>1</td>\n",
       "      <td>For_Rent</td>\n",
       "      <td>Rybnik</td>\n",
       "      <td>Rybnik</td>\n",
       "      <td>0</td>\n",
       "    </tr>\n",
       "  </tbody>\n",
       "</table>\n",
       "</div>"
      ],
      "text/plain": [
       "    Price PriceSqM MonthlyRent  Bedrooms            Place Advert_Owner  SqM  \\\n",
       "0    2000        0           1         3  Rybnik, Śląskie    Developer   69   \n",
       "1  280000  3684.21          0          4  Rybnik, Śląskie      Private   76   \n",
       "2    1800        0         100         3  Rybnik, Śląskie      Private  100   \n",
       "3    1300        0         600         2  Rybnik, Śląskie    Developer   50   \n",
       "4    2200        0           1         2  Rybnik, Śląskie    Developer   66   \n",
       "\n",
       "   Floor BuildingType Market  Furnishings OfferType    City District  \\\n",
       "0      1    Apartment    NaN            0  For_Rent  Rybnik   Rybnik   \n",
       "1      1         Flat  After            0  For_Sale  Rybnik   Rybnik   \n",
       "2      0        House    NaN            1  For_Rent  Rybnik   Rybnik   \n",
       "3      1         Flat    NaN            1  For_Rent  Rybnik   Rybnik   \n",
       "4      4         Flat    NaN            1  For_Rent  Rybnik   Rybnik   \n",
       "\n",
       "   Negotiating  \n",
       "0            0  \n",
       "1            1  \n",
       "2            1  \n",
       "3            1  \n",
       "4            0  "
      ]
     },
     "execution_count": 58,
     "metadata": {},
     "output_type": "execute_result"
    }
   ],
   "source": [
    "olx_table.head()"
   ]
  },
  {
   "cell_type": "markdown",
   "metadata": {},
   "source": [
    "## Data Preparation:"
   ]
  },
  {
   "cell_type": "markdown",
   "metadata": {},
   "source": [
    "### Create two separate tables (for rent / for sale):"
   ]
  },
  {
   "cell_type": "code",
   "execution_count": 59,
   "metadata": {},
   "outputs": [],
   "source": [
    "df_rent = olx_table[olx_table.OfferType == 'For_Rent'].copy()\n",
    "df_sale = olx_table[olx_table.OfferType == 'For_Sale'].copy()"
   ]
  },
  {
   "cell_type": "markdown",
   "metadata": {},
   "source": [
    "### Remove unnecessary columns"
   ]
  },
  {
   "cell_type": "code",
   "execution_count": 60,
   "metadata": {},
   "outputs": [
    {
     "data": {
      "text/html": [
       "<div>\n",
       "<style scoped>\n",
       "    .dataframe tbody tr th:only-of-type {\n",
       "        vertical-align: middle;\n",
       "    }\n",
       "\n",
       "    .dataframe tbody tr th {\n",
       "        vertical-align: top;\n",
       "    }\n",
       "\n",
       "    .dataframe thead th {\n",
       "        text-align: right;\n",
       "    }\n",
       "</style>\n",
       "<table border=\"1\" class=\"dataframe\">\n",
       "  <thead>\n",
       "    <tr style=\"text-align: right;\">\n",
       "      <th></th>\n",
       "      <th>Price</th>\n",
       "      <th>PriceSqM</th>\n",
       "      <th>MonthlyRent</th>\n",
       "      <th>Bedrooms</th>\n",
       "      <th>Place</th>\n",
       "      <th>Advert_Owner</th>\n",
       "      <th>SqM</th>\n",
       "      <th>Floor</th>\n",
       "      <th>BuildingType</th>\n",
       "      <th>Market</th>\n",
       "      <th>Furnishings</th>\n",
       "      <th>OfferType</th>\n",
       "      <th>City</th>\n",
       "      <th>District</th>\n",
       "      <th>Negotiating</th>\n",
       "    </tr>\n",
       "  </thead>\n",
       "  <tbody>\n",
       "    <tr>\n",
       "      <th>1</th>\n",
       "      <td>280000</td>\n",
       "      <td>3684.21</td>\n",
       "      <td>0</td>\n",
       "      <td>4</td>\n",
       "      <td>Rybnik, Śląskie</td>\n",
       "      <td>Private</td>\n",
       "      <td>76</td>\n",
       "      <td>1</td>\n",
       "      <td>Flat</td>\n",
       "      <td>After</td>\n",
       "      <td>0</td>\n",
       "      <td>For_Sale</td>\n",
       "      <td>Rybnik</td>\n",
       "      <td>Rybnik</td>\n",
       "      <td>1</td>\n",
       "    </tr>\n",
       "    <tr>\n",
       "      <th>5</th>\n",
       "      <td>187000</td>\n",
       "      <td>4794.87</td>\n",
       "      <td>0</td>\n",
       "      <td>2</td>\n",
       "      <td>Rybnik, Śląskie</td>\n",
       "      <td>Developer</td>\n",
       "      <td>39</td>\n",
       "      <td>0</td>\n",
       "      <td>Flat</td>\n",
       "      <td>After</td>\n",
       "      <td>1</td>\n",
       "      <td>For_Sale</td>\n",
       "      <td>Rybnik</td>\n",
       "      <td>Rybnik</td>\n",
       "      <td>1</td>\n",
       "    </tr>\n",
       "  </tbody>\n",
       "</table>\n",
       "</div>"
      ],
      "text/plain": [
       "    Price PriceSqM MonthlyRent  Bedrooms            Place Advert_Owner SqM  \\\n",
       "1  280000  3684.21          0          4  Rybnik, Śląskie      Private  76   \n",
       "5  187000  4794.87          0          2  Rybnik, Śląskie    Developer  39   \n",
       "\n",
       "   Floor BuildingType Market  Furnishings OfferType    City District  \\\n",
       "1      1         Flat  After            0  For_Sale  Rybnik   Rybnik   \n",
       "5      0         Flat  After            1  For_Sale  Rybnik   Rybnik   \n",
       "\n",
       "   Negotiating  \n",
       "1            1  \n",
       "5            1  "
      ]
     },
     "execution_count": 60,
     "metadata": {},
     "output_type": "execute_result"
    }
   ],
   "source": [
    "df_sale.head(2)"
   ]
  },
  {
   "cell_type": "code",
   "execution_count": 61,
   "metadata": {},
   "outputs": [
    {
     "data": {
      "text/html": [
       "<div>\n",
       "<style scoped>\n",
       "    .dataframe tbody tr th:only-of-type {\n",
       "        vertical-align: middle;\n",
       "    }\n",
       "\n",
       "    .dataframe tbody tr th {\n",
       "        vertical-align: top;\n",
       "    }\n",
       "\n",
       "    .dataframe thead th {\n",
       "        text-align: right;\n",
       "    }\n",
       "</style>\n",
       "<table border=\"1\" class=\"dataframe\">\n",
       "  <thead>\n",
       "    <tr style=\"text-align: right;\">\n",
       "      <th></th>\n",
       "      <th>Price</th>\n",
       "      <th>PriceSqM</th>\n",
       "      <th>MonthlyRent</th>\n",
       "      <th>Bedrooms</th>\n",
       "      <th>Place</th>\n",
       "      <th>Advert_Owner</th>\n",
       "      <th>SqM</th>\n",
       "      <th>Floor</th>\n",
       "      <th>BuildingType</th>\n",
       "      <th>Market</th>\n",
       "      <th>Furnishings</th>\n",
       "      <th>OfferType</th>\n",
       "      <th>City</th>\n",
       "      <th>District</th>\n",
       "      <th>Negotiating</th>\n",
       "    </tr>\n",
       "  </thead>\n",
       "  <tbody>\n",
       "    <tr>\n",
       "      <th>0</th>\n",
       "      <td>2000</td>\n",
       "      <td>0</td>\n",
       "      <td>1</td>\n",
       "      <td>3</td>\n",
       "      <td>Rybnik, Śląskie</td>\n",
       "      <td>Developer</td>\n",
       "      <td>69</td>\n",
       "      <td>1</td>\n",
       "      <td>Apartment</td>\n",
       "      <td>NaN</td>\n",
       "      <td>0</td>\n",
       "      <td>For_Rent</td>\n",
       "      <td>Rybnik</td>\n",
       "      <td>Rybnik</td>\n",
       "      <td>0</td>\n",
       "    </tr>\n",
       "    <tr>\n",
       "      <th>2</th>\n",
       "      <td>1800</td>\n",
       "      <td>0</td>\n",
       "      <td>100</td>\n",
       "      <td>3</td>\n",
       "      <td>Rybnik, Śląskie</td>\n",
       "      <td>Private</td>\n",
       "      <td>100</td>\n",
       "      <td>0</td>\n",
       "      <td>House</td>\n",
       "      <td>NaN</td>\n",
       "      <td>1</td>\n",
       "      <td>For_Rent</td>\n",
       "      <td>Rybnik</td>\n",
       "      <td>Rybnik</td>\n",
       "      <td>1</td>\n",
       "    </tr>\n",
       "  </tbody>\n",
       "</table>\n",
       "</div>"
      ],
      "text/plain": [
       "  Price PriceSqM MonthlyRent  Bedrooms            Place Advert_Owner  SqM  \\\n",
       "0  2000        0           1         3  Rybnik, Śląskie    Developer   69   \n",
       "2  1800        0         100         3  Rybnik, Śląskie      Private  100   \n",
       "\n",
       "   Floor BuildingType Market  Furnishings OfferType    City District  \\\n",
       "0      1    Apartment    NaN            0  For_Rent  Rybnik   Rybnik   \n",
       "2      0        House    NaN            1  For_Rent  Rybnik   Rybnik   \n",
       "\n",
       "   Negotiating  \n",
       "0            0  \n",
       "2            1  "
      ]
     },
     "execution_count": 61,
     "metadata": {},
     "output_type": "execute_result"
    }
   ],
   "source": [
    "df_rent.head(2)"
   ]
  },
  {
   "cell_type": "code",
   "execution_count": 62,
   "metadata": {},
   "outputs": [],
   "source": [
    "df_sale.drop(columns={'MonthlyRent', 'OfferType'},\n",
    "             axis='columns',\n",
    "             inplace=True)"
   ]
  },
  {
   "cell_type": "code",
   "execution_count": 63,
   "metadata": {},
   "outputs": [],
   "source": [
    "df_rent.drop(columns={'PriceSqM', 'Market', 'OfferType'},\n",
    "             axis='columns',\n",
    "             inplace=True)"
   ]
  },
  {
   "cell_type": "markdown",
   "metadata": {},
   "source": [
    "### Change data types - 'object' to 'float' - for columns with numbers."
   ]
  },
  {
   "cell_type": "code",
   "execution_count": 64,
   "metadata": {},
   "outputs": [],
   "source": [
    "def is_float(x):\n",
    "    try:\n",
    "        return float(x)\n",
    "    except:\n",
    "        return False"
   ]
  },
  {
   "cell_type": "code",
   "execution_count": 65,
   "metadata": {},
   "outputs": [],
   "source": [
    "def RemoveFalse(df, col):\n",
    "    return df.drop(df[df[col] == False].index, inplace=True)"
   ]
  },
  {
   "cell_type": "markdown",
   "metadata": {},
   "source": [
    "**For Sale:**"
   ]
  },
  {
   "cell_type": "code",
   "execution_count": 66,
   "metadata": {},
   "outputs": [
    {
     "data": {
      "text/plain": [
       "Price           object\n",
       "PriceSqM        object\n",
       "Bedrooms         int64\n",
       "Place           object\n",
       "Advert_Owner    object\n",
       "SqM             object\n",
       "Floor            int32\n",
       "BuildingType    object\n",
       "Market          object\n",
       "Furnishings      int32\n",
       "City            object\n",
       "District        object\n",
       "Negotiating      int32\n",
       "dtype: object"
      ]
     },
     "execution_count": 66,
     "metadata": {},
     "output_type": "execute_result"
    }
   ],
   "source": [
    "df_sale.dtypes"
   ]
  },
  {
   "cell_type": "code",
   "execution_count": 67,
   "metadata": {},
   "outputs": [
    {
     "data": {
      "text/plain": [
       "(810, 13)"
      ]
     },
     "execution_count": 67,
     "metadata": {},
     "output_type": "execute_result"
    }
   ],
   "source": [
    "df_sale.shape"
   ]
  },
  {
   "cell_type": "code",
   "execution_count": 68,
   "metadata": {},
   "outputs": [
    {
     "name": "stdout",
     "output_type": "stream",
     "text": [
      "86 \"False\" records before remove them \n",
      "\n",
      "0 \"False\" records now\n"
     ]
    }
   ],
   "source": [
    "df_sale['Price'] = df_sale['Price'].apply(lambda x: x.replace(',', '.')).apply(\n",
    "    is_float)\n",
    "print(\n",
    "    f'{len(df_sale[df_sale.Price==False])} \"False\" records before remove them \\n'\n",
    ")\n",
    "RemoveFalse(df_sale, 'Price')\n",
    "df_sale['Price'] = df_sale['Price'].apply(is_float)\n",
    "print(f'{len(df_sale[df_sale.Price==False])} \"False\" records now')"
   ]
  },
  {
   "cell_type": "code",
   "execution_count": 69,
   "metadata": {},
   "outputs": [
    {
     "name": "stdout",
     "output_type": "stream",
     "text": [
      "0 \"False\" records before remove them \n",
      "\n",
      "0 \"False\" records now\n"
     ]
    }
   ],
   "source": [
    "df_sale['PriceSqM'] = df_sale['PriceSqM'].apply(\n",
    "    lambda x: x.replace(',', '.')).apply(is_float)\n",
    "print(\n",
    "    f'{len(df_sale[df_sale.PriceSqM==False])} \"False\" records before remove them \\n'\n",
    ")\n",
    "RemoveFalse(df_sale, 'PriceSqM')\n",
    "df_sale['PriceSqM'] = df_sale['PriceSqM'].apply(is_float)\n",
    "print(f'{len(df_sale[df_sale.PriceSqM==False])} \"False\" records now')"
   ]
  },
  {
   "cell_type": "code",
   "execution_count": 70,
   "metadata": {},
   "outputs": [
    {
     "name": "stdout",
     "output_type": "stream",
     "text": [
      "1 \"False\" records before remove them \n",
      "\n",
      "0 \"False\" records now\n"
     ]
    }
   ],
   "source": [
    "df_sale['SqM'] = df_sale['SqM'].apply(lambda x: x.replace(',', '.')).apply(\n",
    "    is_float)\n",
    "print(\n",
    "    f'{len(df_sale[df_sale.SqM==False])} \"False\" records before remove them \\n'\n",
    ")\n",
    "RemoveFalse(df_sale, 'SqM')\n",
    "df_sale['SqM'] = df_sale['SqM'].apply(is_float)\n",
    "print(f'{len(df_sale[df_sale.SqM==False])} \"False\" records now')"
   ]
  },
  {
   "cell_type": "code",
   "execution_count": 71,
   "metadata": {
    "scrolled": true
   },
   "outputs": [
    {
     "data": {
      "text/plain": [
       "Price           float64\n",
       "PriceSqM        float64\n",
       "Bedrooms          int64\n",
       "Place            object\n",
       "Advert_Owner     object\n",
       "SqM             float64\n",
       "Floor             int32\n",
       "BuildingType     object\n",
       "Market           object\n",
       "Furnishings       int32\n",
       "City             object\n",
       "District         object\n",
       "Negotiating       int32\n",
       "dtype: object"
      ]
     },
     "execution_count": 71,
     "metadata": {},
     "output_type": "execute_result"
    }
   ],
   "source": [
    "df_sale.dtypes"
   ]
  },
  {
   "cell_type": "code",
   "execution_count": 72,
   "metadata": {},
   "outputs": [
    {
     "data": {
      "text/plain": [
       "(723, 13)"
      ]
     },
     "execution_count": 72,
     "metadata": {},
     "output_type": "execute_result"
    }
   ],
   "source": [
    "df_sale.shape"
   ]
  },
  {
   "cell_type": "code",
   "execution_count": 73,
   "metadata": {},
   "outputs": [
    {
     "data": {
      "text/html": [
       "<div>\n",
       "<style scoped>\n",
       "    .dataframe tbody tr th:only-of-type {\n",
       "        vertical-align: middle;\n",
       "    }\n",
       "\n",
       "    .dataframe tbody tr th {\n",
       "        vertical-align: top;\n",
       "    }\n",
       "\n",
       "    .dataframe thead th {\n",
       "        text-align: right;\n",
       "    }\n",
       "</style>\n",
       "<table border=\"1\" class=\"dataframe\">\n",
       "  <thead>\n",
       "    <tr style=\"text-align: right;\">\n",
       "      <th></th>\n",
       "      <th>Price</th>\n",
       "      <th>PriceSqM</th>\n",
       "      <th>Bedrooms</th>\n",
       "      <th>Place</th>\n",
       "      <th>Advert_Owner</th>\n",
       "      <th>SqM</th>\n",
       "      <th>Floor</th>\n",
       "      <th>BuildingType</th>\n",
       "      <th>Market</th>\n",
       "      <th>Furnishings</th>\n",
       "      <th>City</th>\n",
       "      <th>District</th>\n",
       "      <th>Negotiating</th>\n",
       "    </tr>\n",
       "  </thead>\n",
       "  <tbody>\n",
       "    <tr>\n",
       "      <th>1</th>\n",
       "      <td>280000.0</td>\n",
       "      <td>3684.21</td>\n",
       "      <td>4</td>\n",
       "      <td>Rybnik, Śląskie</td>\n",
       "      <td>Private</td>\n",
       "      <td>76.0</td>\n",
       "      <td>1</td>\n",
       "      <td>Flat</td>\n",
       "      <td>After</td>\n",
       "      <td>0</td>\n",
       "      <td>Rybnik</td>\n",
       "      <td>Rybnik</td>\n",
       "      <td>1</td>\n",
       "    </tr>\n",
       "    <tr>\n",
       "      <th>5</th>\n",
       "      <td>187000.0</td>\n",
       "      <td>4794.87</td>\n",
       "      <td>2</td>\n",
       "      <td>Rybnik, Śląskie</td>\n",
       "      <td>Developer</td>\n",
       "      <td>39.0</td>\n",
       "      <td>0</td>\n",
       "      <td>Flat</td>\n",
       "      <td>After</td>\n",
       "      <td>1</td>\n",
       "      <td>Rybnik</td>\n",
       "      <td>Rybnik</td>\n",
       "      <td>1</td>\n",
       "    </tr>\n",
       "    <tr>\n",
       "      <th>11</th>\n",
       "      <td>425000.0</td>\n",
       "      <td>4250.00</td>\n",
       "      <td>3</td>\n",
       "      <td>Rybnik, Śląskie</td>\n",
       "      <td>Private</td>\n",
       "      <td>100.0</td>\n",
       "      <td>1</td>\n",
       "      <td>Apartment</td>\n",
       "      <td>Primary</td>\n",
       "      <td>0</td>\n",
       "      <td>Rybnik</td>\n",
       "      <td>Rybnik</td>\n",
       "      <td>1</td>\n",
       "    </tr>\n",
       "    <tr>\n",
       "      <th>12</th>\n",
       "      <td>189000.0</td>\n",
       "      <td>3417.72</td>\n",
       "      <td>3</td>\n",
       "      <td>Rybnik, Śląskie</td>\n",
       "      <td>Developer</td>\n",
       "      <td>55.3</td>\n",
       "      <td>4</td>\n",
       "      <td>Flat</td>\n",
       "      <td>Primary</td>\n",
       "      <td>1</td>\n",
       "      <td>Rybnik</td>\n",
       "      <td>Rybnik</td>\n",
       "      <td>0</td>\n",
       "    </tr>\n",
       "    <tr>\n",
       "      <th>16</th>\n",
       "      <td>143000.0</td>\n",
       "      <td>3575.00</td>\n",
       "      <td>2</td>\n",
       "      <td>Rybnik, Śląskie</td>\n",
       "      <td>Developer</td>\n",
       "      <td>40.0</td>\n",
       "      <td>0</td>\n",
       "      <td>Flat</td>\n",
       "      <td>After</td>\n",
       "      <td>0</td>\n",
       "      <td>Rybnik</td>\n",
       "      <td>Rybnik</td>\n",
       "      <td>1</td>\n",
       "    </tr>\n",
       "  </tbody>\n",
       "</table>\n",
       "</div>"
      ],
      "text/plain": [
       "       Price  PriceSqM  Bedrooms            Place Advert_Owner    SqM  Floor  \\\n",
       "1   280000.0   3684.21         4  Rybnik, Śląskie      Private   76.0      1   \n",
       "5   187000.0   4794.87         2  Rybnik, Śląskie    Developer   39.0      0   \n",
       "11  425000.0   4250.00         3  Rybnik, Śląskie      Private  100.0      1   \n",
       "12  189000.0   3417.72         3  Rybnik, Śląskie    Developer   55.3      4   \n",
       "16  143000.0   3575.00         2  Rybnik, Śląskie    Developer   40.0      0   \n",
       "\n",
       "   BuildingType   Market  Furnishings    City District  Negotiating  \n",
       "1          Flat    After            0  Rybnik   Rybnik            1  \n",
       "5          Flat    After            1  Rybnik   Rybnik            1  \n",
       "11    Apartment  Primary            0  Rybnik   Rybnik            1  \n",
       "12         Flat  Primary            1  Rybnik   Rybnik            0  \n",
       "16         Flat    After            0  Rybnik   Rybnik            1  "
      ]
     },
     "execution_count": 73,
     "metadata": {},
     "output_type": "execute_result"
    }
   ],
   "source": [
    "df_sale.head()"
   ]
  },
  {
   "cell_type": "code",
   "execution_count": 74,
   "metadata": {},
   "outputs": [
    {
     "data": {
      "text/html": [
       "<div>\n",
       "<style scoped>\n",
       "    .dataframe tbody tr th:only-of-type {\n",
       "        vertical-align: middle;\n",
       "    }\n",
       "\n",
       "    .dataframe tbody tr th {\n",
       "        vertical-align: top;\n",
       "    }\n",
       "\n",
       "    .dataframe thead th {\n",
       "        text-align: right;\n",
       "    }\n",
       "</style>\n",
       "<table border=\"1\" class=\"dataframe\">\n",
       "  <thead>\n",
       "    <tr style=\"text-align: right;\">\n",
       "      <th></th>\n",
       "      <th>Price</th>\n",
       "      <th>PriceSqM</th>\n",
       "      <th>Bedrooms</th>\n",
       "      <th>SqM</th>\n",
       "      <th>Floor</th>\n",
       "      <th>Furnishings</th>\n",
       "      <th>Negotiating</th>\n",
       "    </tr>\n",
       "  </thead>\n",
       "  <tbody>\n",
       "    <tr>\n",
       "      <th>count</th>\n",
       "      <td>723.000000</td>\n",
       "      <td>723.000000</td>\n",
       "      <td>723.000000</td>\n",
       "      <td>723.000000</td>\n",
       "      <td>723.000000</td>\n",
       "      <td>723.000000</td>\n",
       "      <td>723.000000</td>\n",
       "    </tr>\n",
       "    <tr>\n",
       "      <th>mean</th>\n",
       "      <td>224293.087137</td>\n",
       "      <td>4269.816584</td>\n",
       "      <td>2.438451</td>\n",
       "      <td>53.532116</td>\n",
       "      <td>2.396957</td>\n",
       "      <td>0.507607</td>\n",
       "      <td>0.578147</td>\n",
       "    </tr>\n",
       "    <tr>\n",
       "      <th>std</th>\n",
       "      <td>91820.772895</td>\n",
       "      <td>1306.093759</td>\n",
       "      <td>0.805118</td>\n",
       "      <td>17.719590</td>\n",
       "      <td>2.240113</td>\n",
       "      <td>0.500288</td>\n",
       "      <td>0.494197</td>\n",
       "    </tr>\n",
       "    <tr>\n",
       "      <th>min</th>\n",
       "      <td>10000.000000</td>\n",
       "      <td>192.310000</td>\n",
       "      <td>1.000000</td>\n",
       "      <td>17.180000</td>\n",
       "      <td>0.000000</td>\n",
       "      <td>0.000000</td>\n",
       "      <td>0.000000</td>\n",
       "    </tr>\n",
       "    <tr>\n",
       "      <th>25%</th>\n",
       "      <td>160000.000000</td>\n",
       "      <td>3467.405000</td>\n",
       "      <td>2.000000</td>\n",
       "      <td>40.000000</td>\n",
       "      <td>1.000000</td>\n",
       "      <td>0.000000</td>\n",
       "      <td>0.000000</td>\n",
       "    </tr>\n",
       "    <tr>\n",
       "      <th>50%</th>\n",
       "      <td>209000.000000</td>\n",
       "      <td>4102.560000</td>\n",
       "      <td>2.000000</td>\n",
       "      <td>51.500000</td>\n",
       "      <td>2.000000</td>\n",
       "      <td>1.000000</td>\n",
       "      <td>1.000000</td>\n",
       "    </tr>\n",
       "    <tr>\n",
       "      <th>75%</th>\n",
       "      <td>266866.000000</td>\n",
       "      <td>5000.000000</td>\n",
       "      <td>3.000000</td>\n",
       "      <td>62.080000</td>\n",
       "      <td>4.000000</td>\n",
       "      <td>1.000000</td>\n",
       "      <td>1.000000</td>\n",
       "    </tr>\n",
       "    <tr>\n",
       "      <th>max</th>\n",
       "      <td>870000.000000</td>\n",
       "      <td>10353.960000</td>\n",
       "      <td>4.000000</td>\n",
       "      <td>163.000000</td>\n",
       "      <td>10.000000</td>\n",
       "      <td>1.000000</td>\n",
       "      <td>1.000000</td>\n",
       "    </tr>\n",
       "  </tbody>\n",
       "</table>\n",
       "</div>"
      ],
      "text/plain": [
       "               Price      PriceSqM    Bedrooms         SqM       Floor  \\\n",
       "count     723.000000    723.000000  723.000000  723.000000  723.000000   \n",
       "mean   224293.087137   4269.816584    2.438451   53.532116    2.396957   \n",
       "std     91820.772895   1306.093759    0.805118   17.719590    2.240113   \n",
       "min     10000.000000    192.310000    1.000000   17.180000    0.000000   \n",
       "25%    160000.000000   3467.405000    2.000000   40.000000    1.000000   \n",
       "50%    209000.000000   4102.560000    2.000000   51.500000    2.000000   \n",
       "75%    266866.000000   5000.000000    3.000000   62.080000    4.000000   \n",
       "max    870000.000000  10353.960000    4.000000  163.000000   10.000000   \n",
       "\n",
       "       Furnishings  Negotiating  \n",
       "count   723.000000   723.000000  \n",
       "mean      0.507607     0.578147  \n",
       "std       0.500288     0.494197  \n",
       "min       0.000000     0.000000  \n",
       "25%       0.000000     0.000000  \n",
       "50%       1.000000     1.000000  \n",
       "75%       1.000000     1.000000  \n",
       "max       1.000000     1.000000  "
      ]
     },
     "execution_count": 74,
     "metadata": {},
     "output_type": "execute_result"
    }
   ],
   "source": [
    "df_sale.describe()"
   ]
  },
  {
   "cell_type": "markdown",
   "metadata": {},
   "source": [
    "**For Rent:**"
   ]
  },
  {
   "cell_type": "code",
   "execution_count": 75,
   "metadata": {},
   "outputs": [
    {
     "data": {
      "text/plain": [
       "Price           object\n",
       "MonthlyRent     object\n",
       "Bedrooms         int64\n",
       "Place           object\n",
       "Advert_Owner    object\n",
       "SqM             object\n",
       "Floor            int32\n",
       "BuildingType    object\n",
       "Furnishings      int32\n",
       "City            object\n",
       "District        object\n",
       "Negotiating      int32\n",
       "dtype: object"
      ]
     },
     "execution_count": 75,
     "metadata": {},
     "output_type": "execute_result"
    }
   ],
   "source": [
    "df_rent.dtypes"
   ]
  },
  {
   "cell_type": "code",
   "execution_count": 76,
   "metadata": {},
   "outputs": [
    {
     "data": {
      "text/plain": [
       "(1238, 12)"
      ]
     },
     "execution_count": 76,
     "metadata": {},
     "output_type": "execute_result"
    }
   ],
   "source": [
    "df_rent.shape"
   ]
  },
  {
   "cell_type": "code",
   "execution_count": 77,
   "metadata": {},
   "outputs": [
    {
     "name": "stdout",
     "output_type": "stream",
     "text": [
      "0 \"False\" records before remove them \n",
      "\n",
      "0 \"False\" records now\n"
     ]
    }
   ],
   "source": [
    "df_rent['Price'] = df_rent['Price'].apply(lambda x: x.replace(',', '.')).apply(\n",
    "    is_float)\n",
    "print(\n",
    "    f'{len(df_rent[df_rent.Price==False])} \"False\" records before remove them \\n'\n",
    ")\n",
    "RemoveFalse(df_rent, 'Price')\n",
    "df_rent['Price'] = df_rent['Price'].apply(is_float)\n",
    "print(f'{len(df_rent[df_rent.Price==False])} \"False\" records now')"
   ]
  },
  {
   "cell_type": "code",
   "execution_count": 78,
   "metadata": {},
   "outputs": [
    {
     "name": "stdout",
     "output_type": "stream",
     "text": [
      "54 \"False\" records before remove them \n",
      "\n",
      "0 \"False\" records now\n"
     ]
    }
   ],
   "source": [
    "df_rent['MonthlyRent'] = df_rent['MonthlyRent'].apply(\n",
    "    lambda x: x.replace(',', '.')).apply(is_float)\n",
    "print(\n",
    "    f'{len(df_rent[df_rent.MonthlyRent==False])} \"False\" records before remove them \\n'\n",
    ")\n",
    "RemoveFalse(df_rent, 'MonthlyRent')\n",
    "df_rent['MonthlyRent'] = df_rent['MonthlyRent'].apply(is_float)\n",
    "print(f'{len(df_rent[df_rent.MonthlyRent==False])} \"False\" records now')"
   ]
  },
  {
   "cell_type": "code",
   "execution_count": 79,
   "metadata": {},
   "outputs": [
    {
     "name": "stdout",
     "output_type": "stream",
     "text": [
      "0 \"False\" records before remove them \n",
      "\n",
      "0 \"False\" records now\n"
     ]
    }
   ],
   "source": [
    "df_rent['SqM'] = df_rent['SqM'].apply(lambda x: x.replace(',', '.')).apply(\n",
    "    is_float)\n",
    "print(\n",
    "    f'{len(df_rent[df_rent.SqM==False])} \"False\" records before remove them \\n'\n",
    ")\n",
    "RemoveFalse(df_rent, 'SqM')\n",
    "df_rent['SqM'] = df_rent['SqM'].apply(is_float)\n",
    "print(f'{len(df_rent[df_rent.SqM==False])} \"False\" records now')"
   ]
  },
  {
   "cell_type": "code",
   "execution_count": 80,
   "metadata": {
    "scrolled": true
   },
   "outputs": [
    {
     "data": {
      "text/plain": [
       "Price           float64\n",
       "MonthlyRent     float64\n",
       "Bedrooms          int64\n",
       "Place            object\n",
       "Advert_Owner     object\n",
       "SqM             float64\n",
       "Floor             int32\n",
       "BuildingType     object\n",
       "Furnishings       int32\n",
       "City             object\n",
       "District         object\n",
       "Negotiating       int32\n",
       "dtype: object"
      ]
     },
     "execution_count": 80,
     "metadata": {},
     "output_type": "execute_result"
    }
   ],
   "source": [
    "df_rent.dtypes"
   ]
  },
  {
   "cell_type": "code",
   "execution_count": 81,
   "metadata": {},
   "outputs": [
    {
     "data": {
      "text/plain": [
       "(1184, 12)"
      ]
     },
     "execution_count": 81,
     "metadata": {},
     "output_type": "execute_result"
    }
   ],
   "source": [
    "df_rent.shape"
   ]
  },
  {
   "cell_type": "markdown",
   "metadata": {},
   "source": [
    "### Create final price for rent properties\n",
    "\n",
    "Some offers already contain rent costs in rental price, and some not. So, it is better to summarize these costs as we will pay total price (rental price + additional rent). "
   ]
  },
  {
   "cell_type": "code",
   "execution_count": 82,
   "metadata": {},
   "outputs": [],
   "source": [
    "df_rent['MonthlyPrice'] = np.where(df_rent.MonthlyRent > 1,\n",
    "                                   df_rent.MonthlyRent + df_rent.Price,\n",
    "                                   df_rent.Price)"
   ]
  },
  {
   "cell_type": "code",
   "execution_count": 83,
   "metadata": {},
   "outputs": [],
   "source": [
    "df_rent['PriceSqM'] = df_rent.MonthlyPrice / df_rent.SqM"
   ]
  },
  {
   "cell_type": "code",
   "execution_count": 84,
   "metadata": {},
   "outputs": [],
   "source": [
    "df_rent.drop(columns={'Price', 'MonthlyRent'}, inplace=True)"
   ]
  },
  {
   "cell_type": "code",
   "execution_count": 85,
   "metadata": {},
   "outputs": [
    {
     "data": {
      "text/html": [
       "<div>\n",
       "<style scoped>\n",
       "    .dataframe tbody tr th:only-of-type {\n",
       "        vertical-align: middle;\n",
       "    }\n",
       "\n",
       "    .dataframe tbody tr th {\n",
       "        vertical-align: top;\n",
       "    }\n",
       "\n",
       "    .dataframe thead th {\n",
       "        text-align: right;\n",
       "    }\n",
       "</style>\n",
       "<table border=\"1\" class=\"dataframe\">\n",
       "  <thead>\n",
       "    <tr style=\"text-align: right;\">\n",
       "      <th></th>\n",
       "      <th>Bedrooms</th>\n",
       "      <th>Place</th>\n",
       "      <th>Advert_Owner</th>\n",
       "      <th>SqM</th>\n",
       "      <th>Floor</th>\n",
       "      <th>BuildingType</th>\n",
       "      <th>Furnishings</th>\n",
       "      <th>City</th>\n",
       "      <th>District</th>\n",
       "      <th>Negotiating</th>\n",
       "      <th>MonthlyPrice</th>\n",
       "      <th>PriceSqM</th>\n",
       "    </tr>\n",
       "  </thead>\n",
       "  <tbody>\n",
       "    <tr>\n",
       "      <th>0</th>\n",
       "      <td>3</td>\n",
       "      <td>Rybnik, Śląskie</td>\n",
       "      <td>Developer</td>\n",
       "      <td>69.0</td>\n",
       "      <td>1</td>\n",
       "      <td>Apartment</td>\n",
       "      <td>0</td>\n",
       "      <td>Rybnik</td>\n",
       "      <td>Rybnik</td>\n",
       "      <td>0</td>\n",
       "      <td>2000.0</td>\n",
       "      <td>28.985507</td>\n",
       "    </tr>\n",
       "    <tr>\n",
       "      <th>2</th>\n",
       "      <td>3</td>\n",
       "      <td>Rybnik, Śląskie</td>\n",
       "      <td>Private</td>\n",
       "      <td>100.0</td>\n",
       "      <td>0</td>\n",
       "      <td>House</td>\n",
       "      <td>1</td>\n",
       "      <td>Rybnik</td>\n",
       "      <td>Rybnik</td>\n",
       "      <td>1</td>\n",
       "      <td>1900.0</td>\n",
       "      <td>19.000000</td>\n",
       "    </tr>\n",
       "    <tr>\n",
       "      <th>3</th>\n",
       "      <td>2</td>\n",
       "      <td>Rybnik, Śląskie</td>\n",
       "      <td>Developer</td>\n",
       "      <td>50.0</td>\n",
       "      <td>1</td>\n",
       "      <td>Flat</td>\n",
       "      <td>1</td>\n",
       "      <td>Rybnik</td>\n",
       "      <td>Rybnik</td>\n",
       "      <td>1</td>\n",
       "      <td>1900.0</td>\n",
       "      <td>38.000000</td>\n",
       "    </tr>\n",
       "    <tr>\n",
       "      <th>4</th>\n",
       "      <td>2</td>\n",
       "      <td>Rybnik, Śląskie</td>\n",
       "      <td>Developer</td>\n",
       "      <td>66.0</td>\n",
       "      <td>4</td>\n",
       "      <td>Flat</td>\n",
       "      <td>1</td>\n",
       "      <td>Rybnik</td>\n",
       "      <td>Rybnik</td>\n",
       "      <td>0</td>\n",
       "      <td>2200.0</td>\n",
       "      <td>33.333333</td>\n",
       "    </tr>\n",
       "    <tr>\n",
       "      <th>6</th>\n",
       "      <td>1</td>\n",
       "      <td>Rybnik, Śląskie</td>\n",
       "      <td>Private</td>\n",
       "      <td>45.0</td>\n",
       "      <td>1</td>\n",
       "      <td>Flat</td>\n",
       "      <td>1</td>\n",
       "      <td>Rybnik</td>\n",
       "      <td>Rybnik</td>\n",
       "      <td>1</td>\n",
       "      <td>1199.0</td>\n",
       "      <td>26.644444</td>\n",
       "    </tr>\n",
       "  </tbody>\n",
       "</table>\n",
       "</div>"
      ],
      "text/plain": [
       "   Bedrooms            Place Advert_Owner    SqM  Floor BuildingType  \\\n",
       "0         3  Rybnik, Śląskie    Developer   69.0      1    Apartment   \n",
       "2         3  Rybnik, Śląskie      Private  100.0      0        House   \n",
       "3         2  Rybnik, Śląskie    Developer   50.0      1         Flat   \n",
       "4         2  Rybnik, Śląskie    Developer   66.0      4         Flat   \n",
       "6         1  Rybnik, Śląskie      Private   45.0      1         Flat   \n",
       "\n",
       "   Furnishings    City District  Negotiating  MonthlyPrice   PriceSqM  \n",
       "0            0  Rybnik   Rybnik            0        2000.0  28.985507  \n",
       "2            1  Rybnik   Rybnik            1        1900.0  19.000000  \n",
       "3            1  Rybnik   Rybnik            1        1900.0  38.000000  \n",
       "4            1  Rybnik   Rybnik            0        2200.0  33.333333  \n",
       "6            1  Rybnik   Rybnik            1        1199.0  26.644444  "
      ]
     },
     "execution_count": 85,
     "metadata": {},
     "output_type": "execute_result"
    }
   ],
   "source": [
    "df_rent.head()"
   ]
  },
  {
   "cell_type": "code",
   "execution_count": 86,
   "metadata": {},
   "outputs": [
    {
     "data": {
      "text/html": [
       "<div>\n",
       "<style scoped>\n",
       "    .dataframe tbody tr th:only-of-type {\n",
       "        vertical-align: middle;\n",
       "    }\n",
       "\n",
       "    .dataframe tbody tr th {\n",
       "        vertical-align: top;\n",
       "    }\n",
       "\n",
       "    .dataframe thead th {\n",
       "        text-align: right;\n",
       "    }\n",
       "</style>\n",
       "<table border=\"1\" class=\"dataframe\">\n",
       "  <thead>\n",
       "    <tr style=\"text-align: right;\">\n",
       "      <th></th>\n",
       "      <th>Bedrooms</th>\n",
       "      <th>SqM</th>\n",
       "      <th>Floor</th>\n",
       "      <th>Furnishings</th>\n",
       "      <th>Negotiating</th>\n",
       "      <th>MonthlyPrice</th>\n",
       "      <th>PriceSqM</th>\n",
       "    </tr>\n",
       "  </thead>\n",
       "  <tbody>\n",
       "    <tr>\n",
       "      <th>count</th>\n",
       "      <td>1184.000000</td>\n",
       "      <td>1184.000000</td>\n",
       "      <td>1184.000000</td>\n",
       "      <td>1184.000000</td>\n",
       "      <td>1184.000000</td>\n",
       "      <td>1184.000000</td>\n",
       "      <td>1184.000000</td>\n",
       "    </tr>\n",
       "    <tr>\n",
       "      <th>mean</th>\n",
       "      <td>1.928209</td>\n",
       "      <td>46.187796</td>\n",
       "      <td>2.305743</td>\n",
       "      <td>0.858953</td>\n",
       "      <td>0.259291</td>\n",
       "      <td>2000.709637</td>\n",
       "      <td>45.868643</td>\n",
       "    </tr>\n",
       "    <tr>\n",
       "      <th>std</th>\n",
       "      <td>0.790314</td>\n",
       "      <td>19.435161</td>\n",
       "      <td>2.177523</td>\n",
       "      <td>0.348217</td>\n",
       "      <td>0.438431</td>\n",
       "      <td>6773.925998</td>\n",
       "      <td>157.966874</td>\n",
       "    </tr>\n",
       "    <tr>\n",
       "      <th>min</th>\n",
       "      <td>1.000000</td>\n",
       "      <td>8.000000</td>\n",
       "      <td>0.000000</td>\n",
       "      <td>0.000000</td>\n",
       "      <td>0.000000</td>\n",
       "      <td>15.000000</td>\n",
       "      <td>0.187500</td>\n",
       "    </tr>\n",
       "    <tr>\n",
       "      <th>25%</th>\n",
       "      <td>1.000000</td>\n",
       "      <td>34.000000</td>\n",
       "      <td>1.000000</td>\n",
       "      <td>1.000000</td>\n",
       "      <td>0.000000</td>\n",
       "      <td>1200.000000</td>\n",
       "      <td>28.985507</td>\n",
       "    </tr>\n",
       "    <tr>\n",
       "      <th>50%</th>\n",
       "      <td>2.000000</td>\n",
       "      <td>42.000000</td>\n",
       "      <td>2.000000</td>\n",
       "      <td>1.000000</td>\n",
       "      <td>0.000000</td>\n",
       "      <td>1500.000000</td>\n",
       "      <td>35.416667</td>\n",
       "    </tr>\n",
       "    <tr>\n",
       "      <th>75%</th>\n",
       "      <td>2.000000</td>\n",
       "      <td>54.000000</td>\n",
       "      <td>3.000000</td>\n",
       "      <td>1.000000</td>\n",
       "      <td>1.000000</td>\n",
       "      <td>1830.000000</td>\n",
       "      <td>43.333333</td>\n",
       "    </tr>\n",
       "    <tr>\n",
       "      <th>max</th>\n",
       "      <td>4.000000</td>\n",
       "      <td>220.000000</td>\n",
       "      <td>10.000000</td>\n",
       "      <td>1.000000</td>\n",
       "      <td>1.000000</td>\n",
       "      <td>145180.000000</td>\n",
       "      <td>3629.500000</td>\n",
       "    </tr>\n",
       "  </tbody>\n",
       "</table>\n",
       "</div>"
      ],
      "text/plain": [
       "          Bedrooms          SqM        Floor  Furnishings  Negotiating  \\\n",
       "count  1184.000000  1184.000000  1184.000000  1184.000000  1184.000000   \n",
       "mean      1.928209    46.187796     2.305743     0.858953     0.259291   \n",
       "std       0.790314    19.435161     2.177523     0.348217     0.438431   \n",
       "min       1.000000     8.000000     0.000000     0.000000     0.000000   \n",
       "25%       1.000000    34.000000     1.000000     1.000000     0.000000   \n",
       "50%       2.000000    42.000000     2.000000     1.000000     0.000000   \n",
       "75%       2.000000    54.000000     3.000000     1.000000     1.000000   \n",
       "max       4.000000   220.000000    10.000000     1.000000     1.000000   \n",
       "\n",
       "        MonthlyPrice     PriceSqM  \n",
       "count    1184.000000  1184.000000  \n",
       "mean     2000.709637    45.868643  \n",
       "std      6773.925998   157.966874  \n",
       "min        15.000000     0.187500  \n",
       "25%      1200.000000    28.985507  \n",
       "50%      1500.000000    35.416667  \n",
       "75%      1830.000000    43.333333  \n",
       "max    145180.000000  3629.500000  "
      ]
     },
     "execution_count": 86,
     "metadata": {},
     "output_type": "execute_result"
    }
   ],
   "source": [
    "df_rent.describe()"
   ]
  },
  {
   "cell_type": "markdown",
   "metadata": {},
   "source": [
    "### Choosing types of building we use in the analysis"
   ]
  },
  {
   "cell_type": "markdown",
   "metadata": {},
   "source": [
    "**For Sale:**"
   ]
  },
  {
   "cell_type": "code",
   "execution_count": 87,
   "metadata": {},
   "outputs": [
    {
     "data": {
      "text/plain": [
       "<matplotlib.axes._subplots.AxesSubplot at 0x144a9ba7fc8>"
      ]
     },
     "execution_count": 87,
     "metadata": {},
     "output_type": "execute_result"
    },
    {
     "data": {
      "image/png": "[encoded data removed]",
      "text/plain": [
       "<Figure size 432x288 with 1 Axes>"
      ]
     },
     "metadata": {
      "needs_background": "light"
     },
     "output_type": "display_data"
    }
   ],
   "source": [
    "df_sale.groupby(\n",
    "    'BuildingType')['BuildingType'].value_counts().unstack().plot.barh()"
   ]
  },
  {
   "cell_type": "markdown",
   "metadata": {},
   "source": [
    "**For Rent:**"
   ]
  },
  {
   "cell_type": "code",
   "execution_count": 88,
   "metadata": {
    "scrolled": true
   },
   "outputs": [
    {
     "data": {
      "text/plain": [
       "<matplotlib.axes._subplots.AxesSubplot at 0x144aa4afb08>"
      ]
     },
     "execution_count": 88,
     "metadata": {},
     "output_type": "execute_result"
    },
    {
     "data": {
      "image/png": "[encoded data removed]",
      "text/plain": [
       "<Figure size 432x288 with 1 Axes>"
      ]
     },
     "metadata": {
      "needs_background": "light"
     },
     "output_type": "display_data"
    }
   ],
   "source": [
    "df_rent.groupby(\n",
    "    'BuildingType')['BuildingType'].value_counts().unstack().plot.barh()"
   ]
  },
  {
   "cell_type": "markdown",
   "metadata": {},
   "source": [
    "**For analysis I am going to keep 'flats' as currently, I am interested in just with this type of property**"
   ]
  },
  {
   "cell_type": "code",
   "execution_count": 89,
   "metadata": {},
   "outputs": [],
   "source": [
    "b_type = 'Flat'\n",
    "df_sale2 = df_sale[df_sale.BuildingType == b_type].copy()\n",
    "df_rent2 = df_rent[df_rent.BuildingType == b_type].copy()"
   ]
  },
  {
   "cell_type": "code",
   "execution_count": 90,
   "metadata": {},
   "outputs": [],
   "source": [
    "df_sale2.drop(columns={'BuildingType'}, inplace=True)\n",
    "df_rent2.drop(columns={'BuildingType'}, inplace=True)"
   ]
  },
  {
   "cell_type": "code",
   "execution_count": 91,
   "metadata": {},
   "outputs": [
    {
     "name": "stdout",
     "output_type": "stream",
     "text": [
      "498 - records in \"for sale\" table \n",
      "\n",
      "621 - records in \"for rent\" table\n"
     ]
    }
   ],
   "source": [
    "print(f'{len(df_sale2)} - records in \"for sale\" table \\n')\n",
    "print(f'{len(df_rent2)} - records in \"for rent\" table')"
   ]
  },
  {
   "cell_type": "code",
   "execution_count": 92,
   "metadata": {},
   "outputs": [
    {
     "data": {
      "text/html": [
       "<div>\n",
       "<style scoped>\n",
       "    .dataframe tbody tr th:only-of-type {\n",
       "        vertical-align: middle;\n",
       "    }\n",
       "\n",
       "    .dataframe tbody tr th {\n",
       "        vertical-align: top;\n",
       "    }\n",
       "\n",
       "    .dataframe thead th {\n",
       "        text-align: right;\n",
       "    }\n",
       "</style>\n",
       "<table border=\"1\" class=\"dataframe\">\n",
       "  <thead>\n",
       "    <tr style=\"text-align: right;\">\n",
       "      <th></th>\n",
       "      <th>Price</th>\n",
       "      <th>PriceSqM</th>\n",
       "      <th>Bedrooms</th>\n",
       "      <th>Place</th>\n",
       "      <th>Advert_Owner</th>\n",
       "      <th>SqM</th>\n",
       "      <th>Floor</th>\n",
       "      <th>Market</th>\n",
       "      <th>Furnishings</th>\n",
       "      <th>City</th>\n",
       "      <th>District</th>\n",
       "      <th>Negotiating</th>\n",
       "    </tr>\n",
       "  </thead>\n",
       "  <tbody>\n",
       "    <tr>\n",
       "      <th>1</th>\n",
       "      <td>280000.0</td>\n",
       "      <td>3684.21</td>\n",
       "      <td>4</td>\n",
       "      <td>Rybnik, Śląskie</td>\n",
       "      <td>Private</td>\n",
       "      <td>76.0</td>\n",
       "      <td>1</td>\n",
       "      <td>After</td>\n",
       "      <td>0</td>\n",
       "      <td>Rybnik</td>\n",
       "      <td>Rybnik</td>\n",
       "      <td>1</td>\n",
       "    </tr>\n",
       "    <tr>\n",
       "      <th>5</th>\n",
       "      <td>187000.0</td>\n",
       "      <td>4794.87</td>\n",
       "      <td>2</td>\n",
       "      <td>Rybnik, Śląskie</td>\n",
       "      <td>Developer</td>\n",
       "      <td>39.0</td>\n",
       "      <td>0</td>\n",
       "      <td>After</td>\n",
       "      <td>1</td>\n",
       "      <td>Rybnik</td>\n",
       "      <td>Rybnik</td>\n",
       "      <td>1</td>\n",
       "    </tr>\n",
       "    <tr>\n",
       "      <th>12</th>\n",
       "      <td>189000.0</td>\n",
       "      <td>3417.72</td>\n",
       "      <td>3</td>\n",
       "      <td>Rybnik, Śląskie</td>\n",
       "      <td>Developer</td>\n",
       "      <td>55.3</td>\n",
       "      <td>4</td>\n",
       "      <td>Primary</td>\n",
       "      <td>1</td>\n",
       "      <td>Rybnik</td>\n",
       "      <td>Rybnik</td>\n",
       "      <td>0</td>\n",
       "    </tr>\n",
       "    <tr>\n",
       "      <th>16</th>\n",
       "      <td>143000.0</td>\n",
       "      <td>3575.00</td>\n",
       "      <td>2</td>\n",
       "      <td>Rybnik, Śląskie</td>\n",
       "      <td>Developer</td>\n",
       "      <td>40.0</td>\n",
       "      <td>0</td>\n",
       "      <td>After</td>\n",
       "      <td>0</td>\n",
       "      <td>Rybnik</td>\n",
       "      <td>Rybnik</td>\n",
       "      <td>1</td>\n",
       "    </tr>\n",
       "    <tr>\n",
       "      <th>25</th>\n",
       "      <td>280000.0</td>\n",
       "      <td>3684.21</td>\n",
       "      <td>4</td>\n",
       "      <td>Rybnik, Śląskie</td>\n",
       "      <td>Private</td>\n",
       "      <td>76.0</td>\n",
       "      <td>1</td>\n",
       "      <td>After</td>\n",
       "      <td>0</td>\n",
       "      <td>Rybnik</td>\n",
       "      <td>Rybnik</td>\n",
       "      <td>1</td>\n",
       "    </tr>\n",
       "  </tbody>\n",
       "</table>\n",
       "</div>"
      ],
      "text/plain": [
       "       Price  PriceSqM  Bedrooms            Place Advert_Owner   SqM  Floor  \\\n",
       "1   280000.0   3684.21         4  Rybnik, Śląskie      Private  76.0      1   \n",
       "5   187000.0   4794.87         2  Rybnik, Śląskie    Developer  39.0      0   \n",
       "12  189000.0   3417.72         3  Rybnik, Śląskie    Developer  55.3      4   \n",
       "16  143000.0   3575.00         2  Rybnik, Śląskie    Developer  40.0      0   \n",
       "25  280000.0   3684.21         4  Rybnik, Śląskie      Private  76.0      1   \n",
       "\n",
       "     Market  Furnishings    City District  Negotiating  \n",
       "1     After            0  Rybnik   Rybnik            1  \n",
       "5     After            1  Rybnik   Rybnik            1  \n",
       "12  Primary            1  Rybnik   Rybnik            0  \n",
       "16    After            0  Rybnik   Rybnik            1  \n",
       "25    After            0  Rybnik   Rybnik            1  "
      ]
     },
     "execution_count": 92,
     "metadata": {},
     "output_type": "execute_result"
    }
   ],
   "source": [
    "df_sale2.head()"
   ]
  },
  {
   "cell_type": "code",
   "execution_count": 93,
   "metadata": {},
   "outputs": [
    {
     "data": {
      "text/html": [
       "<div>\n",
       "<style scoped>\n",
       "    .dataframe tbody tr th:only-of-type {\n",
       "        vertical-align: middle;\n",
       "    }\n",
       "\n",
       "    .dataframe tbody tr th {\n",
       "        vertical-align: top;\n",
       "    }\n",
       "\n",
       "    .dataframe thead th {\n",
       "        text-align: right;\n",
       "    }\n",
       "</style>\n",
       "<table border=\"1\" class=\"dataframe\">\n",
       "  <thead>\n",
       "    <tr style=\"text-align: right;\">\n",
       "      <th></th>\n",
       "      <th>Bedrooms</th>\n",
       "      <th>Place</th>\n",
       "      <th>Advert_Owner</th>\n",
       "      <th>SqM</th>\n",
       "      <th>Floor</th>\n",
       "      <th>Furnishings</th>\n",
       "      <th>City</th>\n",
       "      <th>District</th>\n",
       "      <th>Negotiating</th>\n",
       "      <th>MonthlyPrice</th>\n",
       "      <th>PriceSqM</th>\n",
       "    </tr>\n",
       "  </thead>\n",
       "  <tbody>\n",
       "    <tr>\n",
       "      <th>3</th>\n",
       "      <td>2</td>\n",
       "      <td>Rybnik, Śląskie</td>\n",
       "      <td>Developer</td>\n",
       "      <td>50.00</td>\n",
       "      <td>1</td>\n",
       "      <td>1</td>\n",
       "      <td>Rybnik</td>\n",
       "      <td>Rybnik</td>\n",
       "      <td>1</td>\n",
       "      <td>1900.0</td>\n",
       "      <td>38.000000</td>\n",
       "    </tr>\n",
       "    <tr>\n",
       "      <th>4</th>\n",
       "      <td>2</td>\n",
       "      <td>Rybnik, Śląskie</td>\n",
       "      <td>Developer</td>\n",
       "      <td>66.00</td>\n",
       "      <td>4</td>\n",
       "      <td>1</td>\n",
       "      <td>Rybnik</td>\n",
       "      <td>Rybnik</td>\n",
       "      <td>0</td>\n",
       "      <td>2200.0</td>\n",
       "      <td>33.333333</td>\n",
       "    </tr>\n",
       "    <tr>\n",
       "      <th>6</th>\n",
       "      <td>1</td>\n",
       "      <td>Rybnik, Śląskie</td>\n",
       "      <td>Private</td>\n",
       "      <td>45.00</td>\n",
       "      <td>1</td>\n",
       "      <td>1</td>\n",
       "      <td>Rybnik</td>\n",
       "      <td>Rybnik</td>\n",
       "      <td>1</td>\n",
       "      <td>1199.0</td>\n",
       "      <td>26.644444</td>\n",
       "    </tr>\n",
       "    <tr>\n",
       "      <th>10</th>\n",
       "      <td>1</td>\n",
       "      <td>Rybnik, Śląskie</td>\n",
       "      <td>Developer</td>\n",
       "      <td>28.00</td>\n",
       "      <td>1</td>\n",
       "      <td>0</td>\n",
       "      <td>Rybnik</td>\n",
       "      <td>Rybnik</td>\n",
       "      <td>1</td>\n",
       "      <td>980.0</td>\n",
       "      <td>35.000000</td>\n",
       "    </tr>\n",
       "    <tr>\n",
       "      <th>15</th>\n",
       "      <td>3</td>\n",
       "      <td>Rybnik, Śląskie</td>\n",
       "      <td>Developer</td>\n",
       "      <td>62.65</td>\n",
       "      <td>2</td>\n",
       "      <td>1</td>\n",
       "      <td>Rybnik</td>\n",
       "      <td>Rybnik</td>\n",
       "      <td>0</td>\n",
       "      <td>1600.0</td>\n",
       "      <td>25.538707</td>\n",
       "    </tr>\n",
       "  </tbody>\n",
       "</table>\n",
       "</div>"
      ],
      "text/plain": [
       "    Bedrooms            Place Advert_Owner    SqM  Floor  Furnishings    City  \\\n",
       "3          2  Rybnik, Śląskie    Developer  50.00      1            1  Rybnik   \n",
       "4          2  Rybnik, Śląskie    Developer  66.00      4            1  Rybnik   \n",
       "6          1  Rybnik, Śląskie      Private  45.00      1            1  Rybnik   \n",
       "10         1  Rybnik, Śląskie    Developer  28.00      1            0  Rybnik   \n",
       "15         3  Rybnik, Śląskie    Developer  62.65      2            1  Rybnik   \n",
       "\n",
       "   District  Negotiating  MonthlyPrice   PriceSqM  \n",
       "3    Rybnik            1        1900.0  38.000000  \n",
       "4    Rybnik            0        2200.0  33.333333  \n",
       "6    Rybnik            1        1199.0  26.644444  \n",
       "10   Rybnik            1         980.0  35.000000  \n",
       "15   Rybnik            0        1600.0  25.538707  "
      ]
     },
     "execution_count": 93,
     "metadata": {},
     "output_type": "execute_result"
    }
   ],
   "source": [
    "df_rent2.head()"
   ]
  },
  {
   "cell_type": "markdown",
   "metadata": {},
   "source": [
    "### Price checking: \n",
    "Remove prices which are 3 times higher/lower than a median per city, as I do not want to see flats with custom prices."
   ]
  },
  {
   "cell_type": "code",
   "execution_count": 94,
   "metadata": {},
   "outputs": [],
   "source": [
    "from IPython.core.display import display, HTML\n",
    "import matplotlib\n",
    "%matplotlib inline"
   ]
  },
  {
   "cell_type": "code",
   "execution_count": 95,
   "metadata": {},
   "outputs": [
    {
     "data": {
      "text/html": [
       "<style>div.output_scroll { height: 44em; }</style>"
      ],
      "text/plain": [
       "<IPython.core.display.HTML object>"
      ]
     },
     "metadata": {},
     "output_type": "display_data"
    }
   ],
   "source": [
    "display(HTML(\"<style>div.output_scroll { height: 44em; }</style>\"))"
   ]
  },
  {
   "cell_type": "code",
   "execution_count": 96,
   "metadata": {},
   "outputs": [],
   "source": [
    "def PriceSqM_loop(tbl):\n",
    "    for index, rows in tbl.groupby('City')['PriceSqM'].mean().reset_index(\n",
    "    ).sort_values('PriceSqM').iterrows():\n",
    "        arr_City.append(rows.City)\n",
    "        arr_PriceSqM.append(rows.PriceSqM)\n",
    "    return arr_City, arr_PriceSqM"
   ]
  },
  {
   "cell_type": "code",
   "execution_count": 97,
   "metadata": {},
   "outputs": [],
   "source": [
    "def PriceSqM_Plot(label1, label2, title_txt):\n",
    "    index = np.arange(len(label1))\n",
    "    plt.plot(index, label2)\n",
    "    plt.rcParams['figure.figsize'] = (12, 8)\n",
    "    #plt.xlabel('', fontsize=10)\n",
    "    plt.ylabel('PLN / SQM', fontsize=10)\n",
    "    plt.xticks(index, label1, fontsize=10, rotation=50)\n",
    "    plt.title(title_txt)\n",
    "    plt.show()"
   ]
  },
  {
   "cell_type": "code",
   "execution_count": 98,
   "metadata": {
    "scrolled": true
   },
   "outputs": [
    {
     "data": {
      "image/png": "[encoded data removed]",
      "text/plain": [
       "<Figure size 432x288 with 1 Axes>"
      ]
     },
     "metadata": {
      "needs_background": "light"
     },
     "output_type": "display_data"
    }
   ],
   "source": [
    "arr_City = []\n",
    "arr_PriceSqM = []\n",
    "arr_title = \"Price Square Meter for City. 'For Rent' table - average\"\n",
    "PriceSqM_loop(df_rent2)\n",
    "PriceSqM_Plot(arr_City, arr_PriceSqM, arr_title)"
   ]
  },
  {
   "cell_type": "markdown",
   "metadata": {},
   "source": [
    "As we can see below, we have some flats which have much bigger price per SqM than the other flats in Bytom"
   ]
  },
  {
   "cell_type": "code",
   "execution_count": 99,
   "metadata": {},
   "outputs": [
    {
     "data": {
      "text/html": [
       "<div>\n",
       "<style scoped>\n",
       "    .dataframe tbody tr th:only-of-type {\n",
       "        vertical-align: middle;\n",
       "    }\n",
       "\n",
       "    .dataframe tbody tr th {\n",
       "        vertical-align: top;\n",
       "    }\n",
       "\n",
       "    .dataframe thead th {\n",
       "        text-align: right;\n",
       "    }\n",
       "</style>\n",
       "<table border=\"1\" class=\"dataframe\">\n",
       "  <thead>\n",
       "    <tr style=\"text-align: right;\">\n",
       "      <th></th>\n",
       "      <th>Bedrooms</th>\n",
       "      <th>SqM</th>\n",
       "      <th>Floor</th>\n",
       "      <th>Furnishings</th>\n",
       "      <th>Negotiating</th>\n",
       "      <th>MonthlyPrice</th>\n",
       "      <th>PriceSqM</th>\n",
       "    </tr>\n",
       "  </thead>\n",
       "  <tbody>\n",
       "    <tr>\n",
       "      <th>count</th>\n",
       "      <td>43.000000</td>\n",
       "      <td>43.000000</td>\n",
       "      <td>43.000000</td>\n",
       "      <td>43.000000</td>\n",
       "      <td>43.000000</td>\n",
       "      <td>43.000000</td>\n",
       "      <td>43.000000</td>\n",
       "    </tr>\n",
       "    <tr>\n",
       "      <th>mean</th>\n",
       "      <td>1.651163</td>\n",
       "      <td>35.920930</td>\n",
       "      <td>2.325581</td>\n",
       "      <td>0.744186</td>\n",
       "      <td>0.162791</td>\n",
       "      <td>7968.837209</td>\n",
       "      <td>203.641257</td>\n",
       "    </tr>\n",
       "    <tr>\n",
       "      <th>std</th>\n",
       "      <td>0.482243</td>\n",
       "      <td>6.951004</td>\n",
       "      <td>2.337285</td>\n",
       "      <td>0.441481</td>\n",
       "      <td>0.373544</td>\n",
       "      <td>30665.451612</td>\n",
       "      <td>765.666166</td>\n",
       "    </tr>\n",
       "    <tr>\n",
       "      <th>min</th>\n",
       "      <td>1.000000</td>\n",
       "      <td>20.000000</td>\n",
       "      <td>0.000000</td>\n",
       "      <td>0.000000</td>\n",
       "      <td>0.000000</td>\n",
       "      <td>770.000000</td>\n",
       "      <td>22.000000</td>\n",
       "    </tr>\n",
       "    <tr>\n",
       "      <th>25%</th>\n",
       "      <td>1.000000</td>\n",
       "      <td>32.000000</td>\n",
       "      <td>1.000000</td>\n",
       "      <td>0.500000</td>\n",
       "      <td>0.000000</td>\n",
       "      <td>1100.000000</td>\n",
       "      <td>30.975452</td>\n",
       "    </tr>\n",
       "    <tr>\n",
       "      <th>50%</th>\n",
       "      <td>2.000000</td>\n",
       "      <td>37.000000</td>\n",
       "      <td>2.000000</td>\n",
       "      <td>1.000000</td>\n",
       "      <td>0.000000</td>\n",
       "      <td>1200.000000</td>\n",
       "      <td>35.294118</td>\n",
       "    </tr>\n",
       "    <tr>\n",
       "      <th>75%</th>\n",
       "      <td>2.000000</td>\n",
       "      <td>39.500000</td>\n",
       "      <td>4.000000</td>\n",
       "      <td>1.000000</td>\n",
       "      <td>0.000000</td>\n",
       "      <td>1475.000000</td>\n",
       "      <td>42.598784</td>\n",
       "    </tr>\n",
       "    <tr>\n",
       "      <th>max</th>\n",
       "      <td>2.000000</td>\n",
       "      <td>50.000000</td>\n",
       "      <td>10.000000</td>\n",
       "      <td>1.000000</td>\n",
       "      <td>1.000000</td>\n",
       "      <td>145180.000000</td>\n",
       "      <td>3629.500000</td>\n",
       "    </tr>\n",
       "  </tbody>\n",
       "</table>\n",
       "</div>"
      ],
      "text/plain": [
       "        Bedrooms        SqM      Floor  Furnishings  Negotiating  \\\n",
       "count  43.000000  43.000000  43.000000    43.000000    43.000000   \n",
       "mean    1.651163  35.920930   2.325581     0.744186     0.162791   \n",
       "std     0.482243   6.951004   2.337285     0.441481     0.373544   \n",
       "min     1.000000  20.000000   0.000000     0.000000     0.000000   \n",
       "25%     1.000000  32.000000   1.000000     0.500000     0.000000   \n",
       "50%     2.000000  37.000000   2.000000     1.000000     0.000000   \n",
       "75%     2.000000  39.500000   4.000000     1.000000     0.000000   \n",
       "max     2.000000  50.000000  10.000000     1.000000     1.000000   \n",
       "\n",
       "        MonthlyPrice     PriceSqM  \n",
       "count      43.000000    43.000000  \n",
       "mean     7968.837209   203.641257  \n",
       "std     30665.451612   765.666166  \n",
       "min       770.000000    22.000000  \n",
       "25%      1100.000000    30.975452  \n",
       "50%      1200.000000    35.294118  \n",
       "75%      1475.000000    42.598784  \n",
       "max    145180.000000  3629.500000  "
      ]
     },
     "execution_count": 99,
     "metadata": {},
     "output_type": "execute_result"
    }
   ],
   "source": [
    "df_rent2[df_rent2.City == 'Bytom'].describe()"
   ]
  },
  {
   "cell_type": "markdown",
   "metadata": {},
   "source": [
    "Create a function where price for SQM cannot be higher than 3 times more than median for each city"
   ]
  },
  {
   "cell_type": "code",
   "execution_count": 100,
   "metadata": {},
   "outputs": [],
   "source": [
    "def avg_price(tbl, city):\n",
    "    return tbl[tbl.District == city].groupby(\n",
    "        'District')['PriceSqM'].median().values[0]"
   ]
  },
  {
   "cell_type": "code",
   "execution_count": 101,
   "metadata": {},
   "outputs": [],
   "source": [
    "df_rent2['avg_price'] = df_rent2.apply(\n",
    "    lambda x: avg_price(df_rent2, df_rent2['City']) * 3, axis=1)"
   ]
  },
  {
   "cell_type": "code",
   "execution_count": 102,
   "metadata": {},
   "outputs": [
    {
     "data": {
      "text/html": [
       "<div>\n",
       "<style scoped>\n",
       "    .dataframe tbody tr th:only-of-type {\n",
       "        vertical-align: middle;\n",
       "    }\n",
       "\n",
       "    .dataframe tbody tr th {\n",
       "        vertical-align: top;\n",
       "    }\n",
       "\n",
       "    .dataframe thead th {\n",
       "        text-align: right;\n",
       "    }\n",
       "</style>\n",
       "<table border=\"1\" class=\"dataframe\">\n",
       "  <thead>\n",
       "    <tr style=\"text-align: right;\">\n",
       "      <th></th>\n",
       "      <th>Bedrooms</th>\n",
       "      <th>Place</th>\n",
       "      <th>Advert_Owner</th>\n",
       "      <th>SqM</th>\n",
       "      <th>Floor</th>\n",
       "      <th>Furnishings</th>\n",
       "      <th>City</th>\n",
       "      <th>District</th>\n",
       "      <th>Negotiating</th>\n",
       "      <th>MonthlyPrice</th>\n",
       "      <th>PriceSqM</th>\n",
       "      <th>avg_price</th>\n",
       "    </tr>\n",
       "  </thead>\n",
       "  <tbody>\n",
       "    <tr>\n",
       "      <th>311</th>\n",
       "      <td>3</td>\n",
       "      <td>Chorzów, Śląskie</td>\n",
       "      <td>Private</td>\n",
       "      <td>60.00</td>\n",
       "      <td>2</td>\n",
       "      <td>1</td>\n",
       "      <td>Chorzów</td>\n",
       "      <td>Chorzów</td>\n",
       "      <td>0</td>\n",
       "      <td>20850.0</td>\n",
       "      <td>347.500000</td>\n",
       "      <td>105.882353</td>\n",
       "    </tr>\n",
       "    <tr>\n",
       "      <th>339</th>\n",
       "      <td>1</td>\n",
       "      <td>Chorzów, Śląskie</td>\n",
       "      <td>Developer</td>\n",
       "      <td>36.00</td>\n",
       "      <td>1</td>\n",
       "      <td>1</td>\n",
       "      <td>Chorzów</td>\n",
       "      <td>Chorzów</td>\n",
       "      <td>1</td>\n",
       "      <td>7435.0</td>\n",
       "      <td>206.527778</td>\n",
       "      <td>105.882353</td>\n",
       "    </tr>\n",
       "    <tr>\n",
       "      <th>881</th>\n",
       "      <td>3</td>\n",
       "      <td>Gliwice, Śląskie, Szobiszowice</td>\n",
       "      <td>Developer</td>\n",
       "      <td>58.50</td>\n",
       "      <td>1</td>\n",
       "      <td>1</td>\n",
       "      <td>Gliwice</td>\n",
       "      <td>Gliwice, Szobiszowice</td>\n",
       "      <td>1</td>\n",
       "      <td>98999.0</td>\n",
       "      <td>1692.290598</td>\n",
       "      <td>105.882353</td>\n",
       "    </tr>\n",
       "    <tr>\n",
       "      <th>1207</th>\n",
       "      <td>4</td>\n",
       "      <td>Zabrze, Śląskie</td>\n",
       "      <td>Developer</td>\n",
       "      <td>8.00</td>\n",
       "      <td>0</td>\n",
       "      <td>1</td>\n",
       "      <td>Zabrze</td>\n",
       "      <td>Zabrze</td>\n",
       "      <td>1</td>\n",
       "      <td>850.0</td>\n",
       "      <td>106.250000</td>\n",
       "      <td>105.882353</td>\n",
       "    </tr>\n",
       "    <tr>\n",
       "      <th>1428</th>\n",
       "      <td>2</td>\n",
       "      <td>Knurów, gliwicki, Śląskie</td>\n",
       "      <td>Developer</td>\n",
       "      <td>52.15</td>\n",
       "      <td>2</td>\n",
       "      <td>1</td>\n",
       "      <td>Knurów</td>\n",
       "      <td>Knurów</td>\n",
       "      <td>0</td>\n",
       "      <td>20935.0</td>\n",
       "      <td>401.438159</td>\n",
       "      <td>105.882353</td>\n",
       "    </tr>\n",
       "    <tr>\n",
       "      <th>1538</th>\n",
       "      <td>2</td>\n",
       "      <td>Bytom, Śląskie</td>\n",
       "      <td>Developer</td>\n",
       "      <td>40.00</td>\n",
       "      <td>1</td>\n",
       "      <td>0</td>\n",
       "      <td>Bytom</td>\n",
       "      <td>Bytom</td>\n",
       "      <td>0</td>\n",
       "      <td>145180.0</td>\n",
       "      <td>3629.500000</td>\n",
       "      <td>105.882353</td>\n",
       "    </tr>\n",
       "    <tr>\n",
       "      <th>1556</th>\n",
       "      <td>2</td>\n",
       "      <td>Bytom, Śląskie</td>\n",
       "      <td>Developer</td>\n",
       "      <td>40.00</td>\n",
       "      <td>1</td>\n",
       "      <td>0</td>\n",
       "      <td>Bytom</td>\n",
       "      <td>Bytom</td>\n",
       "      <td>0</td>\n",
       "      <td>145180.0</td>\n",
       "      <td>3629.500000</td>\n",
       "      <td>105.882353</td>\n",
       "    </tr>\n",
       "  </tbody>\n",
       "</table>\n",
       "</div>"
      ],
      "text/plain": [
       "      Bedrooms                           Place Advert_Owner    SqM  Floor  \\\n",
       "311          3                Chorzów, Śląskie      Private  60.00      2   \n",
       "339          1                Chorzów, Śląskie    Developer  36.00      1   \n",
       "881          3  Gliwice, Śląskie, Szobiszowice    Developer  58.50      1   \n",
       "1207         4                 Zabrze, Śląskie    Developer   8.00      0   \n",
       "1428         2       Knurów, gliwicki, Śląskie    Developer  52.15      2   \n",
       "1538         2                  Bytom, Śląskie    Developer  40.00      1   \n",
       "1556         2                  Bytom, Śląskie    Developer  40.00      1   \n",
       "\n",
       "      Furnishings     City               District  Negotiating  MonthlyPrice  \\\n",
       "311             1  Chorzów                Chorzów            0       20850.0   \n",
       "339             1  Chorzów                Chorzów            1        7435.0   \n",
       "881             1  Gliwice  Gliwice, Szobiszowice            1       98999.0   \n",
       "1207            1   Zabrze                 Zabrze            1         850.0   \n",
       "1428            1   Knurów                 Knurów            0       20935.0   \n",
       "1538            0    Bytom                  Bytom            0      145180.0   \n",
       "1556            0    Bytom                  Bytom            0      145180.0   \n",
       "\n",
       "         PriceSqM   avg_price  \n",
       "311    347.500000  105.882353  \n",
       "339    206.527778  105.882353  \n",
       "881   1692.290598  105.882353  \n",
       "1207   106.250000  105.882353  \n",
       "1428   401.438159  105.882353  \n",
       "1538  3629.500000  105.882353  \n",
       "1556  3629.500000  105.882353  "
      ]
     },
     "execution_count": 102,
     "metadata": {},
     "output_type": "execute_result"
    }
   ],
   "source": [
    "# This is what we want to remove:\n",
    "df_rent2[df_rent2.PriceSqM > df_rent2.avg_price]"
   ]
  },
  {
   "cell_type": "code",
   "execution_count": 103,
   "metadata": {},
   "outputs": [],
   "source": [
    "df_rent3 = df_rent2.drop(\n",
    "    df_rent2[(df_rent2.PriceSqM > df_rent2.avg_price)].index)"
   ]
  },
  {
   "cell_type": "code",
   "execution_count": 104,
   "metadata": {},
   "outputs": [],
   "source": [
    "df_rent3.drop(columns={'avg_price'}, inplace=True)"
   ]
  },
  {
   "cell_type": "code",
   "execution_count": 105,
   "metadata": {
    "scrolled": true
   },
   "outputs": [
    {
     "data": {
      "text/html": [
       "<style>div.output_scroll { height: 44em; }</style>"
      ],
      "text/plain": [
       "<IPython.core.display.HTML object>"
      ]
     },
     "metadata": {},
     "output_type": "display_data"
    },
    {
     "data": {
      "image/png": "[encoded data removed]",
      "text/plain": [
       "<Figure size 864x576 with 1 Axes>"
      ]
     },
     "metadata": {
      "needs_background": "light"
     },
     "output_type": "display_data"
    }
   ],
   "source": [
    "display(HTML(\"<style>div.output_scroll { height: 44em; }</style>\"))\n",
    "arr_City = []\n",
    "arr_PriceSqM = []\n",
    "arr_title = \"Average Square Meter Price for Cities: 'For Rent' table\"\n",
    "PriceSqM_loop(df_rent3)\n",
    "PriceSqM_Plot(arr_City, arr_PriceSqM, arr_title)"
   ]
  },
  {
   "cell_type": "markdown",
   "metadata": {},
   "source": [
    "Now it looks much better"
   ]
  },
  {
   "cell_type": "markdown",
   "metadata": {},
   "source": [
    "**For Sale**"
   ]
  },
  {
   "cell_type": "code",
   "execution_count": 106,
   "metadata": {},
   "outputs": [],
   "source": [
    "df_sale2['avg_price'] = df_sale2.apply(\n",
    "    lambda x: avg_price(df_sale2, df_sale2['City']) * 3, axis=1)"
   ]
  },
  {
   "cell_type": "code",
   "execution_count": 107,
   "metadata": {},
   "outputs": [],
   "source": [
    "df_sale3 = df_sale2.drop(\n",
    "    df_sale2[(df_sale2.PriceSqM > df_sale2.avg_price)].index)\n",
    "df_sale3.drop(columns={'avg_price'}, inplace=True)"
   ]
  },
  {
   "cell_type": "code",
   "execution_count": 108,
   "metadata": {
    "scrolled": true
   },
   "outputs": [
    {
     "data": {
      "text/html": [
       "<style>div.output_scroll { height: 44em; }</style>"
      ],
      "text/plain": [
       "<IPython.core.display.HTML object>"
      ]
     },
     "metadata": {},
     "output_type": "display_data"
    },
    {
     "data": {
      "image/png": "[encoded data removed]",
      "text/plain": [
       "<Figure size 864x576 with 1 Axes>"
      ]
     },
     "metadata": {
      "needs_background": "light"
     },
     "output_type": "display_data"
    }
   ],
   "source": [
    "display(HTML(\"<style>div.output_scroll { height: 44em; }</style>\"))\n",
    "arr_City = []\n",
    "arr_PriceSqM = []\n",
    "arr_title = \"Average Square Meter Price for Cities: 'For Sale' table\"\n",
    "PriceSqM_loop(df_sale3)\n",
    "PriceSqM_Plot(arr_City, arr_PriceSqM, arr_title)"
   ]
  },
  {
   "cell_type": "markdown",
   "metadata": {},
   "source": [
    "**The tables with properties, both for sale and for rent are clean and ready for analyzing.**\n",
    "\n",
    "**Short Conclusions:**\n",
    "\n",
    "We can see that in three cities we have the highest SQM price no matter is it an offer for sale or for rent. Those cities:\n",
    "\n",
    "- Tychy, \n",
    "- Gliwice \n",
    "- Katowice \n",
    "\n",
    "In my city (Wodzisław Śląski) buying a flat is more profitable than rent it"
   ]
  },
  {
   "cell_type": "markdown",
   "metadata": {},
   "source": [
    "## Analysis"
   ]
  },
  {
   "cell_type": "markdown",
   "metadata": {},
   "source": [
    "### Map with our cities (folium library)\n",
    "I have created a file with cities and coordinates"
   ]
  },
  {
   "cell_type": "code",
   "execution_count": 151,
   "metadata": {},
   "outputs": [],
   "source": [
    "location = pd.read_csv(location_list, sep=';', encoding='windows-1250')"
   ]
  },
  {
   "cell_type": "code",
   "execution_count": 152,
   "metadata": {},
   "outputs": [
    {
     "data": {
      "text/html": [
       "<div>\n",
       "<style scoped>\n",
       "    .dataframe tbody tr th:only-of-type {\n",
       "        vertical-align: middle;\n",
       "    }\n",
       "\n",
       "    .dataframe tbody tr th {\n",
       "        vertical-align: top;\n",
       "    }\n",
       "\n",
       "    .dataframe thead th {\n",
       "        text-align: right;\n",
       "    }\n",
       "</style>\n",
       "<table border=\"1\" class=\"dataframe\">\n",
       "  <thead>\n",
       "    <tr style=\"text-align: right;\">\n",
       "      <th></th>\n",
       "      <th>City</th>\n",
       "      <th>Location</th>\n",
       "    </tr>\n",
       "  </thead>\n",
       "  <tbody>\n",
       "    <tr>\n",
       "      <th>0</th>\n",
       "      <td>Rybnik</td>\n",
       "      <td>[50.094339, 18.547365]</td>\n",
       "    </tr>\n",
       "    <tr>\n",
       "      <th>1</th>\n",
       "      <td>Chorzów</td>\n",
       "      <td>[50.296975, 18.957579]</td>\n",
       "    </tr>\n",
       "  </tbody>\n",
       "</table>\n",
       "</div>"
      ],
      "text/plain": [
       "      City                Location\n",
       "0   Rybnik  [50.094339, 18.547365]\n",
       "1  Chorzów  [50.296975, 18.957579]"
      ]
     },
     "execution_count": 152,
     "metadata": {},
     "output_type": "execute_result"
    }
   ],
   "source": [
    "location.head(2)"
   ]
  },
  {
   "cell_type": "code",
   "execution_count": 153,
   "metadata": {},
   "outputs": [],
   "source": [
    "df_cities = df_sale[['City']].drop_duplicates()"
   ]
  },
  {
   "cell_type": "code",
   "execution_count": 154,
   "metadata": {},
   "outputs": [],
   "source": [
    "df_cities = df_cities.merge(location, on='City', how='inner')"
   ]
  },
  {
   "cell_type": "code",
   "execution_count": 155,
   "metadata": {},
   "outputs": [],
   "source": [
    "for column in df_cities.columns:\n",
    "    df_cities[column] = (df_cities[column].astype(\"str\")\n",
    "                            .str.replace(\"ł\", \"l\")\n",
    "                            .str.replace(\"Ł\", \"L\")\n",
    "                            .str.normalize('NFKD')\n",
    "                            .str.encode('ascii', errors='ignore')\n",
    "                            .str.decode('utf-8'))"
   ]
  },
  {
   "cell_type": "code",
   "execution_count": 163,
   "metadata": {},
   "outputs": [],
   "source": [
    "city_list = []\n",
    "for city in range(len(df_cities)):\n",
    "    city_list.append(df_cities.iloc[city, 0])\n",
    "    city_list.append(df_cities.iloc[city, 1])"
   ]
  },
  {
   "cell_type": "code",
   "execution_count": 165,
   "metadata": {},
   "outputs": [],
   "source": [
    "import folium"
   ]
  },
  {
   "cell_type": "code",
   "execution_count": 166,
   "metadata": {},
   "outputs": [],
   "source": [
    "map = folium.Map(location=[50.226329, 19.019543], zoom_start=9.4)"
   ]
  },
  {
   "cell_type": "code",
   "execution_count": 167,
   "metadata": {},
   "outputs": [],
   "source": [
    "def add_location(city,lat,lon):\n",
    "    tooltip = 'Click for more info'\n",
    "    folium.Marker([lat,lon],\n",
    "                  popup='<strong>'+city+'</strong>',\n",
    "                 tooltip=tooltip).add_to(map)"
   ]
  },
  {
   "cell_type": "code",
   "execution_count": 168,
   "metadata": {},
   "outputs": [],
   "source": [
    "for x in range(len(city_list)):\n",
    "    if (x % 2 == 0):\n",
    "        city = city_list[x]\n",
    "        loc = city_list[x+1]\n",
    "        lat = float(loc.strip(',')[1:10])\n",
    "        lon = float(loc.strip(',')[12:21])\n",
    "    add_location(city,lat,lon)"
   ]
  },
  {
   "cell_type": "code",
   "execution_count": 169,
   "metadata": {},
   "outputs": [
    {
     "data": {
      "text/html": [
       "<div style=\"width:100%;\"><div style=\"position:relative;width:100%;height:0;padding-bottom:60%;\"><iframe src=\"about:blank\" style=\"position:absolute;width:100%;height:100%;left:0;top:0;border:none !important;\" data-html=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 onload=\"this.contentDocument.open();this.contentDocument.write(atob(this.getAttribute('data-html')));this.contentDocument.close();\" allowfullscreen webkitallowfullscreen mozallowfullscreen></iframe></div></div>"
      ],
      "text/plain": [
       "<folium.folium.Map at 0x144ace2cfc8>"
      ]
     },
     "execution_count": 169,
     "metadata": {},
     "output_type": "execute_result"
    }
   ],
   "source": [
    "map"
   ]
  },
  {
   "cell_type": "markdown",
   "metadata": {},
   "source": [
    "### Distance between cities\n",
    "\n",
    "I want to know what will be my cost for traveling depends on my starting point. Of course, Katowice will by my final destination. "
   ]
  },
  {
   "cell_type": "code",
   "execution_count": 170,
   "metadata": {},
   "outputs": [],
   "source": [
    "import math"
   ]
  },
  {
   "cell_type": "code",
   "execution_count": 171,
   "metadata": {},
   "outputs": [],
   "source": [
    "R = 6373.0 # radius of the Earth"
   ]
  },
  {
   "cell_type": "markdown",
   "metadata": {},
   "source": [
    "Coordinates for Katowice:\n",
    "> **Warning:** Coordinates must be converted to radians for the calculations to be correct."
   ]
  },
  {
   "cell_type": "code",
   "execution_count": 172,
   "metadata": {},
   "outputs": [],
   "source": [
    "kato_lat = float(location[(location.City=='Katowice')].iloc[0,1][1:10])\n",
    "kato_lon = float(location[(location.City=='Katowice')].iloc[0,1][12:21])\n",
    "\n",
    "lat1 = math.radians(kato_lat)\n",
    "lon1 = math.radians(kato_lon)"
   ]
  },
  {
   "cell_type": "markdown",
   "metadata": {},
   "source": [
    "This function will calculate distances between the cities:"
   ]
  },
  {
   "cell_type": "code",
   "execution_count": 173,
   "metadata": {},
   "outputs": [],
   "source": [
    "def distance_calc(city):\n",
    "    city_lat = float(location[(location.City==city)].iloc[0,1][1:10])\n",
    "    city_lon = float(location[(location.City==city)].iloc[0,1][12:21])\n",
    "\n",
    "    lat2 = math.radians(city_lat)\n",
    "    lon2 = math.radians(city_lon)\n",
    "    \n",
    "    # change in coordinates\n",
    "    dlon = lon2 - lon1\n",
    "    dlat = lat2 - lat1\n",
    "    \n",
    "    # Haversine formula\n",
    "    a = math.sin(dlat / 2)**2 + math.cos(lat1) * math.cos(lat2) * math.sin(dlon / 2)**2\n",
    "\n",
    "    c = 2 * math.atan2(math.sqrt(a), math.sqrt(1 - a))\n",
    "    distance = R * c\n",
    "    return distance"
   ]
  },
  {
   "cell_type": "markdown",
   "metadata": {},
   "source": [
    "A new column with distances:"
   ]
  },
  {
   "cell_type": "code",
   "execution_count": 174,
   "metadata": {},
   "outputs": [],
   "source": [
    "df1 = location[['City']].copy()"
   ]
  },
  {
   "cell_type": "code",
   "execution_count": 175,
   "metadata": {},
   "outputs": [],
   "source": [
    "df1['Distance'] = location.apply(lambda x: distance_calc(x.City),axis=1) # from a city to Katowice"
   ]
  },
  {
   "cell_type": "code",
   "execution_count": 176,
   "metadata": {},
   "outputs": [
    {
     "data": {
      "text/html": [
       "<div>\n",
       "<style scoped>\n",
       "    .dataframe tbody tr th:only-of-type {\n",
       "        vertical-align: middle;\n",
       "    }\n",
       "\n",
       "    .dataframe tbody tr th {\n",
       "        vertical-align: top;\n",
       "    }\n",
       "\n",
       "    .dataframe thead th {\n",
       "        text-align: right;\n",
       "    }\n",
       "</style>\n",
       "<table border=\"1\" class=\"dataframe\">\n",
       "  <thead>\n",
       "    <tr style=\"text-align: right;\">\n",
       "      <th></th>\n",
       "      <th>City</th>\n",
       "      <th>Distance</th>\n",
       "    </tr>\n",
       "  </thead>\n",
       "  <tbody>\n",
       "    <tr>\n",
       "      <th>0</th>\n",
       "      <td>Rybnik</td>\n",
       "      <td>39.284325</td>\n",
       "    </tr>\n",
       "    <tr>\n",
       "      <th>1</th>\n",
       "      <td>Chorzów</td>\n",
       "      <td>6.703432</td>\n",
       "    </tr>\n",
       "    <tr>\n",
       "      <th>2</th>\n",
       "      <td>Tychy</td>\n",
       "      <td>15.546700</td>\n",
       "    </tr>\n",
       "    <tr>\n",
       "      <th>3</th>\n",
       "      <td>Mysłowice</td>\n",
       "      <td>7.585523</td>\n",
       "    </tr>\n",
       "    <tr>\n",
       "      <th>4</th>\n",
       "      <td>Mikołów</td>\n",
       "      <td>13.157140</td>\n",
       "    </tr>\n",
       "  </tbody>\n",
       "</table>\n",
       "</div>"
      ],
      "text/plain": [
       "        City   Distance\n",
       "0     Rybnik  39.284325\n",
       "1    Chorzów   6.703432\n",
       "2      Tychy  15.546700\n",
       "3  Mysłowice   7.585523\n",
       "4    Mikołów  13.157140"
      ]
     },
     "execution_count": 176,
     "metadata": {},
     "output_type": "execute_result"
    }
   ],
   "source": [
    "df1.head()"
   ]
  },
  {
   "cell_type": "markdown",
   "metadata": {},
   "source": [
    "**Traveling Cost:**\n",
    "Now we want to know what will be our average monthly cost for traveling. To do that we need to know some details, such as:\n",
    "\n",
    "- Petrol price (4,5 PLN)\n",
    "- Distance (we have it already)\n",
    "- How many days are we going to travel during a month (~20 * 2 sides)\n",
    "- An average fuel consumption of my car \n",
    "- As the time is the biggest value then we need to calculate it as well. Based on some examples we can say that on average we need 1 min for 1 km   "
   ]
  },
  {
   "cell_type": "code",
   "execution_count": 177,
   "metadata": {},
   "outputs": [],
   "source": [
    "petrol_price = 4.5 # 4,50 PLN per 1 litre\n",
    "fuel_consumption = 6 # 6 litres per 100 km\n",
    "days = 20\n",
    "sides = 2\n",
    "rate_per_hr = 45 # 45 PLN per 1 hour\n",
    "my_sqm = 60 # I need a flat with 60sqm"
   ]
  },
  {
   "cell_type": "code",
   "execution_count": 178,
   "metadata": {},
   "outputs": [],
   "source": [
    "def travel_cost(distance):\n",
    "    res = (distance*days*sides)*fuel_consumption/100*petrol_price\n",
    "    return res"
   ]
  },
  {
   "cell_type": "code",
   "execution_count": 179,
   "metadata": {},
   "outputs": [],
   "source": [
    "df1['Travel_Time_Cost'] = (df1.Distance/60)*sides*days*rate_per_hr"
   ]
  },
  {
   "cell_type": "code",
   "execution_count": 180,
   "metadata": {},
   "outputs": [],
   "source": [
    "df1['Travel_Cost'] = df1.apply(lambda x: travel_cost(x.Distance),axis=1)"
   ]
  },
  {
   "cell_type": "code",
   "execution_count": 181,
   "metadata": {},
   "outputs": [
    {
     "data": {
      "text/html": [
       "<div>\n",
       "<style scoped>\n",
       "    .dataframe tbody tr th:only-of-type {\n",
       "        vertical-align: middle;\n",
       "    }\n",
       "\n",
       "    .dataframe tbody tr th {\n",
       "        vertical-align: top;\n",
       "    }\n",
       "\n",
       "    .dataframe thead th {\n",
       "        text-align: right;\n",
       "    }\n",
       "</style>\n",
       "<table border=\"1\" class=\"dataframe\">\n",
       "  <thead>\n",
       "    <tr style=\"text-align: right;\">\n",
       "      <th></th>\n",
       "      <th>City</th>\n",
       "      <th>Distance</th>\n",
       "      <th>Travel_Time_Cost</th>\n",
       "      <th>Travel_Cost</th>\n",
       "    </tr>\n",
       "  </thead>\n",
       "  <tbody>\n",
       "    <tr>\n",
       "      <th>0</th>\n",
       "      <td>Rybnik</td>\n",
       "      <td>39.284325</td>\n",
       "      <td>1178.529737</td>\n",
       "      <td>424.270705</td>\n",
       "    </tr>\n",
       "    <tr>\n",
       "      <th>1</th>\n",
       "      <td>Chorzów</td>\n",
       "      <td>6.703432</td>\n",
       "      <td>201.102959</td>\n",
       "      <td>72.397065</td>\n",
       "    </tr>\n",
       "    <tr>\n",
       "      <th>2</th>\n",
       "      <td>Tychy</td>\n",
       "      <td>15.546700</td>\n",
       "      <td>466.401003</td>\n",
       "      <td>167.904361</td>\n",
       "    </tr>\n",
       "    <tr>\n",
       "      <th>3</th>\n",
       "      <td>Mysłowice</td>\n",
       "      <td>7.585523</td>\n",
       "      <td>227.565695</td>\n",
       "      <td>81.923650</td>\n",
       "    </tr>\n",
       "    <tr>\n",
       "      <th>4</th>\n",
       "      <td>Mikołów</td>\n",
       "      <td>13.157140</td>\n",
       "      <td>394.714210</td>\n",
       "      <td>142.097116</td>\n",
       "    </tr>\n",
       "  </tbody>\n",
       "</table>\n",
       "</div>"
      ],
      "text/plain": [
       "        City   Distance  Travel_Time_Cost  Travel_Cost\n",
       "0     Rybnik  39.284325       1178.529737   424.270705\n",
       "1    Chorzów   6.703432        201.102959    72.397065\n",
       "2      Tychy  15.546700        466.401003   167.904361\n",
       "3  Mysłowice   7.585523        227.565695    81.923650\n",
       "4    Mikołów  13.157140        394.714210   142.097116"
      ]
     },
     "execution_count": 181,
     "metadata": {},
     "output_type": "execute_result"
    }
   ],
   "source": [
    "df1.head()"
   ]
  },
  {
   "cell_type": "code",
   "execution_count": 182,
   "metadata": {},
   "outputs": [],
   "source": [
    "df1['Travel_Cost'] = df1.Travel_Cost+df1.Travel_Time_Cost"
   ]
  },
  {
   "cell_type": "code",
   "execution_count": 183,
   "metadata": {},
   "outputs": [],
   "source": [
    "df1 = df1.merge(df_sale3.groupby('City')['PriceSqM'].mean().reset_index(),on='City',how='inner')\n",
    "df1.rename(columns={'PriceSqM':'PriceSqM_Sale'},inplace=True)"
   ]
  },
  {
   "cell_type": "code",
   "execution_count": 184,
   "metadata": {},
   "outputs": [],
   "source": [
    "df1 = df1.merge(df_rent3.groupby('City')['PriceSqM'].mean().reset_index(),on='City',how='inner')\n",
    "df1.rename(columns={'PriceSqM':'PriceSqM_Rent'},inplace=True)"
   ]
  },
  {
   "cell_type": "code",
   "execution_count": 185,
   "metadata": {},
   "outputs": [],
   "source": [
    "df1.drop(columns={'Distance','Travel_Time_Cost'},inplace=True)"
   ]
  },
  {
   "cell_type": "markdown",
   "metadata": {},
   "source": [
    "Here we have monthly costs for travel from a city to Katowice, average price for 1 SQM for sale and for rent per each city "
   ]
  },
  {
   "cell_type": "code",
   "execution_count": 186,
   "metadata": {
    "scrolled": false
   },
   "outputs": [
    {
     "data": {
      "text/html": [
       "<div>\n",
       "<style scoped>\n",
       "    .dataframe tbody tr th:only-of-type {\n",
       "        vertical-align: middle;\n",
       "    }\n",
       "\n",
       "    .dataframe tbody tr th {\n",
       "        vertical-align: top;\n",
       "    }\n",
       "\n",
       "    .dataframe thead th {\n",
       "        text-align: right;\n",
       "    }\n",
       "</style>\n",
       "<table border=\"1\" class=\"dataframe\">\n",
       "  <thead>\n",
       "    <tr style=\"text-align: right;\">\n",
       "      <th></th>\n",
       "      <th>City</th>\n",
       "      <th>Travel_Cost</th>\n",
       "      <th>PriceSqM_Sale</th>\n",
       "      <th>PriceSqM_Rent</th>\n",
       "    </tr>\n",
       "  </thead>\n",
       "  <tbody>\n",
       "    <tr>\n",
       "      <th>0</th>\n",
       "      <td>Rybnik</td>\n",
       "      <td>1602.800442</td>\n",
       "      <td>3834.843778</td>\n",
       "      <td>35.847038</td>\n",
       "    </tr>\n",
       "    <tr>\n",
       "      <th>1</th>\n",
       "      <td>Chorzów</td>\n",
       "      <td>273.500024</td>\n",
       "      <td>4025.019545</td>\n",
       "      <td>36.783957</td>\n",
       "    </tr>\n",
       "    <tr>\n",
       "      <th>2</th>\n",
       "      <td>Tychy</td>\n",
       "      <td>634.305364</td>\n",
       "      <td>5329.243409</td>\n",
       "      <td>37.744069</td>\n",
       "    </tr>\n",
       "    <tr>\n",
       "      <th>3</th>\n",
       "      <td>Mysłowice</td>\n",
       "      <td>309.489345</td>\n",
       "      <td>4699.836250</td>\n",
       "      <td>36.023960</td>\n",
       "    </tr>\n",
       "    <tr>\n",
       "      <th>4</th>\n",
       "      <td>Mikołów</td>\n",
       "      <td>536.811326</td>\n",
       "      <td>4479.228889</td>\n",
       "      <td>36.472052</td>\n",
       "    </tr>\n",
       "    <tr>\n",
       "      <th>5</th>\n",
       "      <td>Tarnowskie Góry</td>\n",
       "      <td>1069.858980</td>\n",
       "      <td>3842.281111</td>\n",
       "      <td>29.262273</td>\n",
       "    </tr>\n",
       "    <tr>\n",
       "      <th>6</th>\n",
       "      <td>Gliwice</td>\n",
       "      <td>1177.349716</td>\n",
       "      <td>4643.191667</td>\n",
       "      <td>39.873572</td>\n",
       "    </tr>\n",
       "    <tr>\n",
       "      <th>7</th>\n",
       "      <td>Zabrze</td>\n",
       "      <td>721.737139</td>\n",
       "      <td>4333.499592</td>\n",
       "      <td>35.799860</td>\n",
       "    </tr>\n",
       "    <tr>\n",
       "      <th>8</th>\n",
       "      <td>Ruda Śląska</td>\n",
       "      <td>463.394309</td>\n",
       "      <td>3877.360000</td>\n",
       "      <td>34.843764</td>\n",
       "    </tr>\n",
       "    <tr>\n",
       "      <th>9</th>\n",
       "      <td>Knurów</td>\n",
       "      <td>1066.279361</td>\n",
       "      <td>4046.322000</td>\n",
       "      <td>34.066715</td>\n",
       "    </tr>\n",
       "    <tr>\n",
       "      <th>10</th>\n",
       "      <td>Świętochłowice</td>\n",
       "      <td>380.772385</td>\n",
       "      <td>3962.529333</td>\n",
       "      <td>35.925010</td>\n",
       "    </tr>\n",
       "    <tr>\n",
       "      <th>11</th>\n",
       "      <td>Bytom</td>\n",
       "      <td>539.631183</td>\n",
       "      <td>3496.715278</td>\n",
       "      <td>36.526196</td>\n",
       "    </tr>\n",
       "    <tr>\n",
       "      <th>12</th>\n",
       "      <td>Żory</td>\n",
       "      <td>1375.648411</td>\n",
       "      <td>3983.870909</td>\n",
       "      <td>33.668851</td>\n",
       "    </tr>\n",
       "    <tr>\n",
       "      <th>13</th>\n",
       "      <td>Wodzisław Śląski</td>\n",
       "      <td>2043.422346</td>\n",
       "      <td>3829.958333</td>\n",
       "      <td>36.287383</td>\n",
       "    </tr>\n",
       "    <tr>\n",
       "      <th>14</th>\n",
       "      <td>Katowice</td>\n",
       "      <td>0.000000</td>\n",
       "      <td>6451.022000</td>\n",
       "      <td>42.293320</td>\n",
       "    </tr>\n",
       "  </tbody>\n",
       "</table>\n",
       "</div>"
      ],
      "text/plain": [
       "                City  Travel_Cost  PriceSqM_Sale  PriceSqM_Rent\n",
       "0             Rybnik  1602.800442    3834.843778      35.847038\n",
       "1            Chorzów   273.500024    4025.019545      36.783957\n",
       "2              Tychy   634.305364    5329.243409      37.744069\n",
       "3          Mysłowice   309.489345    4699.836250      36.023960\n",
       "4            Mikołów   536.811326    4479.228889      36.472052\n",
       "5    Tarnowskie Góry  1069.858980    3842.281111      29.262273\n",
       "6            Gliwice  1177.349716    4643.191667      39.873572\n",
       "7             Zabrze   721.737139    4333.499592      35.799860\n",
       "8        Ruda Śląska   463.394309    3877.360000      34.843764\n",
       "9             Knurów  1066.279361    4046.322000      34.066715\n",
       "10    Świętochłowice   380.772385    3962.529333      35.925010\n",
       "11             Bytom   539.631183    3496.715278      36.526196\n",
       "12              Żory  1375.648411    3983.870909      33.668851\n",
       "13  Wodzisław Śląski  2043.422346    3829.958333      36.287383\n",
       "14          Katowice     0.000000    6451.022000      42.293320"
      ]
     },
     "execution_count": 186,
     "metadata": {},
     "output_type": "execute_result"
    }
   ],
   "source": [
    "df1"
   ]
  },
  {
   "cell_type": "markdown",
   "metadata": {},
   "source": [
    "### Profitability calculation\n",
    "Check in which city buying a flat has the biggest sense due to profitability"
   ]
  },
  {
   "cell_type": "markdown",
   "metadata": {},
   "source": [
    "**For Sale:**"
   ]
  },
  {
   "cell_type": "code",
   "execution_count": 187,
   "metadata": {},
   "outputs": [],
   "source": [
    "def profit_calc():\n",
    "    d=pd.concat(\n",
    "        [(((df1[df1.City=='Katowice'].iloc[0,2])*my_sqm-\n",
    "                 (df1['PriceSqM_Sale']*my_sqm))/df1.Travel_Cost/12)\n",
    "               .to_frame(name=\"Profitability\"),df1],axis=1\n",
    "    )[['City','Profitability']].sort_values('Profitability')\n",
    "    d = d[d.City!='Katowice'] # we do not need Katowice as it is our destination\n",
    "    return d"
   ]
  },
  {
   "cell_type": "code",
   "execution_count": 188,
   "metadata": {},
   "outputs": [
    {
     "data": {
      "image/png": "[encoded data removed]",
      "text/plain": [
       "<Figure size 864x504 with 1 Axes>"
      ]
     },
     "metadata": {
      "needs_background": "light"
     },
     "output_type": "display_data"
    }
   ],
   "source": [
    "x = profit_calc().City.values #(for_rent,for_sale) <-choose just one True\n",
    "y = profit_calc().Profitability.values\n",
    "\n",
    "fig, ax = plt.subplots(figsize=(12, 7))\n",
    "plt.bar(x, y)\n",
    "\n",
    "for p in ax.patches:\n",
    "    ax.annotate(np.round(p.get_height().astype(int)),\n",
    "                (p.get_x()+p.get_width()/2,\n",
    "                 p.get_height()),\n",
    "                xytext=(0, 10),\n",
    "                textcoords=\"offset points\",\n",
    "               ha='center',\n",
    "               va='center')\n",
    "plt.ylabel('Years for traveling')  \n",
    "plt.xticks(x, rotation='vertical')\n",
    "\n",
    "plt.show()"
   ]
  },
  {
   "cell_type": "markdown",
   "metadata": {},
   "source": [
    "The columns show how much time do we need for driving to Katowice from the chosen city. So, the bigger value we have in profitability column the better place it is to live there:\n",
    "\n",
    "- due to close situated place between the chosen city and Katowice or/and\n",
    "- much cheaper price for a flat"
   ]
  },
  {
   "cell_type": "markdown",
   "metadata": {},
   "source": [
    "**Short explanation of what we can see in the above table:**\n",
    ">Costs difference between 60 SQM flats in Katowice and Wodzisław will be covered within 6 years of traveling to work in Katowice. So there is no point to travel and it is much better for me to buy a flat in Katowice\n",
    "\n",
    ">Distance between Chorzów and Katowice is so small and average price for a flat is big enough that there is better option for me to find a flat in Chorzów as we need around 33 years of daily traveling to Katowice to cover difference between both properties"
   ]
  },
  {
   "cell_type": "markdown",
   "metadata": {},
   "source": [
    "**For Rent:**"
   ]
  },
  {
   "cell_type": "code",
   "execution_count": 189,
   "metadata": {},
   "outputs": [
    {
     "name": "stdout",
     "output_type": "stream",
     "text": [
      "Monthly rental cost including the rent:\n",
      "- Katowice: 2538 PLN\n",
      "- Tarnowskie Góry: 1756 PLN\n",
      "- Difference: 782 PLN\n",
      "- Travel to Katowice from Tarnowskie Góry: 1070 PLN\n",
      "\n",
      "The cost for travel is higher than difference due to rental costs.\n",
      "So, if we want to rent a flat, then it is much better to do it in Katowice\n"
     ]
    }
   ],
   "source": [
    "kato_rent = \"{:.0f}\".format(df1[df1.City=='Katowice'].iloc[0,3]*my_sqm)\n",
    "tarn_rent = \"{:.0f}\".format(df1[df1.City=='Tarnowskie Góry'].iloc[0,3]*my_sqm)\n",
    "tarn_trav = \"{:.0f}\".format(df1[df1.City=='Tarnowskie Góry'].iloc[0,1])\n",
    "\n",
    "print(f\"Monthly rental cost including the rent:\\n\\\n",
    "- Katowice: {kato_rent} PLN\\n\\\n",
    "- Tarnowskie Góry: {tarn_rent} PLN\\n\\\n",
    "- Difference: {'{:.0f}'.format(float(kato_rent)-float(tarn_rent))} PLN\\n\\\n",
    "- Travel to Katowice from Tarnowskie Góry: {'{:.0f}'.format(df1[df1.City=='Tarnowskie Góry'].iloc[0,1])} PLN\\n\\n\\\n",
    "The cost for travel is higher than difference due to rental costs.\\n\\\n",
    "So, if we want to rent a flat, then it is much better to do it in Katowice\")"
   ]
  },
  {
   "cell_type": "markdown",
   "metadata": {},
   "source": [
    "### Summary:"
   ]
  },
  {
   "cell_type": "markdown",
   "metadata": {},
   "source": [
    "\n",
    "**Comments about the analysis**\n",
    "* I am aware that the property price is changing and the differences between other cities/district might be changed\n",
    "* Distances have been calculated based on coordinates from random (usually centre) place in the cities. If I would choose exact coordinates for each of the districts then the distance will be a bit different\n",
    "* Time for traveling (1min=1km) was calculated based on average time I have checked on google maps. There is a possibility to import \"gmaps\" library and calculate much precise time for each city\n",
    "\n",
    "As the aim of this project was to download data from websites about properties in chosen cities and check how prices of flats look like and where is the best place to live for me if our main 2 features will be price of a property and time for travel between flat and a work place in Katowice.\n",
    "\n",
    "Now I know that if I would look for a place to live, then the most profitable options would be one of the city between Mysłowice, Bytom, Mikołów, Ruda Śląska, Świętochłowice and Chorzów. There we have relatively cheap properties (in comparison to Katowice) and still it is not far from my future work place :) "
   ]
  },
  {
   "cell_type": "markdown",
   "metadata": {},
   "source": [
    "**How about \"For Rent\" properties?:**\n",
    "\n",
    "In case of the \"rent table\" we could see that the price differences between all cities are not significant and if I would like to rent a flat, there the best option would be to do it in the city where I am going to work (as close as possible to a work place)"
   ]
  }
 ],
 "metadata": {
  "kernelspec": {
   "display_name": "Python 3",
   "language": "python",
   "name": "python3"
  },
  "language_info": {
   "codemirror_mode": {
    "name": "ipython",
    "version": 3
   },
   "file_extension": ".py",
   "mimetype": "text/x-python",
   "name": "python",
   "nbconvert_exporter": "python",
   "pygments_lexer": "ipython3",
   "version": "3.7.6"
  },
  "toc": {
   "base_numbering": 1,
   "nav_menu": {
    "height": "410px",
    "width": "682px"
   },
   "number_sections": true,
   "sideBar": true,
   "skip_h1_title": true,
   "title_cell": "Table of Contents",
   "title_sidebar": "Contents",
   "toc_cell": true,
   "toc_position": {},
   "toc_section_display": true,
   "toc_window_display": false
  }
 },
 "nbformat": 4,
 "nbformat_minor": 2
}
